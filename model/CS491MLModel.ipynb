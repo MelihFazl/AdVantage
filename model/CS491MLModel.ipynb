{
  "cells": [
    {
      "cell_type": "markdown",
      "metadata": {
        "id": "V9E0Lj_tGzD1"
      },
      "source": [
        "IMPORTS"
      ]
    },
    {
      "cell_type": "code",
      "execution_count": 3,
      "metadata": {
        "colab": {
          "base_uri": "https://localhost:8080/"
        },
        "id": "vfuYr5k5G1QY",
        "outputId": "694de50a-031e-43a0-a719-d48ebb257011"
      },
      "outputs": [
        {
          "name": "stdout",
          "output_type": "stream",
          "text": [
            "Drive already mounted at /content/drive; to attempt to forcibly remount, call drive.mount(\"/content/drive\", force_remount=True).\n"
          ]
        }
      ],
      "source": [
        "!pip install ijson\n",
        "import pandas as pd\n",
        "import gzip\n",
        "import ijson\n",
        "import json\n",
        "from sklearn.model_selection import train_test_split\n",
        "from sklearn.feature_extraction.text import TfidfVectorizer\n",
        "from xgboost import XGBClassifier\n",
        "from sklearn.metrics import accuracy_score, classification_report\n",
        "from sklearn.pipeline import Pipeline\n",
        "from sklearn.model_selection import GridSearchCV\n",
        "from google.colab import drive\n",
        "drive.mount('/content/drive')"
      ]
    },
    {
      "cell_type": "markdown",
      "metadata": {
        "id": "qtGrHo_MILle"
      },
      "source": [
        "DATA DOWNSIZING"
      ]
    },
    {
      "cell_type": "code",
      "execution_count": 11,
      "metadata": {
        "colab": {
          "base_uri": "https://localhost:8080/"
        },
        "id": "59BCGxSBINGp",
        "outputId": "1f67efcc-d839-4e67-ff13-9c88e0bd7d8c"
      },
      "outputs": [
        {
          "name": "stderr",
          "output_type": "stream",
          "text": [
            "767264 items [05:44, 2227.86 items/s]                        \n"
          ]
        }
      ],
      "source": [
        "ads_dataset_path = '/content/drive/MyDrive/CS491MLMODEL/us/us/ads.json'\n",
        "ads_downsized_path = '/content/drive/MyDrive/CS491MLMODEL/us/us/ads_downsized.json'\n",
        "\n",
        "json_item_heuristic = 767263\n",
        "counter = 0\n",
        "\n",
        "with open(ads_dataset_path, 'r') as input_file:\n",
        "    parser = ijson.items(input_file, 'item')\n",
        "\n",
        "    with open(ads_downsized_path, 'a') as output_file:  # Open output file once\n",
        "        output_file.write('[\\n')\n",
        "        # Use tqdm to create a progress bar\n",
        "        for item in tqdm(parser, total=int(json_item_heuristic), unit=\" items\"):\n",
        "            if counter > json_item_heuristic:\n",
        "                break\n",
        "            counter += 1\n",
        "            json.dump(item, output_file)\n",
        "            if counter + 1 > json_item_heuristic:\n",
        "              output_file.write('\\n')  # Add a newline between items\n",
        "            else:\n",
        "              output_file.write(',\\n')  # Add a newline between items\n",
        "            \n",
        "        output_file.write(']\\n')"
      ]
    }
  ],
  "metadata": {
    "colab": {
      "provenance": []
    },
    "kernelspec": {
      "display_name": "Python 3",
      "name": "python3"
    },
    "language_info": {
      "name": "python"
    }
  },
  "nbformat": 4,
  "nbformat_minor": 0
}
