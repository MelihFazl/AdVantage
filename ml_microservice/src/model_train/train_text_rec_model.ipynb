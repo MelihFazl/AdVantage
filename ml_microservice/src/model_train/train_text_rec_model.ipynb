{
 "cells": [
  {
   "cell_type": "markdown",
   "metadata": {},
   "source": [
    "RECOMMENDATION MODEL TRAINING"
   ]
  },
  {
   "cell_type": "code",
   "execution_count": null,
   "metadata": {},
   "outputs": [],
   "source": [
    "# Determine the split index\n",
    "split_index = int(0.8 * len(ads_dataframe))\n",
    "\n",
    "train_data = ads_dataframe.iloc[:split_index]\n",
    "test_data = ads_dataframe.iloc[split_index:]\n",
    "\n",
    "# Vectorize the text data using TF-IDF\n",
    "max_features = 50  # Choose the top most important words\n",
    "vectorizer = TfidfVectorizer(max_features = max_features, stop_words='english')\n",
    "X_train_suggestion = vectorizer.fit_transform(train_data['ad_creative_bodies'])\n",
    "X_test_suggestion = vectorizer.transform(test_data['ad_creative_bodies'])\n",
    "\n",
    "# Train a regression model\n",
    "gb_regressor_suggestion = GradientBoostingRegressor(n_estimators=100, learning_rate=0.1, max_depth=3, random_state=42)\n",
    "gb_regressor_suggestion.fit(X_train_suggestion, train_data['cpi'])"
   ]
  }
 ],
 "metadata": {
  "language_info": {
   "name": "python"
  }
 },
 "nbformat": 4,
 "nbformat_minor": 2
}
