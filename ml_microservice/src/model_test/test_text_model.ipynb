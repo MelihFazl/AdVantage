{
 "cells": [
  {
   "cell_type": "markdown",
   "metadata": {},
   "source": [
    "TEST WITH NDCG"
   ]
  },
  {
   "cell_type": "code",
   "execution_count": null,
   "metadata": {},
   "outputs": [],
   "source": [
    "# Function to create subsets of data\n",
    "def create_data_subsets(data, group_size):\n",
    "    grouped_data = [data.iloc[i : i + group_size] for i in range(0 , data.shape[0], group_size)]\n",
    "    return grouped_data\n",
    "\n",
    "def calculate_ndcg_for_groups(groups, model):\n",
    "    ndcg_scores = []\n",
    "    for group in tqdm(groups, total=len(groups), unit=\" items\"):\n",
    "        tokenized_X_train_group = group['ad_creative_bodies'].apply(tokenize_and_remove_stopwords)\n",
    "        X_train_word2vec_group = generate_doc_vectors(tokenized_X_train_group, word2vec_model, 100)\n",
    "\n",
    "        y_group_pred = model.predict(X_train_word2vec_group)\n",
    "\n",
    "        # Assuming lower CPI values are more relevant\n",
    "        relevance_scores = 1 / y_group_pred\n",
    "\n",
    "        # Normalize relevance scores (optional)\n",
    "        #relevance_scores = (relevance_scores - np.min(relevance_scores)) / (np.max(relevance_scores) - np.min(relevance_scores))\n",
    "\n",
    "        y_group_true = 1 / group['cpi'].values\n",
    "\n",
    "        try:\n",
    "            ndcg = ndcg_score([y_group_true], [relevance_scores])\n",
    "            ndcg_scores.append(ndcg)\n",
    "        except Exception as e:\n",
    "            print(y_group_true)\n",
    "            print(relevance_scores)\n",
    "\n",
    "    return ndcg_scores\n",
    "\n",
    "group_size = 4\n",
    "test_data_subsets = create_data_subsets(test_data, group_size)\n",
    "\n",
    "ndcg_scores = calculate_ndcg_for_groups(test_data_subsets, gb_regressor)"
   ]
  },
  {
   "cell_type": "markdown",
   "metadata": {},
   "source": [
    "PRINT NDCG SCORES"
   ]
  },
  {
   "cell_type": "code",
   "execution_count": null,
   "metadata": {},
   "outputs": [],
   "source": [
    "# Combine NDCG scores across groups (simple average in this example)\n",
    "average_ndcg_across_groups = sum(ndcg_scores) / len(ndcg_scores)\n",
    "\n",
    "print(f\"Average NDCG Across Groups: {round(average_ndcg_across_groups,2)}\")"
   ]
  }
 ],
 "metadata": {
  "language_info": {
   "name": "python"
  }
 },
 "nbformat": 4,
 "nbformat_minor": 2
}
