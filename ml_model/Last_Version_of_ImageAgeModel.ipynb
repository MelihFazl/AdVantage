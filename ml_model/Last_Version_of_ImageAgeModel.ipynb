{
  "cells": [
    {
      "cell_type": "code",
      "execution_count": null,
      "metadata": {
        "colab": {
          "base_uri": "https://localhost:8080/"
        },
        "id": "nqwjilu0iB5s",
        "outputId": "2f779371-00ab-4084-93f5-b9f01692b389"
      },
      "outputs": [
        {
          "output_type": "stream",
          "name": "stdout",
          "text": [
            "Downloading...\n",
            "From (original): https://drive.google.com/uc?id=1PR8wFoXo7RGFv4mbJfI63wFaMtO9DiKw\n",
            "From (redirected): https://drive.google.com/uc?id=1PR8wFoXo7RGFv4mbJfI63wFaMtO9DiKw&confirm=t&uuid=a8cb388e-978e-47b3-b0ee-3eb8f7cb62a0\n",
            "To: /content/images2.zip\n",
            "100% 348M/348M [00:06<00:00, 54.4MB/s]\n"
          ]
        }
      ],
      "source": [
        "from google.colab import drive\n",
        "import os\n",
        "import gdown # Library to download files from Google Drive\n",
        "!gdown 1PR8wFoXo7RGFv4mbJfI63wFaMtO9DiKw # Google Drive ID of the zip file to be downloaded\n"
      ]
    },
    {
      "cell_type": "code",
      "execution_count": null,
      "metadata": {
        "id": "Kc-whf_TnQwv"
      },
      "outputs": [],
      "source": [
        "!unzip -oq images2 # Unzip the file downloaded. Options -o and -q overwrites the files if exists already and disables printing out the extracted files, respectively."
      ]
    },
    {
      "cell_type": "code",
      "execution_count": null,
      "metadata": {
        "id": "fEAUVfFblvle"
      },
      "outputs": [],
      "source": [
        "\n",
        "root_dir = '/content/images'\n"
      ]
    },
    {
      "cell_type": "code",
      "execution_count": null,
      "metadata": {
        "colab": {
          "base_uri": "https://localhost:8080/",
          "height": 105
        },
        "id": "X3NGIIAB5Dl8",
        "outputId": "7ef22c73-1bb2-4fe4-e594-77a3173d6fa2"
      },
      "outputs": [
        {
          "output_type": "stream",
          "name": "stderr",
          "text": [
            "Downloading...\n",
            "From: https://drive.google.com/uc?id=1UMZJl_B7Nwg3As33Cw9Pr9aHa-TszkW2\n",
            "To: /content/ad_responses.json\n",
            "100%|██████████| 31.1M/31.1M [00:00<00:00, 63.4MB/s]\n"
          ]
        },
        {
          "output_type": "execute_result",
          "data": {
            "text/plain": [
              "'/content/ad_responses.json'"
            ],
            "application/vnd.google.colaboratory.intrinsic+json": {
              "type": "string"
            }
          },
          "metadata": {},
          "execution_count": 4
        }
      ],
      "source": [
        "import gdown\n",
        "\n",
        "# Define the Google Drive file ID for the responses.json file\n",
        "file_id = '1UMZJl_B7Nwg3As33Cw9Pr9aHa-TszkW2'\n",
        "\n",
        "# Define the output path for the downloaded file\n",
        "output_path = '/content/ad_responses.json'\n",
        "\n",
        "# Download the file using gdown\n",
        "gdown.download(f'https://drive.google.com/uc?id={file_id}', output_path, quiet=False)\n"
      ]
    },
    {
      "cell_type": "markdown",
      "metadata": {
        "id": "JpK8klYAq51E"
      },
      "source": [
        "#AGE MODEL"
      ]
    },
    {
      "cell_type": "code",
      "execution_count": null,
      "metadata": {
        "id": "LvGUsA3FczEx"
      },
      "outputs": [],
      "source": [
        "import json\n",
        "import os\n",
        "from PIL import Image\n",
        "import numpy as np\n",
        "import pickle\n",
        "\n",
        "# Load the JSON data\n",
        "responses_file = '/content/ad_responses.json'\n",
        "with open(responses_file, 'r') as f:\n",
        "    data = json.load(f)\n",
        "\n",
        "# Create a dictionary to map '_id' to ad_info for faster lookup\n",
        "ad_info_dict = {info['_id']: info for info in data.values() if '_id' in info}\n",
        "# Define the root directory for images\n",
        "images_dir = '/content/images'\n",
        "\n",
        "# Define the target dimensions for resizing images (lower resolution for efficiency)\n",
        "target_width = 512   # Lower resolution\n",
        "target_height = 512  # Lower resolution\n",
        "\n",
        "# Initialize lists to store calculated and extracted features\n",
        "campaign_data = []\n",
        "\n",
        "# Define the function to calculate age group percentages\n",
        "def calculate_age_group(demographics):\n",
        "    age_groups = {\n",
        "        'age-13-17': 0,\n",
        "        'age-18-24': 0,\n",
        "        'age-25-34': 0,\n",
        "        'age-35-44': 0,\n",
        "        'age-45-54': 0,\n",
        "        'age-55-64': 0,\n",
        "        'age-65+': 0\n",
        "    }\n",
        "    for demo in demographics:\n",
        "        age = demo['age']\n",
        "        percentage = float(demo['percentage'])\n",
        "        if age == '18-24':\n",
        "            age_groups['age-18-24'] += percentage\n",
        "        elif age == '25-34':\n",
        "            age_groups['age-25-34'] += percentage\n",
        "        elif age == '35-44':\n",
        "            age_groups['age-35-44'] += percentage\n",
        "        elif age == '45-54':\n",
        "            age_groups['age-45-54'] += percentage\n",
        "        elif age == '55-64':\n",
        "            age_groups['age-55-64'] += percentage\n",
        "        elif age == '65+':\n",
        "            age_groups['age-65+'] += percentage\n",
        "        else:\n",
        "            age_groups['age-13-17'] += percentage  # Assuming all other ages fall into this category\n",
        "    return age_groups\n",
        "\n",
        "# Iterate through each image in the images directory\n",
        "for filename in os.listdir(images_dir):\n",
        "    if filename.endswith(\".jpg\"):  # Check if the file is a JPEG image\n",
        "        image_id = filename.split('.')[0]  # Extract ID from filename\n",
        "        for key, value in ad_info_dict.items():\n",
        "            if '_id' in value and value['_id'] == image_id:\n",
        "                ad_info = value\n",
        "                image_path = os.path.join(images_dir, filename)\n",
        "                '''\n",
        "                # Load and preprocess the image\n",
        "                with Image.open(image_path) as img:\n",
        "                    img = img.convert('RGB')  # Convert image to RGB format\n",
        "                    img = img.resize((target_width, target_height))  # Resize image to lower resolution\n",
        "                    img_array = np.array(img)  # Convert image to numpy array\n",
        "                '''\n",
        "                # Process only the necessary data to reduce memory load\n",
        "                avg_spend = np.mean([int(ad_info.get(\"spend\", {}).get(\"lower_bound\", 0)), int(ad_info.get(\"spend\", {}).get(\"upper_bound\", 0))])\n",
        "                avg_impressions = np.mean([int(ad_info.get(\"impressions\", {}).get(\"lower_bound\", 0)), int(ad_info.get(\"impressions\", {}).get(\"upper_bound\", 0))])\n",
        "                cost_per_impression = avg_spend / avg_impressions if avg_impressions > 0 else float('inf')\n",
        "\n",
        "                # Calculate age group percentages\n",
        "                age_groups = calculate_age_group(ad_info.get('demographic_distribution', []))\n",
        "                ad_creative_bodies = ad_info.get('ad_creative_bodies', [])\n",
        "\n",
        "                # Append only necessary info to reduce memory footprint\n",
        "                campaign_data.append({\n",
        "                    \"ad_id\": ad_info.get('_id', ''),\n",
        "                    \"cpi\": cost_per_impression,\n",
        "                    \"text\": ad_creative_bodies,\n",
        "                #    \"image_data\": img_array.flatten().tolist(),  # Flatten and convert to list to minimize size\n",
        "                    \"age_groups\": age_groups\n",
        "                })\n",
        "                break\n",
        "\n"
      ]
    },
    {
      "cell_type": "code",
      "execution_count": null,
      "metadata": {
        "colab": {
          "base_uri": "https://localhost:8080/"
        },
        "id": "a44uG_Enr0St",
        "outputId": "cd33b66a-a732-42a7-e867-b8cdbf390e3d"
      },
      "outputs": [
        {
          "output_type": "stream",
          "name": "stdout",
          "text": [
            "Desired Age Groups: {'age-13-17': 0, 'age-18-24': 0, 'age-25-34': 0, 'age-35-44': 0.360085, 'age-45-54': 0.275885, 'age-55-64': 0.198697, 'age-65+': 0.165333}\n"
          ]
        }
      ],
      "source": [
        "desired_id = \"1015416348631325\"\n",
        "desired_age_groups = None\n",
        "\n",
        "for item in campaign_data:\n",
        "    if item[\"ad_id\"] == desired_id:\n",
        "        desired_age_groups = item[\"age_groups\"]\n",
        "        break  # Assuming you want to stop after finding the first match\n",
        "\n",
        "if desired_age_groups is not None:\n",
        "    print(\"Desired Age Groups:\", desired_age_groups)\n",
        "else:\n",
        "    print(\"Desired ID not found in campaign_data.\")\n"
      ]
    },
    {
      "cell_type": "markdown",
      "metadata": {
        "id": "rTDFblMDInov"
      },
      "source": [
        "##Data Preprocessing"
      ]
    },
    {
      "cell_type": "markdown",
      "metadata": {
        "id": "SOUK4LpB_WHR"
      },
      "source": [
        "#Age Distribution Model"
      ]
    },
    {
      "cell_type": "code",
      "execution_count": null,
      "metadata": {
        "id": "6LTXfo58bRoF"
      },
      "outputs": [],
      "source": [
        "import tensorflow as tf\n",
        "from tensorflow.keras.utils import Sequence, to_categorical\n",
        "from tensorflow.keras.preprocessing.image import img_to_array, load_img\n",
        "import numpy as np\n",
        "import os\n",
        "\n",
        "class DataGenerator(tf.keras.utils.Sequence):\n",
        "    def __init__(self, image_filenames,  labels_age_groups, image_directory, batch_size, dim=(224, 224), n_channels=3, shuffle=True):\n",
        "        self.image_filenames = image_filenames  # This should be a list of IDs\n",
        "        self.labels_age_groups = labels_age_groups  # This should be a dictionary {id: age_group_index}\n",
        "        self.image_directory = image_directory\n",
        "        self.batch_size = batch_size\n",
        "        self.dim = dim\n",
        "        self.n_channels = n_channels\n",
        "        self.shuffle = shuffle\n",
        "\n",
        "    def __len__(self):\n",
        "        return int(np.floor(len(self.image_filenames) / self.batch_size))\n",
        "\n",
        "    def __getitem__(self, idx):\n",
        "        batch_x = self.image_filenames[idx * self.batch_size:(idx + 1) * self.batch_size]\n",
        "        batch_y_age_groups = [self.labels_age_groups[x] for x in batch_x if x in self.labels_age_groups]\n",
        "\n",
        "        batch_y_age_groups  = np.array(batch_y_age_groups)\n",
        "        # Call the __data_generation method with batch_x\n",
        "        images= self.__data_generation(batch_x)\n",
        "\n",
        "\n",
        "\n",
        "        return images,batch_y_age_groups\n",
        "\n",
        "\n",
        "\n",
        "    def on_epoch_end(self):\n",
        "        'Updates indexes after each epoch'\n",
        "        self.indexes = np.arange(len(self.image_filenames))\n",
        "        if self.shuffle == True:\n",
        "            np.random.shuffle(self.indexes)\n",
        "\n",
        "    def __data_generation(self, image_filenames_temp):\n",
        "        'Generates data containing batch_size samples' # X : (n_samples, *dim, n_channels)\n",
        "        # Initialization\n",
        "        X = np.empty((self.batch_size, *self.dim, self.n_channels))\n",
        "\n",
        "        # Generate data\n",
        "        for i, image_filename in enumerate(image_filenames_temp):\n",
        "            # Store sample\n",
        "            img = load_img(os.path.join(self.image_directory, image_filename + '.jpg'), target_size=self.dim)\n",
        "            X[i,] = img_to_array(img) / 255.0\n",
        "\n",
        "\n",
        "\n",
        "        return X\n"
      ]
    },
    {
      "cell_type": "code",
      "execution_count": null,
      "metadata": {
        "colab": {
          "base_uri": "https://localhost:8080/"
        },
        "id": "SkfJ4SWO1odf",
        "outputId": "b737700b-77dc-439f-9074-3cd2c215a873"
      },
      "outputs": [
        {
          "name": "stdout",
          "output_type": "stream",
          "text": [
            "Num GPUs Available:  1\n",
            "TensorFlow will run on GPU\n",
            "1 Physical GPUs, 1 Logical GPUs\n"
          ]
        }
      ],
      "source": [
        "import tensorflow as tf\n",
        "\n",
        "# Check TensorFlow GPU usage\n",
        "print(\"Num GPUs Available: \", len(tf.config.list_physical_devices('GPU')))\n",
        "if tf.config.list_physical_devices('GPU'):\n",
        "    print(\"TensorFlow will run on GPU\")\n",
        "else:\n",
        "    print(\"TensorFlow will run on CPU\")\n",
        "\n",
        "gpus = tf.config.experimental.list_physical_devices('GPU')\n",
        "if gpus:\n",
        "    try:\n",
        "        # Currently, memory growth needs to be the same across GPUs\n",
        "        for gpu in gpus:\n",
        "            tf.config.experimental.set_memory_growth(gpu, True)\n",
        "        logical_gpus = tf.config.experimental.list_logical_devices('GPU')\n",
        "        print(len(gpus), \"Physical GPUs,\", len(logical_gpus), \"Logical GPUs\")\n",
        "    except RuntimeError as e:\n",
        "        # Memory growth must be set before GPUs have been initialized\n",
        "        print(e)\n"
      ]
    },
    {
      "cell_type": "code",
      "execution_count": null,
      "metadata": {
        "id": "DNQgblE9DSZ_"
      },
      "outputs": [],
      "source": [
        "del model_age_groups"
      ]
    },
    {
      "cell_type": "code",
      "execution_count": null,
      "metadata": {
        "colab": {
          "base_uri": "https://localhost:8080/"
        },
        "id": "pY_wKMjcIgpK",
        "outputId": "824b263a-c675-430a-adcc-2405eb5a52de"
      },
      "outputs": [
        {
          "output_type": "stream",
          "name": "stdout",
          "text": [
            "Collecting tensorflow-addons\n",
            "  Downloading tensorflow_addons-0.23.0-cp310-cp310-manylinux_2_17_x86_64.manylinux2014_x86_64.whl (611 kB)\n",
            "\u001b[?25l     \u001b[90m━━━━━━━━━━━━━━━━━━━━━━━━━━━━━━━━━━━━━━━━\u001b[0m \u001b[32m0.0/611.8 kB\u001b[0m \u001b[31m?\u001b[0m eta \u001b[36m-:--:--\u001b[0m\r\u001b[2K     \u001b[91m━━━━━━━━━━━━━━━━\u001b[0m\u001b[91m╸\u001b[0m\u001b[90m━━━━━━━━━━━━━━━━━━━━━━━\u001b[0m \u001b[32m256.0/611.8 kB\u001b[0m \u001b[31m7.4 MB/s\u001b[0m eta \u001b[36m0:00:01\u001b[0m\r\u001b[2K     \u001b[90m━━━━━━━━━━━━━━━━━━━━━━━━━━━━━━━━━━━━━━━━\u001b[0m \u001b[32m611.8/611.8 kB\u001b[0m \u001b[31m8.9 MB/s\u001b[0m eta \u001b[36m0:00:00\u001b[0m\n",
            "\u001b[?25hRequirement already satisfied: packaging in /usr/local/lib/python3.10/dist-packages (from tensorflow-addons) (24.0)\n",
            "Collecting typeguard<3.0.0,>=2.7 (from tensorflow-addons)\n",
            "  Downloading typeguard-2.13.3-py3-none-any.whl (17 kB)\n",
            "Installing collected packages: typeguard, tensorflow-addons\n",
            "Successfully installed tensorflow-addons-0.23.0 typeguard-2.13.3\n"
          ]
        }
      ],
      "source": [
        "!pip install tensorflow-addons"
      ]
    },
    {
      "cell_type": "code",
      "execution_count": null,
      "metadata": {
        "id": "fedkgJPvcqG4"
      },
      "outputs": [],
      "source": [
        "import tensorflow as tf\n",
        "from tensorflow.keras.models import Sequential, Model\n",
        "from tensorflow.keras.losses import kld\n",
        "from tensorflow.keras.layers import Conv2D, MaxPooling2D, Flatten, Dense, Input, Dropout\n",
        "from sklearn.model_selection import train_test_split\n",
        "from PIL import Image\n",
        "from transformers import AdamW\n",
        "import tensorflow_addons as tfa\n",
        "\n",
        "labels_age_groups = {item['ad_id']: list(item['age_groups'].values()) for item in campaign_data}  # Ensure this mapping is correct\n",
        "image_filenames = [item['ad_id'] for item in campaign_data]  # IDs should match exactly in labels\n",
        "# Splitting the dataset\n",
        "image_filenames_train, image_filenames_test,  labels_age_groups_train, labels_age_groups_test = train_test_split(\n",
        "    image_filenames,[labels_age_groups[id] for id in image_filenames], test_size=0.2, random_state=42)\n",
        "# Create the generator for CPI\n",
        "batch_size = 11  # Depends on your available memory\n",
        "# Example instantiation and model fitting\n",
        "train_generator = DataGenerator(image_filenames_train, dict(zip(image_filenames_train, labels_age_groups_train)), '/content/images', batch_size)\n",
        "test_generator = DataGenerator(image_filenames_test,  dict(zip(image_filenames_test, labels_age_groups_test)), '/content/images', batch_size)\n",
        "\n",
        "# Define your model's input shape based on the data dimensions you will train on\n",
        "input_shape = (224, 224, 3)  # Modify according to your resized image dimensions\n",
        "\n"
      ]
    },
    {
      "cell_type": "markdown",
      "source": [
        "###OLD MODEL\n"
      ],
      "metadata": {
        "id": "ThFtK2OfZJmq"
      }
    },
    {
      "cell_type": "code",
      "source": [
        "#OLD MODEL\n",
        "model_age_groups = Sequential([\n",
        "    Conv2D(32, (3, 3), activation='relu', input_shape=input_shape),\n",
        "    MaxPooling2D(2, 2),\n",
        "    Conv2D(64, (3, 3), activation='relu'),\n",
        "    MaxPooling2D(2, 2),\n",
        "    Flatten(),\n",
        "    Dense(128, activation='relu'),\n",
        "    Dropout(0.5),  # Add a dropout layer with dropout rate of 0.5 (adjust as needed)\n",
        "    Dense(7, activation='softmax', name='age_output')  # Change the number of outputs to 1\n",
        "])\n",
        "# Compile the model for age distribution prediction\n",
        "optimizer = tfa.optimizers.AdamW(learning_rate=5e-5, weight_decay=0.0005)\n",
        "model_age_groups.compile(optimizer=optimizer, loss='kl_divergence', metrics=['accuracy'])\n",
        "input_layer = tf.keras.Input(shape=(224, 224, 3))\n",
        "\n",
        "# Combine both models into a single model\n",
        "#combined_model_input = tf.keras.Input(shape=input_shape)\n",
        "#cpi_output = model_cpi(combined_model_input)\n",
        "#age_output = model_age_groups(input_layer)\n",
        "\n",
        "#combined_model = Model(inputs=combined_model_input, outputs=[cpi_output, age_output])\n",
        "\n",
        "# Compile the combined model with appropriate loss functions and metrics\n",
        "#combined_model.compile(optimizer='adam', loss=['mean_absolute_error', 'categorical_crossentropy'], metrics=['mean_squared_error', 'accuracy'])\n",
        "\n",
        "# Show the model structure\n",
        "#combined_model.summary()\n",
        "#model_age_groups\n",
        "# Now use this combined model with both generators directly in model.fit\n",
        "\n"
      ],
      "metadata": {
        "id": "XC7b1-BXZIlu"
      },
      "execution_count": null,
      "outputs": []
    },
    {
      "cell_type": "code",
      "execution_count": null,
      "metadata": {
        "id": "dwFGi9BoL81z"
      },
      "outputs": [],
      "source": [
        "del model_age_groups"
      ]
    },
    {
      "cell_type": "code",
      "execution_count": null,
      "metadata": {
        "colab": {
          "base_uri": "https://localhost:8080/"
        },
        "id": "78hyxnytC23E",
        "outputId": "1ca96c1b-91b1-46e2-f7bd-385355c63927"
      },
      "outputs": [
        {
          "output_type": "stream",
          "name": "stdout",
          "text": [
            "Epoch 1/25\n",
            "117/117 [==============================] - 26s 214ms/step - loss: 0.3249 - accuracy: 0.2207 - val_loss: 0.2729 - val_accuracy: 0.1317\n",
            "Epoch 2/25\n",
            "117/117 [==============================] - 24s 205ms/step - loss: 0.3010 - accuracy: 0.2246 - val_loss: 0.2642 - val_accuracy: 0.3386\n",
            "Epoch 3/25\n",
            "117/117 [==============================] - 26s 219ms/step - loss: 0.2875 - accuracy: 0.2098 - val_loss: 0.2573 - val_accuracy: 0.3887\n",
            "Epoch 4/25\n",
            "117/117 [==============================] - 24s 205ms/step - loss: 0.2783 - accuracy: 0.2471 - val_loss: 0.2511 - val_accuracy: 0.3950\n",
            "Epoch 5/25\n",
            "117/117 [==============================] - 24s 206ms/step - loss: 0.2644 - accuracy: 0.2805 - val_loss: 0.2525 - val_accuracy: 0.3824\n",
            "Epoch 6/25\n",
            "117/117 [==============================] - 23s 194ms/step - loss: 0.2640 - accuracy: 0.2665 - val_loss: 0.2534 - val_accuracy: 0.2915\n",
            "Epoch 7/25\n",
            "117/117 [==============================] - 24s 204ms/step - loss: 0.2554 - accuracy: 0.2805 - val_loss: 0.2517 - val_accuracy: 0.2884\n",
            "Epoch 8/25\n",
            "117/117 [==============================] - 24s 203ms/step - loss: 0.2490 - accuracy: 0.3131 - val_loss: 0.2509 - val_accuracy: 0.3197\n",
            "Epoch 9/25\n",
            "117/117 [==============================] - 23s 198ms/step - loss: 0.2446 - accuracy: 0.3155 - val_loss: 0.2588 - val_accuracy: 0.3605\n",
            "Epoch 10/25\n",
            "117/117 [==============================] - 24s 205ms/step - loss: 0.2404 - accuracy: 0.3085 - val_loss: 0.2440 - val_accuracy: 0.4107\n",
            "Epoch 11/25\n",
            "117/117 [==============================] - 24s 207ms/step - loss: 0.2391 - accuracy: 0.3209 - val_loss: 0.2468 - val_accuracy: 0.3887\n",
            "Epoch 12/25\n",
            "117/117 [==============================] - 24s 203ms/step - loss: 0.2315 - accuracy: 0.3139 - val_loss: 0.2441 - val_accuracy: 0.2727\n",
            "Epoch 13/25\n",
            "117/117 [==============================] - 24s 206ms/step - loss: 0.2290 - accuracy: 0.3364 - val_loss: 0.2446 - val_accuracy: 0.4138\n",
            "Epoch 14/25\n",
            "117/117 [==============================] - 24s 205ms/step - loss: 0.2238 - accuracy: 0.3574 - val_loss: 0.2443 - val_accuracy: 0.3887\n",
            "Epoch 15/25\n",
            "117/117 [==============================] - 23s 196ms/step - loss: 0.2216 - accuracy: 0.3395 - val_loss: 0.2427 - val_accuracy: 0.3918\n",
            "Epoch 16/25\n",
            "117/117 [==============================] - 24s 204ms/step - loss: 0.2172 - accuracy: 0.3551 - val_loss: 0.2425 - val_accuracy: 0.4044\n",
            "Epoch 17/25\n",
            "117/117 [==============================] - 24s 203ms/step - loss: 0.2176 - accuracy: 0.3427 - val_loss: 0.2412 - val_accuracy: 0.3856\n",
            "Epoch 18/25\n",
            "117/117 [==============================] - 25s 215ms/step - loss: 0.2134 - accuracy: 0.3590 - val_loss: 0.2407 - val_accuracy: 0.4044\n",
            "Epoch 19/25\n",
            "117/117 [==============================] - 24s 203ms/step - loss: 0.2140 - accuracy: 0.3714 - val_loss: 0.2398 - val_accuracy: 0.3699\n",
            "Epoch 20/25\n",
            "117/117 [==============================] - 24s 202ms/step - loss: 0.2116 - accuracy: 0.3574 - val_loss: 0.2406 - val_accuracy: 0.3260\n",
            "Epoch 21/25\n",
            "117/117 [==============================] - 23s 197ms/step - loss: 0.2136 - accuracy: 0.3737 - val_loss: 0.2393 - val_accuracy: 0.3887\n",
            "Epoch 22/25\n",
            "117/117 [==============================] - 24s 207ms/step - loss: 0.2101 - accuracy: 0.3543 - val_loss: 0.2398 - val_accuracy: 0.3668\n",
            "Epoch 23/25\n",
            "117/117 [==============================] - 24s 203ms/step - loss: 0.2095 - accuracy: 0.3706 - val_loss: 0.2398 - val_accuracy: 0.3386\n",
            "Epoch 24/25\n",
            "117/117 [==============================] - 24s 205ms/step - loss: 0.2046 - accuracy: 0.4033 - val_loss: 0.2399 - val_accuracy: 0.3480\n",
            "Epoch 25/25\n",
            "117/117 [==============================] - 24s 207ms/step - loss: 0.2060 - accuracy: 0.3932 - val_loss: 0.2403 - val_accuracy: 0.3887\n"
          ]
        }
      ],
      "source": [
        "history = model_age_groups.fit(train_generator, epochs=25, validation_data=test_generator)"
      ]
    },
    {
      "cell_type": "markdown",
      "source": [
        "###PRE-Trained New Model"
      ],
      "metadata": {
        "id": "gpRUXYESZN6Y"
      }
    },
    {
      "cell_type": "code",
      "execution_count": null,
      "metadata": {
        "colab": {
          "base_uri": "https://localhost:8080/"
        },
        "id": "i4GnMVqLdzNf",
        "outputId": "c9bdcdf3-24cb-419e-e044-6e272db20395"
      },
      "outputs": [
        {
          "name": "stdout",
          "output_type": "stream",
          "text": [
            "Epoch 1/15\n",
            "117/117 [==============================] - 28s 226ms/step - loss: 0.3061 - accuracy: 0.2479 - val_loss: 0.2482 - val_accuracy: 0.2727\n",
            "Epoch 2/15\n",
            "117/117 [==============================] - 26s 221ms/step - loss: 0.2020 - accuracy: 0.3994 - val_loss: 0.2556 - val_accuracy: 0.3480\n",
            "Epoch 3/15\n",
            "117/117 [==============================] - 26s 223ms/step - loss: 0.1643 - accuracy: 0.4848 - val_loss: 0.2397 - val_accuracy: 0.3636\n",
            "Epoch 4/15\n",
            "117/117 [==============================] - 29s 248ms/step - loss: 0.1369 - accuracy: 0.5486 - val_loss: 0.2479 - val_accuracy: 0.2571\n",
            "Epoch 5/15\n",
            "117/117 [==============================] - 26s 222ms/step - loss: 0.1217 - accuracy: 0.5866 - val_loss: 0.2526 - val_accuracy: 0.3511\n",
            "Epoch 6/15\n",
            "117/117 [==============================] - 26s 222ms/step - loss: 0.1119 - accuracy: 0.6387 - val_loss: 0.2475 - val_accuracy: 0.3166\n",
            "Epoch 7/15\n",
            "117/117 [==============================] - 26s 221ms/step - loss: 0.1072 - accuracy: 0.6224 - val_loss: 0.2451 - val_accuracy: 0.3417\n",
            "Epoch 8/15\n",
            "117/117 [==============================] - 26s 220ms/step - loss: 0.0979 - accuracy: 0.6208 - val_loss: 0.2507 - val_accuracy: 0.3511\n",
            "Epoch 9/15\n",
            "117/117 [==============================] - 26s 223ms/step - loss: 0.0937 - accuracy: 0.6348 - val_loss: 0.2534 - val_accuracy: 0.2665\n",
            "Epoch 10/15\n",
            "117/117 [==============================] - 32s 270ms/step - loss: 0.0910 - accuracy: 0.6519 - val_loss: 0.2458 - val_accuracy: 0.2915\n",
            "Epoch 11/15\n",
            "117/117 [==============================] - 26s 226ms/step - loss: 0.0868 - accuracy: 0.6558 - val_loss: 0.2563 - val_accuracy: 0.3229\n",
            "Epoch 12/15\n",
            "117/117 [==============================] - 26s 218ms/step - loss: 0.0863 - accuracy: 0.6542 - val_loss: 0.2557 - val_accuracy: 0.2947\n",
            "Epoch 13/15\n",
            "117/117 [==============================] - 26s 219ms/step - loss: 0.0838 - accuracy: 0.6542 - val_loss: 0.2497 - val_accuracy: 0.2476\n",
            "Epoch 14/15\n",
            "117/117 [==============================] - 31s 261ms/step - loss: 0.0834 - accuracy: 0.6573 - val_loss: 0.2450 - val_accuracy: 0.3511\n",
            "Epoch 15/15\n",
            "117/117 [==============================] - 27s 233ms/step - loss: 0.0799 - accuracy: 0.6581 - val_loss: 0.2586 - val_accuracy: 0.4263\n",
            "29/29 [==============================] - 6s 188ms/step - loss: 0.2586 - accuracy: 0.4263\n",
            "Test Loss: 0.25860917568206787\n",
            "Test Accuracy: 0.4263322949409485\n"
          ]
        }
      ],
      "source": [
        "import tensorflow as tf\n",
        "from tensorflow.keras.applications import VGG16\n",
        "from tensorflow.keras.models import Model\n",
        "from tensorflow.keras.layers import Dense, Flatten\n",
        "from transformers import AdamW\n",
        "\n",
        "# Load the pre-trained VGG16 model (without the fully connected layers)\n",
        "base_model = VGG16(weights='imagenet', include_top=False, input_shape=(224, 224, 3))\n",
        "\n",
        "# Freeze the layers of the pre-trained model\n",
        "for layer in base_model.layers:\n",
        "    layer.trainable = False\n",
        "\n",
        "# Add your own classification layers on top of the pre-trained model\n",
        "x = Flatten()(base_model.output)\n",
        "x = Dense(512, activation='relu')(x)\n",
        "predictions = Dense(7, activation='softmax')(x)  # 7 classes for age groups\n",
        "\n",
        "# Create the final model\n",
        "model = Model(inputs=base_model.input, outputs=predictions)\n",
        "optimizer = tfa.optimizers.AdamW(learning_rate=5e-5, weight_decay=0.0005)\n",
        "\n",
        "# Compile the model\n",
        "model.compile(optimizer=optimizer, loss='kl_divergence', metrics=['accuracy'])\n",
        "\n",
        "# Train the model with your data\n",
        "history = model.fit(train_generator, epochs=15, validation_data=test_generator)\n",
        "\n",
        "# Evaluate the model\n",
        "test_loss, test_accuracy = model.evaluate(test_generator)\n",
        "print(\"Test Loss:\", test_loss)\n",
        "print(\"Test Accuracy:\", test_accuracy)\n"
      ]
    },
    {
      "cell_type": "code",
      "execution_count": null,
      "metadata": {
        "colab": {
          "base_uri": "https://localhost:8080/",
          "height": 509
        },
        "id": "2dUo0dJi7WLu",
        "outputId": "2e6fd86e-fe58-4ade-d121-5d7180a2888e"
      },
      "outputs": [
        {
          "output_type": "stream",
          "name": "stdout",
          "text": [
            "[0.2728973627090454, 0.26424187421798706, 0.2573355436325073, 0.2510833144187927, 0.25250154733657837, 0.25342056155204773, 0.25165852904319763, 0.25090834498405457, 0.258836567401886, 0.24402445554733276, 0.24678532779216766, 0.24346645, 0.2300076, 0.22890367, 0.2270432, 0.22678, 0.22489, 0.220985, 0.21890473, 0.2156587, 0.212065645, 0.21000654, 0.20907827, 0.206785, 0.2040765]\n"
          ]
        },
        {
          "output_type": "display_data",
          "data": {
            "text/plain": [
              "<Figure size 640x480 with 1 Axes>"
            ],
            "image/png": "[encoded data removed]"
          },
          "metadata": {}
        }
      ],
      "source": [
        "import matplotlib.pyplot as plt\n",
        "\n",
        "# Assuming you have the history object from model training\n",
        "train_loss = history.history['loss']\n",
        "val_loss = history.history['val_loss']\n",
        "print(val_loss)\n",
        "epochs = range(1, len(train_loss) + 1)\n",
        "plt.plot(epochs, train_loss, 'bo', label='Training loss')\n",
        "plt.plot(epochs, val_loss, 'b', label='Validation loss')\n",
        "plt.title('Training and validation loss')\n",
        "plt.xlabel('Epochs')\n",
        "plt.ylabel('Loss')\n",
        "plt.legend()\n",
        "\n",
        "plt.show()"
      ]
    },
    {
      "cell_type": "code",
      "execution_count": null,
      "metadata": {
        "colab": {
          "base_uri": "https://localhost:8080/",
          "height": 193
        },
        "id": "87Eqs4-eCaap",
        "outputId": "c48a4ed3-3e64-41b0-93ce-82034279269b"
      },
      "outputs": [
        {
          "ename": "NameError",
          "evalue": "name 'model_age_groups' is not defined",
          "output_type": "error",
          "traceback": [
            "\u001b[0;31m---------------------------------------------------------------------------\u001b[0m",
            "\u001b[0;31mNameError\u001b[0m                                 Traceback (most recent call last)",
            "\u001b[0;32m<ipython-input-16-c3dc167d0e51>\u001b[0m in \u001b[0;36m<cell line: 3>\u001b[0;34m()\u001b[0m\n\u001b[1;32m      1\u001b[0m \u001b[0;31m#abs - squared error\u001b[0m\u001b[0;34m\u001b[0m\u001b[0;34m\u001b[0m\u001b[0m\n\u001b[1;32m      2\u001b[0m \u001b[0;31m# Evaluate the model on the test set\u001b[0m\u001b[0;34m\u001b[0m\u001b[0;34m\u001b[0m\u001b[0m\n\u001b[0;32m----> 3\u001b[0;31m \u001b[0mtest_loss\u001b[0m \u001b[0;34m=\u001b[0m \u001b[0mmodel_age_groups\u001b[0m\u001b[0;34m.\u001b[0m\u001b[0mevaluate\u001b[0m\u001b[0;34m(\u001b[0m\u001b[0mtest_generator\u001b[0m\u001b[0;34m)\u001b[0m\u001b[0;34m\u001b[0m\u001b[0;34m\u001b[0m\u001b[0m\n\u001b[0m\u001b[1;32m      4\u001b[0m \u001b[0mprint\u001b[0m\u001b[0;34m(\u001b[0m\u001b[0;34mf\"Test Loss: {test_loss}\"\u001b[0m\u001b[0;34m)\u001b[0m\u001b[0;34m\u001b[0m\u001b[0;34m\u001b[0m\u001b[0m\n",
            "\u001b[0;31mNameError\u001b[0m: name 'model_age_groups' is not defined"
          ]
        }
      ],
      "source": [
        "#abs - squared error\n",
        "# Evaluate the model on the test set\n",
        "test_loss = model_age_groups.evaluate(test_generator)\n",
        "print(f\"Test Loss: {test_loss}\")\n"
      ]
    },
    {
      "cell_type": "code",
      "execution_count": null,
      "metadata": {
        "colab": {
          "base_uri": "https://localhost:8080/",
          "height": 679
        },
        "id": "BqoKICA796i-",
        "outputId": "bcaeb15b-c454-4e21-de31-a72d8ca38937"
      },
      "outputs": [
        {
          "output_type": "stream",
          "name": "stdout",
          "text": [
            "1/1 [==============================] - 0s 19ms/step\n",
            "1/1 [==============================] - 0s 19ms/step\n",
            "1/1 [==============================] - 0s 24ms/step\n",
            "1/1 [==============================] - 0s 18ms/step\n"
          ]
        },
        {
          "output_type": "display_data",
          "data": {
            "text/plain": [
              "<Figure size 1000x600 with 1 Axes>"
            ],
            "image/png": "[encoded data removed]"
          },
          "metadata": {}
        }
      ],
      "source": [
        "# Select a random image from /content/images directory\n",
        "import random\n",
        "\n",
        "age_groups = [\n",
        "        'age-13-17',\n",
        "        'age-18-24',\n",
        "        'age-25-34',\n",
        "        'age-35-44',\n",
        "        'age-45-54',\n",
        "        'age-55-64',\n",
        "        'age-65+'\n",
        "]\n",
        "\n",
        "image_files = os.listdir('/content/images')\n",
        "random_image_file = random.choice(image_files)\n",
        "pred_sum =[0.0,0.0,0.0,0.0,0.0,0.0,0.0]\n",
        "for ad in ads_with_trump:\n",
        "  random_image_file = ad['ad_id'] +\".jpg\"\n",
        "  image_path = os.path.join('/content/images', random_image_file)\n",
        "  #image_path = os.path.join('/content', 'party.jpg')\n",
        "  # Load and preprocess the image\n",
        "  img = load_img(image_path, target_size=(224, 224), color_mode='rgb')\n",
        "  img_array = img_to_array(img) / 255.0\n",
        "  input_image = np.expand_dims(img_array, axis=0)\n",
        "\n",
        "  # Predict CPI and age distribution\n",
        "  age_pred = model.predict(input_image)\n",
        "  count = 0\n",
        "  for i in age_pred:\n",
        "    pred_sum[count] = i + pred_sum[count]\n",
        "    count = count +1\n",
        "\n",
        "plt.figure(figsize=(10, 6))\n",
        "plt.bar(age_groups, pred_sum[0])\n",
        "plt.xlabel('Age Group')\n",
        "plt.ylabel('Sum of Percentages')\n",
        "plt.title('Sum of Percentages for Ads with \"Trump\"')\n",
        "plt.xticks(rotation=45)\n",
        "plt.show()\n"
      ]
    },
    {
      "cell_type": "code",
      "source": [
        "pred_sum"
      ],
      "metadata": {
        "colab": {
          "base_uri": "https://localhost:8080/"
        },
        "id": "f1A3wqKdz3PX",
        "outputId": "60a8dae2-5330-45c5-9d17-83d5cbf562cf"
      },
      "execution_count": null,
      "outputs": [
        {
          "output_type": "execute_result",
          "data": {
            "text/plain": [
              "[array([ 0.20918535,  7.5752983 , 24.584164  , 23.73799   , 29.371626  ,\n",
              "        44.809166  , 58.71257   ], dtype=float32),\n",
              " 0.0,\n",
              " 0.0,\n",
              " 0.0,\n",
              " 0.0,\n",
              " 0.0,\n",
              " 0.0]"
            ]
          },
          "metadata": {},
          "execution_count": 112
        }
      ]
    },
    {
      "cell_type": "code",
      "execution_count": null,
      "metadata": {
        "id": "4YOmDvqEq-eW"
      },
      "outputs": [],
      "source": [
        "ads_with_trump = []\n",
        "\n",
        "# Iterate through campaign_data\n",
        "for item in campaign_data:\n",
        "    # Check if \"ad_creative_bodies\" field exists and contains the word \"Trump\"\n",
        "    if 'text' in item and any('' in body for body in item['text']):\n",
        "        ads_with_trump.append(item)\n"
      ]
    },
    {
      "cell_type": "code",
      "execution_count": null,
      "metadata": {
        "colab": {
          "base_uri": "https://localhost:8080/",
          "height": 211
        },
        "id": "xY-w5IVOC3Hc",
        "outputId": "af5d66fc-5720-4b95-86cd-d64391df486f"
      },
      "outputs": [
        {
          "ename": "NameError",
          "evalue": "name 'model' is not defined",
          "output_type": "error",
          "traceback": [
            "\u001b[0;31m---------------------------------------------------------------------------\u001b[0m",
            "\u001b[0;31mNameError\u001b[0m                                 Traceback (most recent call last)",
            "\u001b[0;32m<ipython-input-32-0a53394bd4c7>\u001b[0m in \u001b[0;36m<cell line: 3>\u001b[0;34m()\u001b[0m\n\u001b[1;32m      1\u001b[0m \u001b[0;31m#squared error - abs error\u001b[0m\u001b[0;34m\u001b[0m\u001b[0;34m\u001b[0m\u001b[0m\n\u001b[1;32m      2\u001b[0m \u001b[0;31m# Evaluate the model on the test set\u001b[0m\u001b[0;34m\u001b[0m\u001b[0;34m\u001b[0m\u001b[0m\n\u001b[0;32m----> 3\u001b[0;31m \u001b[0mtest_loss\u001b[0m\u001b[0;34m,\u001b[0m \u001b[0mtest_mae\u001b[0m \u001b[0;34m=\u001b[0m \u001b[0mmodel\u001b[0m\u001b[0;34m.\u001b[0m\u001b[0mevaluate\u001b[0m\u001b[0;34m(\u001b[0m\u001b[0mtest_generator\u001b[0m\u001b[0;34m)\u001b[0m\u001b[0;34m\u001b[0m\u001b[0;34m\u001b[0m\u001b[0m\n\u001b[0m\u001b[1;32m      4\u001b[0m \u001b[0mprint\u001b[0m\u001b[0;34m(\u001b[0m\u001b[0;34mf\"Test Loss: {test_loss}\"\u001b[0m\u001b[0;34m)\u001b[0m\u001b[0;34m\u001b[0m\u001b[0;34m\u001b[0m\u001b[0m\n\u001b[1;32m      5\u001b[0m \u001b[0mprint\u001b[0m\u001b[0;34m(\u001b[0m\u001b[0;34mf\"Mean Absolute Error (MAE): {test_mae}\"\u001b[0m\u001b[0;34m)\u001b[0m\u001b[0;34m\u001b[0m\u001b[0;34m\u001b[0m\u001b[0m\n",
            "\u001b[0;31mNameError\u001b[0m: name 'model' is not defined"
          ]
        }
      ],
      "source": [
        "#squared error - abs error\n",
        "# Evaluate the model on the test set\n",
        "test_loss, test_mae = model.evaluate(test_generator)\n",
        "print(f\"Test Loss: {test_loss}\")\n",
        "print(f\"Mean Absolute Error (MAE): {test_mae}\")\n",
        "\n"
      ]
    },
    {
      "cell_type": "code",
      "execution_count": null,
      "metadata": {
        "colab": {
          "base_uri": "https://localhost:8080/"
        },
        "id": "Uf0_6ieRQFsT",
        "outputId": "8fa42e01-835c-433f-ffca-ad2ea07afd55"
      },
      "outputs": [
        {
          "name": "stdout",
          "output_type": "stream",
          "text": [
            "CPIs in the test generator: [0.0024422276493947766, 0.023332682221788147, 0.014705302767825158, 0.007775572834606299, 0.01425755021572045, 0.019934662310820722, 0.009998957893639889, 0.05545060562284698, 0.011997365326307536, 0.013843119517290822, 0.0033320044426725904, 0.007615970459266097, 0.06355123193017546, 0.09969989996665556, 0.01425755021572045, 0.019971999199977143, 0.01980396079215843, 0.0990990990990991, 0.017589269957056296, 0.009997799995111101, 0.008440037511277828, 0.011809198265438777, 0.03322591399044338, 0.009998199996727266, 0.09969989996665556, 0.00908730577202099, 0.149999, 0.04396175847033881, 0.0057842409696893145, 0.033011003667889297, 0.06469487876327956, 0.009072892234404262, 0.0598119623924785, 0.006921549110075554, 0.016345751740940745, 0.005210800568450971, 0.01999849230537278, 0.03683196665228055, 0.015551180227467678, 0.011960478419136765, 0.06537742598019984, 0.0598119623924785, 0.019934662310820722, 0.00900081825620511, 0.0646508618154009, 0.011001222358039782, 0.01461386863672098, 0.008635462395874906, 0.035961438457538304, 0.04396175847033881, 0.033011003667889297, 0.027184289480861896, 0.011960478419136765, 0.004884466153182903, 0.011960478419136765, 0.019986933159108787, 0.01636005949112542, 0.009072892234404262, 0.01425755021572045, 0.0066622518322303655, 0.026152347926689117, 0.0542586931055173, 0.05545060562284698, 0.09969989996665556, 0.011089135314118091, 0.007615970459266097, 0.009463257507973768, 0.011960478419136765, 0.047269262797319266, 0.019934662310820722, 0.033011003667889297, 0.009997799995111101, 0.019982181494208984, 0.07140204005828737, 0.01425755021572045, 0.008817698927640751, 0.019984922844966845, 0.004600070770319544, 0.019971999199977143, 0.011106716029849022, 0.005993373289155261, 0.017589269957056296, 0.033011003667889297, 0.016664481476625505, 0.014144877839691384, 0.011960478419136765, 0.026264540238959945, 0.028884572820323647, 0.01980396079215843, 0.01980396079215843, 0.017589269957056296, 0.13153323859150481, 0.017270940492619076, 0.03331185137447499, 0.04332695551303675, 0.033011003667889297, 0.03679141007421443, 0.0990990990990991, 0.0598119623924785, 0.011809198265438777, 0.04282979513700391, 0.02444010862270499, 0.011089135314118091, 0.007775572834606299, 0.008666005777337185, 0.04665395538607182, 0.04999269225147886, 0.03420544318654309, 0.026464861558009166, 0.009072892234404262, 0.0076770411852490035, 0.013830982015107924, 0.09995262908574136, 0.03140089716849053, 0.01997822173826085, 0.007551144671754097, 0.03140089716849053, 0.027255041000745467, 0.0053769644381879865, 0.003517688443393452, 0.01980396079215843, 0.009990999918181075, 0.005773358992706634, 0.02935466792164245, 0.00587065730185061, 0.02271838834898499, 0.03322591399044338, 0.013627396612696479, 0.011960478419136765, 0.02726919006978207, 0.01980396079215843, 0.04396175847033881, 0.03322591399044338, 0.0990990990990991, 0.017320230936412485, 0.0022000488899753326, 0.01425755021572045, 0.0990990990990991, 0.015551180227467678, 0.019960798431937276, 0.01999643635067764, 0.019971999199977143, 0.0184158863994021, 0.027184289480861896, 0.00900081825620511, 0.019934662310820722, 0.011332015109353478, 0.01999738665969776, 0.038387568274482656, 0.03090732892241622, 0.028884572820323647, 0.026305540058316403, 0.0990990990990991, 0.009990999918181075, 0.008543101231463755, 0.011960478419136765, 0.014144877839691384, 0.011960478419136765, 0.005227708392948901, 0.0990990990990991, 0.008543101231463755, 0.014653528713716182, 0.019982181494208984, 0.008543101231463755, 0.015737670403705457, 0.01425755021572045, 0.016666011110674075, 0.04221796541317961, 0.0990990990990991, 0.013627396612696479, 0.016345751740940745, 0.019982181494208984, 0.011089135314118091, 0.020582474014553025, 0.0990990990990991, 0.026138863674825766, 0.011960478419136765, 0.022726384296712997, 0.011960478419136765, 0.023001769366874376, 0.009072892234404262, 0.011089135314118091, 0.05545060562284698, 0.064999, 0.011960478419136765, 0.055534567434831886, 0.0990990990990991, 0.019995644425086334, 0.019982181494208984, 0.011106716029849022, 0.00543646248113602, 0.00543646248113602, 0.04999269225147886, 0.027184289480861896, 0.019960798431937276, 0.033011003667889297, 0.009998476920733725, 0.01997822173826085, 0.05293003447099378, 0.0013288947950879783, 0.033011003667889297, 0.022341439311050718, 0.014442254316120702, 0.019960798431937276, 0.019995644425086334, 0.054999, 0.01315270080368844, 0.01198682649101988, 0.064999, 0.026305540058316403, 0.0598119623924785, 0.033011003667889297, 0.0333290370179423, 0.04411202418837758, 0.024999, 0.003517688443393452, 0.02796111844473779, 0.011089135314118091, 0.0058238719924701456, 0.04999269225147886, 0.013069331302548481, 0.016345751740940745, 0.0411200658862286, 0.02796111844473779, 0.0473583932462447, 0.034999, 0.019960798431937276, 0.019960798431937276, 0.02271838834898499, 0.009992384556804283, 0.02796111844473779, 0.01198682649101988, 0.0990990990990991, 0.011960478419136765, 0.024999, 0.019960798431937276, 0.02796111844473779, 0.028884572820323647, 0.014144877839691384, 0.029993533290221936]\n"
          ]
        }
      ],
      "source": [
        "test_cpis = []\n",
        "for batch_images, batch_labels in test_generator:\n",
        "    test_cpis.extend(batch_labels)  # Assuming batch_images contains the image filenames, which are the IDs\n",
        "\n",
        "# Now test_ids contains all the IDs in the test generator\n",
        "print(\"CPIs in the test generator:\", test_cpis)\n"
      ]
    },
    {
      "cell_type": "code",
      "execution_count": null,
      "metadata": {
        "colab": {
          "base_uri": "https://localhost:8080/"
        },
        "id": "7-ESFC4rZJhD",
        "outputId": "2db588e2-bc43-49d9-ff48-d84247157385"
      },
      "outputs": [
        {
          "name": "stdout",
          "output_type": "stream",
          "text": [
            "Predicted data length: 240\n",
            "Actual data length: 240\n",
            "Average Accuracy at first position: 0.354\n",
            "Average Accuracy at second position: 0.278\n",
            "Average Accuracy at third position: 0.274\n",
            "Average Accuracy at fourth position: 0.318\n"
          ]
        }
      ],
      "source": [
        "import numpy as np\n",
        "import matplotlib.pyplot as plt\n",
        "from sklearn.utils import shuffle\n",
        "from tensorflow.keras.models import load_model\n",
        "\n",
        "# Assuming 'model' and 'test_generator' are defined and loaded appropriately\n",
        "# Load your model if it is not already loaded\n",
        "# model = load_model('path_to_your_model.h5')\n",
        "\n",
        "# Extract labels and predictions without assuming reset functionality\n",
        "test_cpis = []\n",
        "predictions = []\n",
        "for batch_images, batch_labels in test_generator:\n",
        "    test_cpis.extend(batch_labels)\n",
        "    predictions.extend(model.predict_on_batch(batch_images))\n",
        "\n",
        "# Convert data to numpy arrays for easier manipulation\n",
        "test_cpis = np.array(test_cpis)\n",
        "predictions = np.array(predictions)\n",
        "\n",
        "# Initialize accuracy counts for each order position\n",
        "num_trials = 500\n",
        "accuracy_counts = np.zeros(4)\n",
        "\n",
        "# Print lengths to verify data sizes\n",
        "print(\"Predicted data length:\", len(predictions))\n",
        "print(\"Actual data length:\", len(test_cpis))\n",
        "\n",
        "# Validate if we have enough elements to randomly pick 4\n",
        "if len(predictions) >= 4 and len(test_cpis) >= 4:\n",
        "    for _ in range(num_trials):\n",
        "        # Randomly pick 4 indices ensuring no out of bound error\n",
        "        indices = np.arange(min(len(predictions), len(test_cpis)))\n",
        "        selected_indices = shuffle(indices)[:4]  # No fixed seed for true randomness each trial\n",
        "\n",
        "        # Extract selected predictions and actual values\n",
        "        selected_predictions = predictions[selected_indices]\n",
        "        selected_actuals = test_cpis[selected_indices]\n",
        "\n",
        "        # Order by predictions\n",
        "        order_pred_indices = np.argsort(selected_predictions[:, 0])  # Assuming predictions are in the first column\n",
        "        order_actual_indices = np.argsort(selected_actuals)\n",
        "\n",
        "        # Compare orders\n",
        "        accuracy_positions = [1 if pred_i == act_i else 0 for pred_i, act_i in zip(order_pred_indices, order_actual_indices)]\n",
        "        accuracy_counts += accuracy_positions\n",
        "\n",
        "    # Calculate average accuracies for each order\n",
        "    average_accuracies = accuracy_counts / num_trials\n",
        "    print(\"Average Accuracy at first position:\", average_accuracies[0])\n",
        "    print(\"Average Accuracy at second position:\", average_accuracies[1])\n",
        "    print(\"Average Accuracy at third position:\", average_accuracies[2])\n",
        "    print(\"Average Accuracy at fourth position:\", average_accuracies[3])\n",
        "else:\n",
        "    print(\"Not enough data points to select 4 unique values. Please ensure at least 4 data points are available.\")\n"
      ]
    },
    {
      "cell_type": "code",
      "execution_count": null,
      "metadata": {
        "colab": {
          "base_uri": "https://localhost:8080/"
        },
        "id": "DAFyuYpqgd0h",
        "outputId": "af73d1bd-a241-46a9-cfa1-4e702f7acd70"
      },
      "outputs": [
        {
          "name": "stdout",
          "output_type": "stream",
          "text": [
            "Concordance Index: 0.5634373019784552\n"
          ]
        }
      ],
      "source": [
        "import numpy as np\n",
        "from sklearn.metrics import roc_auc_score\n",
        "\n",
        "# First, gather all predictions and actuals\n",
        "y_true = []\n",
        "y_pred = []\n",
        "for batch_images, batch_labels in test_generator:\n",
        "    preds = model.predict_on_batch(batch_images)\n",
        "    y_pred.extend(preds)\n",
        "    y_true.extend(batch_labels)\n",
        "\n",
        "# Convert lists to numpy arrays for easier manipulation\n",
        "y_true = np.array(y_true)\n",
        "y_pred = np.array(y_pred)\n",
        "\n",
        "# Calculate the concordance index, treating it similar to AUC calculation\n",
        "def calculate_concordance_index(y_true, y_pred):\n",
        "    n = 0\n",
        "    h_sum = 0\n",
        "    for i in range(len(y_true)):\n",
        "        for j in range(i + 1, len(y_true)):\n",
        "            if y_true[i] != y_true[j]:\n",
        "                n += 1\n",
        "                if (y_pred[i] > y_pred[j] and y_true[i] > y_true[j]) or (y_pred[i] < y_pred[j] and y_true[i] < y_true[j]):\n",
        "                    h_sum += 1\n",
        "                elif y_pred[i] == y_pred[j]:\n",
        "                    h_sum += 0.5\n",
        "    return h_sum / n if n > 0 else 0\n",
        "\n",
        "# Calculate the C-index\n",
        "c_index = calculate_concordance_index(y_true, y_pred)\n",
        "print(\"Concordance Index:\", c_index)\n"
      ]
    },
    {
      "cell_type": "code",
      "execution_count": null,
      "metadata": {
        "colab": {
          "base_uri": "https://localhost:8080/",
          "height": 883
        },
        "id": "_a4KF_RAPs2H",
        "outputId": "860acc36-5a34-4b51-cc6f-20885dfa526a"
      },
      "outputs": [
        {
          "name": "stdout",
          "output_type": "stream",
          "text": [
            "24/24 [==============================] - 4s 159ms/step\n",
            "[0.01753137]\n",
            "0.04581253201964348\n",
            "[0.03685854]\n",
            "0.035091358243902145\n",
            "[0.03686155]\n",
            "0.019425027160813655\n",
            "[0.03512993]\n",
            "0.023563622836356286\n",
            "[0.03504461]\n",
            "0.034026999709255636\n",
            "[0.0525687]\n",
            "0.08869409321693661\n",
            "[0.02866]\n",
            "0.07770218072903522\n",
            "[0.04326495]\n",
            "0.1154099091960989\n",
            "[0.033433]\n",
            "0.014140393112971727\n",
            "[0.03369978]\n",
            "0.08869409321693661\n",
            "[0.03082199]\n",
            "0.03898425183181553\n",
            "[0.03534913]\n",
            "0.011570060642888829\n"
          ]
        },
        {
          "data": {
            "image/png": "[encoded data removed]",
            "text/plain": [
              "<Figure size 640x480 with 1 Axes>"
            ]
          },
          "metadata": {},
          "output_type": "display_data"
        }
      ],
      "source": [
        "#abs error - squared error\n",
        "\n",
        "import matplotlib.pyplot as plt\n",
        "\n",
        "test_predict = model.predict(test_generator)\n",
        "count = 0\n",
        "for i in range (0,12):\n",
        "  print(test_predict[i])\n",
        "  print(test_cpis[i])\n",
        "# Create the scatter plot\n",
        "plt.figure()\n",
        "plt.scatter(test_predict, test_cpis, marker=\"+\")\n",
        "plt.xlabel(\"Predicted Value\")\n",
        "plt.ylabel(\"True Value\")\n",
        "\n",
        "# Add a reference line\n",
        "plt.plot([0, 0.1], [0, 0.1], \"r--\")  # Assuming the range of values is -60 to 60, adjust as needed\n",
        "\n",
        "# Show the plot\n",
        "plt.show()"
      ]
    },
    {
      "cell_type": "code",
      "execution_count": null,
      "metadata": {
        "colab": {
          "base_uri": "https://localhost:8080/"
        },
        "id": "YxgkZ5KF6R05",
        "outputId": "809c760e-82a4-4c33-ac56-e433af874c33"
      },
      "outputs": [
        {
          "output_type": "stream",
          "name": "stdout",
          "text": [
            "Mounted at /content/drive\n"
          ]
        },
        {
          "output_type": "stream",
          "name": "stderr",
          "text": [
            "/usr/local/lib/python3.10/dist-packages/keras/src/engine/training.py:3103: UserWarning: You are saving your model as an HDF5 file via `model.save()`. This file format is considered legacy. We recommend using instead the native Keras format, e.g. `model.save('my_model.keras')`.\n",
            "  saving_api.save_model(\n"
          ]
        }
      ],
      "source": [
        "from google.colab import drive\n",
        "import shutil\n",
        "# Mount Google Drive\n",
        "shutil.rmtree('/content/drive', ignore_errors=True)\n",
        "drive.mount('/content/drive')\n",
        "# Save the model to Google Drive\n",
        "model.save('/content/drive/MyDrive/path/to/save/age_model_last.h5')"
      ]
    }
  ],
  "metadata": {
    "accelerator": "GPU",
    "colab": {
      "gpuType": "T4",
      "provenance": []
    },
    "kernelspec": {
      "display_name": "Python 3",
      "name": "python3"
    },
    "language_info": {
      "name": "python"
    }
  },
  "nbformat": 4,
  "nbformat_minor": 0
}