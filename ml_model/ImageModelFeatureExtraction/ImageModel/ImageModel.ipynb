{
  "nbformat": 4,
  "nbformat_minor": 0,
  "metadata": {
    "colab": {
      "provenance": []
    },
    "kernelspec": {
      "name": "python3",
      "display_name": "Python 3"
    },
    "language_info": {
      "name": "python"
    }
  },
  "cells": [
    {
      "cell_type": "code",
      "source": [
        "from google.colab import drive\n",
        "import os\n",
        "import gdown # Library to download files from Google Drive\n",
        "!gdown 1JdGaXmUnItfCn8ucn_5kBfDeh3NzrmMs # Google Drive ID of the zip file to be downloaded\n"
      ],
      "metadata": {
        "colab": {
          "base_uri": "https://localhost:8080/"
        },
        "id": "nqwjilu0iB5s",
        "outputId": "64c5b013-5b39-4be3-e6dc-84887c8916f0"
      },
      "execution_count": 1,
      "outputs": [
        {
          "output_type": "stream",
          "name": "stdout",
          "text": [
            "Downloading...\n",
            "From (original): https://drive.google.com/uc?id=1JdGaXmUnItfCn8ucn_5kBfDeh3NzrmMs\n",
            "From (redirected): https://drive.google.com/uc?id=1JdGaXmUnItfCn8ucn_5kBfDeh3NzrmMs&confirm=t&uuid=8cd1ab7e-7fee-4c6c-9bcf-bc9eab262224\n",
            "To: /content/images.zip adlı dosyanın kopyası\n",
            "100% 128M/128M [00:00<00:00, 133MB/s]\n"
          ]
        }
      ]
    },
    {
      "cell_type": "code",
      "source": [
        "!unzip -oq images # Unzip the file downloaded. Options -o and -q overwrites the files if exists already and disables printing out the extracted files, respectively."
      ],
      "metadata": {
        "id": "Kc-whf_TnQwv"
      },
      "execution_count": 3,
      "outputs": []
    },
    {
      "cell_type": "code",
      "source": [
        "\n",
        "root_dir = '/content/images'\n"
      ],
      "metadata": {
        "id": "fEAUVfFblvle"
      },
      "execution_count": 4,
      "outputs": []
    },
    {
      "cell_type": "code",
      "source": [
        "from PIL import Image, UnidentifiedImageError\n",
        "import os\n",
        "\n",
        "root_dir = '/content/images'\n",
        "output_dir = '/content/cropped_images'\n",
        "\n",
        "# Function to calculate average resolution of images in a directory\n",
        "def calculate_average_resolution(directory):\n",
        "    total_width = 0\n",
        "    total_height = 0\n",
        "    num_images = 0\n",
        "\n",
        "    # Loop through each file in the directory\n",
        "    for filename in os.listdir(directory):\n",
        "        filepath = os.path.join(directory, filename)\n",
        "        try:\n",
        "            # Check if the file is an image\n",
        "            if os.path.isfile(filepath) and any(filename.lower().endswith(ext) for ext in ['.png', '.jpg', '.jpeg']):\n",
        "                # Open the image and get its dimensions\n",
        "                with Image.open(filepath) as img:\n",
        "                    width, height = img.size\n",
        "                    total_width += width\n",
        "                    total_height += height\n",
        "                    num_images += 1\n",
        "        except (UnidentifiedImageError, OSError):\n",
        "            print(f\"Unable to process image file: {filename}\")\n",
        "            continue\n",
        "\n",
        "    if num_images == 0:\n",
        "        print(\"No images found in the directory.\")\n",
        "        return None\n",
        "    else:\n",
        "        avg_width = total_width // num_images\n",
        "        avg_height = total_height // num_images\n",
        "        return (avg_width, avg_height, num_images)\n",
        "\n",
        "# Function to create the output directory if it doesn't exist\n",
        "def create_output_directory(directory):\n",
        "    if not os.path.exists(directory):\n",
        "        os.makedirs(directory)\n",
        "\n",
        "# Function to crop images in a directory to a specified resolution\n",
        "def crop_images_to_resolution(directory, target_resolution):\n",
        "    for filename in os.listdir(directory):\n",
        "        filepath = os.path.join(directory, filename)\n",
        "        try:\n",
        "            # Check if the file is an image\n",
        "            if os.path.isfile(filepath) and any(filename.lower().endswith(ext) for ext in ['.png', '.jpg', '.jpeg']):\n",
        "                # Open the image and crop it to the target resolution\n",
        "                with Image.open(filepath) as img:\n",
        "                    img = img.crop((0, 0, target_resolution[0], target_resolution[1]))\n",
        "                    img.save(os.path.join(output_dir, filename))\n",
        "        except (UnidentifiedImageError, OSError):\n",
        "            print(f\"Unable to process image file: {filename}\")\n",
        "            continue\n",
        "\n",
        "# Calculate average resolution and total number of images\n",
        "result = calculate_average_resolution(root_dir)\n",
        "\n",
        "if result:\n",
        "    avg_resolution, num_images = result[:2], result[2]\n",
        "    print(f\"Total number of images: {num_images}\")\n",
        "    print(f\"Average resolution: {avg_resolution[0]}x{avg_resolution[1]} pixels\")\n",
        "\n",
        "    # Create the output directory if it doesn't exist\n",
        "    create_output_directory(output_dir)\n",
        "\n",
        "    # Crop images to average resolution\n",
        "    crop_images_to_resolution(root_dir, avg_resolution)\n",
        "    print(\"Images cropped to average resolution.\")\n",
        "else:\n",
        "    print(\"Unable to calculate average resolution.\")\n"
      ],
      "metadata": {
        "colab": {
          "base_uri": "https://localhost:8080/"
        },
        "id": "S6-Go7XspCmT",
        "outputId": "48b23941-d46a-445a-801c-f04723f90930"
      },
      "execution_count": 18,
      "outputs": [
        {
          "output_type": "stream",
          "name": "stdout",
          "text": [
            "Unable to process image file: 695766190760630.jpg\n",
            "Total number of images: 635\n",
            "Average resolution: 1193x869 pixels\n",
            "Unable to process image file: 695766190760630.jpg\n",
            "Unable to process image file: 1969722553066031.jpg\n",
            "Unable to process image file: 176574166615555.jpg\n",
            "Unable to process image file: 728334204189811.jpg\n",
            "Unable to process image file: 430743550786558.jpg\n",
            "Unable to process image file: 1212019935620496.jpg\n",
            "Unable to process image file: 676687789384754.jpg\n",
            "Unable to process image file: 320619618717364.jpg\n",
            "Unable to process image file: 2167198373551810.jpg\n",
            "Unable to process image file: 1684090145051513.jpg\n",
            "Unable to process image file: 253935178579446.jpg\n",
            "Unable to process image file: 309519166320626.jpg\n",
            "Unable to process image file: 499615317172296.jpg\n",
            "Unable to process image file: 186076198984051.jpg\n",
            "Unable to process image file: 1723492444426167.jpg\n",
            "Unable to process image file: 285424975595779.jpg\n",
            "Unable to process image file: 346700996063593.jpg\n",
            "Unable to process image file: 936632113212421.jpg\n",
            "Images cropped to average resolution.\n"
          ]
        }
      ]
    },
    {
      "cell_type": "code",
      "execution_count": null,
      "metadata": {
        "id": "xY-w5IVOC3Hc"
      },
      "outputs": [],
      "source": [
        "import tensorflow as tf\n",
        "from tensorflow.keras.models import Model\n",
        "from tensorflow.keras.layers import Input, Conv2D, MaxPooling2D, Flatten, Dense, Concatenate\n",
        "\n",
        "# Image input branch\n",
        "image_input = Input(shape=(224, 224, 3))\n",
        "x = Conv2D(32, (3, 3), activation='relu')(image_input)\n",
        "x = MaxPooling2D((2, 2))(x)\n",
        "x = Conv2D(64, (3, 3), activation='relu')(x)\n",
        "x = MaxPooling2D((2, 2))(x)\n",
        "x = Flatten()(x)\n",
        "\n",
        "# Font type input branch\n",
        "font_input = Input(shape=(num_font_types,))\n",
        "# Color palette input branch\n",
        "color_input = Input(shape=(num_colors,))\n",
        "\n",
        "# Concatenate all features\n",
        "concatenated = Concatenate()([x, font_input, color_input])\n",
        "\n",
        "# Dense layers for prediction\n",
        "y = Dense(128, activation='relu')(concatenated)\n",
        "y = Dense(64, activation='relu')(y)\n",
        "output = Dense(1)(y)  # CPI output\n",
        "\n",
        "model = Model(inputs=[image_input, font_input, color_input], outputs=output)\n",
        "model.compile(optimizer='adam', loss='mean_absolute_error')\n",
        "\n",
        "model.summary()"
      ]
    }
  ]
}