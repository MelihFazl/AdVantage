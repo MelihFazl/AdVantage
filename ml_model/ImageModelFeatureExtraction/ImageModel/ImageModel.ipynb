{
  "nbformat": 4,
  "nbformat_minor": 0,
  "metadata": {
    "colab": {
      "provenance": []
    },
    "kernelspec": {
      "name": "python3",
      "display_name": "Python 3"
    },
    "language_info": {
      "name": "python"
    }
  },
  "cells": [
    {
      "cell_type": "code",
      "execution_count": null,
      "metadata": {
        "id": "xY-w5IVOC3Hc"
      },
      "outputs": [],
      "source": [
        "import tensorflow as tf\n",
        "from tensorflow.keras.models import Model\n",
        "from tensorflow.keras.layers import Input, Conv2D, MaxPooling2D, Flatten, Dense, Concatenate\n",
        "\n",
        "# Image input branch\n",
        "image_input = Input(shape=(224, 224, 3))\n",
        "x = Conv2D(32, (3, 3), activation='relu')(image_input)\n",
        "x = MaxPooling2D((2, 2))(x)\n",
        "x = Conv2D(64, (3, 3), activation='relu')(x)\n",
        "x = MaxPooling2D((2, 2))(x)\n",
        "x = Flatten()(x)\n",
        "\n",
        "# Font type input branch\n",
        "font_input = Input(shape=(num_font_types,))\n",
        "# Color palette input branch\n",
        "color_input = Input(shape=(num_colors,))\n",
        "\n",
        "# Concatenate all features\n",
        "concatenated = Concatenate()([x, font_input, color_input])\n",
        "\n",
        "# Dense layers for prediction\n",
        "y = Dense(128, activation='relu')(concatenated)\n",
        "y = Dense(64, activation='relu')(y)\n",
        "output = Dense(1)(y)  # CPI output\n",
        "\n",
        "model = Model(inputs=[image_input, font_input, color_input], outputs=output)\n",
        "model.compile(optimizer='adam', loss='mean_absolute_error')\n",
        "\n",
        "model.summary()"
      ]
    }
  ]
}