{
  "cells": [
    {
      "cell_type": "code",
      "execution_count": null,
      "metadata": {
        "colab": {
          "base_uri": "https://localhost:8080/"
        },
        "id": "nqwjilu0iB5s",
        "outputId": "bf5f77bc-ec5c-4c87-bffc-91cf8715b40a"
      },
      "outputs": [
        {
          "output_type": "stream",
          "name": "stdout",
          "text": [
            "Downloading...\n",
            "From (original): https://drive.google.com/uc?id=1JdGaXmUnItfCn8ucn_5kBfDeh3NzrmMs\n",
            "From (redirected): https://drive.google.com/uc?id=1JdGaXmUnItfCn8ucn_5kBfDeh3NzrmMs&confirm=t&uuid=9bfaf779-d13d-4c26-a85a-1ee29f7967d8\n",
            "To: /content/images.zip adlı dosyanın kopyası\n",
            "100% 128M/128M [00:00<00:00, 146MB/s]\n"
          ]
        }
      ],
      "source": [
        "from google.colab import drive\n",
        "import os\n",
        "import gdown # Library to download files from Google Drive\n",
        "!gdown 1JdGaXmUnItfCn8ucn_5kBfDeh3NzrmMs # Google Drive ID of the zip file to be downloaded\n"
      ]
    },
    {
      "cell_type": "code",
      "execution_count": null,
      "metadata": {
        "id": "Kc-whf_TnQwv"
      },
      "outputs": [],
      "source": [
        "!unzip -oq images # Unzip the file downloaded. Options -o and -q overwrites the files if exists already and disables printing out the extracted files, respectively."
      ]
    },
    {
      "cell_type": "code",
      "execution_count": null,
      "metadata": {
        "id": "fEAUVfFblvle"
      },
      "outputs": [],
      "source": [
        "\n",
        "root_dir = '/content/images'\n"
      ]
    },
    {
      "cell_type": "code",
      "execution_count": null,
      "metadata": {
        "colab": {
          "base_uri": "https://localhost:8080/",
          "height": 108
        },
        "id": "X3NGIIAB5Dl8",
        "outputId": "733fb130-d07d-4a63-c591-804dfd4b25d6"
      },
      "outputs": [
        {
          "output_type": "stream",
          "name": "stderr",
          "text": [
            "Downloading...\n",
            "From: https://drive.google.com/uc?id=1nktUlbNE4lZHrJ83d0B3msZy_R12Sa3o\n",
            "To: /content/ad_responses.json\n",
            "100%|██████████| 11.5M/11.5M [00:00<00:00, 65.5MB/s]\n"
          ]
        },
        {
          "output_type": "execute_result",
          "data": {
            "text/plain": [
              "'/content/ad_responses.json'"
            ],
            "application/vnd.google.colaboratory.intrinsic+json": {
              "type": "string"
            }
          },
          "metadata": {},
          "execution_count": 4
        }
      ],
      "source": [
        "import gdown\n",
        "\n",
        "# Define the Google Drive file ID for the responses.json file\n",
        "file_id = '1nktUlbNE4lZHrJ83d0B3msZy_R12Sa3o'\n",
        "\n",
        "# Define the output path for the downloaded file\n",
        "output_path = '/content/ad_responses.json'\n",
        "\n",
        "# Download the file using gdown\n",
        "gdown.download(f'https://drive.google.com/uc?id={file_id}', output_path, quiet=False)\n"
      ]
    },
    {
      "cell_type": "code",
      "execution_count": null,
      "metadata": {
        "id": "LvGUsA3FczEx"
      },
      "outputs": [],
      "source": [
        "import json\n",
        "import os\n",
        "from PIL import Image\n",
        "import numpy as np\n",
        "\n",
        "\n",
        "# Load the JSON data\n",
        "responses_file = '/content/ad_responses.json'\n",
        "with open(responses_file, 'r') as f:\n",
        "    data = json.load(f)\n",
        "\n",
        "# Create a dictionary to map '_id' to ad_info for faster lookup\n",
        "ad_info_dict = {info['_id']: info for info in data.values() if '_id' in info}\n",
        "# Define the root directory for images\n",
        "images_dir = '/content/images'\n",
        "\n",
        "# Define the target dimensions for resizing images (lower resolution for efficiency)\n",
        "target_width = 512   # Lower resolution\n",
        "target_height = 512  # Lower resolution\n",
        "\n",
        "# Initialize lists to store calculated and extracted features\n",
        "campaign_data = []\n",
        "\n",
        "\n",
        "# Iterate through each image in the images directory\n",
        "for filename in os.listdir(images_dir):\n",
        "    if filename.endswith(\".jpg\"):  # Check if the file is a JPEG image\n",
        "        image_id = filename.split('.')[0]  # Extract ID from filename\n",
        "        for key, value in ad_info_dict.items():\n",
        "          if '_id' in value and value['_id'] == image_id:\n",
        "            ad_info = value\n",
        "            image_path = os.path.join(images_dir, filename)\n",
        "\n",
        "            # Load and preprocess the image\n",
        "            with Image.open(image_path) as img:\n",
        "                img = img.convert('RGB')  # Convert image to RGB format\n",
        "                img = img.resize((target_width, target_height))  # Resize image to lower resolution\n",
        "                img_array = np.array(img)  # Convert image to numpy array\n",
        "\n",
        "            # Process only the necessary data to reduce memory load\n",
        "            avg_spend = np.mean([int(ad_info.get(\"spend\", {}).get(\"lower_bound\", 0)), int(ad_info.get(\"spend\", {}).get(\"upper_bound\", 0))])\n",
        "            avg_impressions = np.mean([int(ad_info.get(\"impressions\", {}).get(\"lower_bound\", 0)), int(ad_info.get(\"impressions\", {}).get(\"upper_bound\", 0))])\n",
        "            cost_per_impression = avg_spend / avg_impressions if avg_impressions > 0 else float('inf')\n",
        "\n",
        "            # Append only necessary info to reduce memory footprint\n",
        "            campaign_data.append({\n",
        "                \"ad_id\": ad_info.get('_id', ''),\n",
        "                \"cpi\": cost_per_impression,\n",
        "                \"image_data\": img_array.flatten().tolist()  # Flatten and convert to list to minimize size\n",
        "            })\n",
        "            break\n",
        "\n",
        "# Example: Print or save to file\n",
        "# for campaign in campaign_data[:3]:\n",
        "#     print(json.dumps(campaign, indent=2))\n",
        "\n",
        "# Instead of printing, consider saving processed data to disk to free memory\n",
        "import pickle\n",
        "with open('/content/campaign_data.pkl', 'wb') as f:\n",
        "    pickle.dump(campaign_data, f)\n",
        "\n",
        "# Clear the large variables from memory\n",
        "del campaign_data\n",
        "del data\n"
      ]
    },
    {
      "cell_type": "code",
      "source": [
        "count = 0\n",
        "for key, value in ad_info_dict.items():\n",
        "    print(key, value)\n",
        "    count += 1\n",
        "    if count == 10:\n",
        "        break\n",
        "#example\n",
        "desired_id = '716911622011048'\n",
        "found_element = None\n",
        "\n",
        "for key, value in ad_info_dict.items():\n",
        "    if '_id' in value and value['_id'] == desired_id:\n",
        "        found_element = value\n",
        "        break\n",
        "\n",
        "if found_element:\n",
        "    print(\"Element found:\")\n",
        "    print(found_element)\n",
        "else:\n",
        "    print(\"Element with _id =\", desired_id, \"not found.\")"
      ],
      "metadata": {
        "colab": {
          "base_uri": "https://localhost:8080/"
        },
        "id": "npWbcy9PGFyQ",
        "outputId": "51af3ed7-c65d-4868-d759-3b221fee7fbc"
      },
      "execution_count": null,
      "outputs": [
        {
          "output_type": "stream",
          "name": "stdout",
          "text": [
            "2080535325365336 {'_id': '2080535325365336', 'ad_creation_time': '2019-03-20', 'ad_creative_bodies': ['Donald Trump HATES anybody that tells the truth about him — that’s why he jumps at every chance to ATTACK reputable news outlets like MSNBC. Americans rely on the free press for fair and accurate news, but Trump would rather feed Americans lies through his propaganda machine (FOX News!!) If voters fall for his deception, we may NEVER end his presidency. So we need to know what news sources top Democrats like you rely on. \\n\\nTake our 1-click poll now >>'], 'ad_creative_link_captions': ['go.boldpac.com'], 'ad_creative_link_descriptions': ['Take Our 1-Click Poll Before Midnight\\n'], 'ad_creative_link_titles': ['🎉1 in 500: You’ve Been Selected!'], 'ad_delivery_start_time': '2019-03-20', 'ad_delivery_stop_time': '2019-03-30', 'bylines': 'CHC BOLD PAC', 'currency': 'USD', 'delivery_by_region': [{'percentage': '0.012235', 'region': 'Alabama'}, {'percentage': '0.011835', 'region': 'South Carolina'}, {'percentage': '0.011892', 'region': 'New Mexico'}, {'percentage': '0.056429', 'region': 'New York'}, {'percentage': '0.033789', 'region': 'North Carolina'}, {'percentage': '0.001944', 'region': 'North Dakota'}, {'percentage': '0.039277', 'region': 'Ohio'}, {'percentage': '0.010463', 'region': 'Oklahoma'}, {'percentage': '0.024756', 'region': 'Oregon'}, {'percentage': '0.039849', 'region': 'Pennsylvania'}, {'percentage': '0.003602', 'region': 'Rhode Island'}, {'percentage': '0.003488', 'region': 'South Dakota'}, {'percentage': '0.006117', 'region': 'New Hampshire'}, {'percentage': '0.018638', 'region': 'Tennessee'}, {'percentage': '0.006232', 'region': 'Utah'}, {'percentage': '0.004059', 'region': 'Vermont'}, {'percentage': '0.017552', 'region': 'Virginia'}, {'percentage': '0.036705', 'region': 'Washington'}, {'percentage': '0.00749', 'region': 'West Virginia'}, {'percentage': '0.021554', 'region': 'Wisconsin'}, {'percentage': '0.002344', 'region': 'Wyoming'}, {'percentage': '0.027214', 'region': 'Colorado'}, {'percentage': '0.021382', 'region': 'Georgia'}, {'percentage': '0.02224', 'region': 'New Jersey'}, {'percentage': '0.011263', 'region': 'Nevada'}, {'percentage': '0.003945', 'region': 'Alaska'}, {'percentage': '0.016923', 'region': 'Iowa'}, {'percentage': '0.033217', 'region': 'Arizona'}, {'percentage': '0.00749', 'region': 'Arkansas'}, {'percentage': '0.085358', 'region': 'California'}, {'percentage': '0.011549', 'region': 'Connecticut'}, {'percentage': '0.003144', 'region': 'Delaware'}, {'percentage': '0.079927', 'region': 'Florida'}, {'percentage': '0.004345', 'region': 'Hawaii'}, {'percentage': '0.006918', 'region': 'Idaho'}, {'percentage': '0.035218', 'region': 'Illinois'}, {'percentage': '0.01961', 'region': 'Indiana'}, {'percentage': '0.01132', 'region': 'Kansas'}, {'percentage': '0.006861', 'region': 'Nebraska'}, {'percentage': '0.017266', 'region': 'Kentucky'}, {'percentage': '0.007547', 'region': 'Louisiana'}, {'percentage': '0.008862', 'region': 'Maine'}, {'percentage': '0.011492', 'region': 'Maryland'}, {'percentage': '0.023612', 'region': 'Massachusetts'}, {'percentage': '0.03962', 'region': 'Michigan'}, {'percentage': '0.023726', 'region': 'Minnesota'}, {'percentage': '0.00303', 'region': 'Mississippi'}, {'percentage': '0.021039', 'region': 'Missouri'}, {'percentage': '0.007432', 'region': 'Montana'}, {'percentage': '0.058201', 'region': 'Texas'}], 'demographic_distribution': [{'age': '35-44', 'gender': 'unknown', 'percentage': '0.000115'}, {'age': '25-34', 'gender': 'female', 'percentage': '0.001205'}, {'age': '55-64', 'gender': 'unknown', 'percentage': '0.001664'}, {'age': '25-34', 'gender': 'male', 'percentage': '0.000918'}, {'age': '45-54', 'gender': 'unknown', 'percentage': '0.000172'}, {'age': '65+', 'gender': 'female', 'percentage': '0.445369'}, {'age': '35-44', 'gender': 'male', 'percentage': '0.002353'}, {'age': '55-64', 'gender': 'male', 'percentage': '0.097441'}, {'age': '55-64', 'gender': 'female', 'percentage': '0.142201'}, {'age': '45-54', 'gender': 'female', 'percentage': '0.011879'}, {'age': '45-54', 'gender': 'male', 'percentage': '0.011477'}, {'age': '18-24', 'gender': 'female', 'percentage': '0.00109'}, {'age': '18-24', 'gender': 'male', 'percentage': '0.000803'}, {'age': '35-44', 'gender': 'female', 'percentage': '0.001722'}, {'age': '65+', 'gender': 'unknown', 'percentage': '0.005624'}, {'age': '65+', 'gender': 'male', 'percentage': '0.275967'}], 'impressions': {'lower_bound': '20000', 'upper_bound': '24999'}, 'languages': ['en'], 'page_id': '1438808983108348', 'page_name': 'BOLD PAC', 'publisher_platforms': ['facebook'], 'spend': {'lower_bound': '600', 'upper_bound': '699'}}\n",
            "574481166302776 {'_id': '574481166302776', 'ad_creation_time': '2018-10-27', 'ad_creative_bodies': [' '], 'ad_creative_link_captions': ['fb.me'], 'ad_creative_link_descriptions': [' '], 'ad_creative_link_titles': ['How Republican Am I? Take The Simple Quiz'], 'ad_delivery_start_time': '2018-10-27', 'ad_delivery_stop_time': '2018-10-30', 'bylines': 'Secure Financial Advisory Group', 'currency': 'USD', 'delivery_by_region': [{'percentage': '0.019243', 'region': 'Alabama'}, {'percentage': '0.047147', 'region': 'Pennsylvania'}, {'percentage': '0.0089', 'region': 'Nevada'}, {'percentage': '0.00433', 'region': 'New Hampshire'}, {'percentage': '0.02646', 'region': 'New Jersey'}, {'percentage': '0.007186', 'region': 'New Mexico'}, {'percentage': '0.05313', 'region': 'New York'}, {'percentage': '0.037044', 'region': 'North Carolina'}, {'percentage': '0.002165', 'region': 'North Dakota'}, {'percentage': '0.043538', 'region': 'Ohio'}, {'percentage': '0.0178', 'region': 'Oklahoma'}, {'percentage': '0.013651', 'region': 'Oregon'}, {'percentage': '0.00445', 'region': 'Rhode Island'}, {'percentage': '0.005051', 'region': 'Montana'}, {'percentage': '0.021408', 'region': 'South Carolina'}, {'percentage': '0.002887', 'region': 'South Dakota'}, {'percentage': '0.028865', 'region': 'Tennessee'}, {'percentage': '0.08395', 'region': 'Texas'}, {'percentage': '0.006224', 'region': 'Utah'}, {'percentage': '0.001924', 'region': 'Vermont'}, {'percentage': '0.023092', 'region': 'Virginia'}, {'percentage': '0.017319', 'region': 'Washington'}, {'percentage': '0.01341', 'region': 'West Virginia'}, {'percentage': '0.018281', 'region': 'Wisconsin'}, {'percentage': '0.007216', 'region': 'Nebraska'}, {'percentage': '0.021649', 'region': 'Missouri'}, {'percentage': '0.002405', 'region': 'Alaska'}, {'percentage': '0.005803', 'region': 'Idaho'}, {'percentage': '0.019243', 'region': 'Arizona'}, {'percentage': '0.014914', 'region': 'Arkansas'}, {'percentage': '0.059625', 'region': 'California'}, {'percentage': '0.013891', 'region': 'Colorado'}, {'percentage': '0.009381', 'region': 'Connecticut'}, {'percentage': '0.002646', 'region': 'Delaware'}, {'percentage': '0.000722', 'region': 'District of Columbia'}, {'percentage': '0.076252', 'region': 'Florida'}, {'percentage': '0.032954', 'region': 'Georgia'}, {'percentage': '0.002706', 'region': 'Hawaii'}, {'percentage': '0.0356', 'region': 'Illinois'}, {'percentage': '0.013982', 'region': 'Mississippi'}, {'percentage': '0.032594', 'region': 'Indiana'}, {'percentage': '0.009622', 'region': 'Iowa'}, {'percentage': '0.010584', 'region': 'Kansas'}, {'percentage': '0.02213', 'region': 'Kentucky'}, {'percentage': '0.021408', 'region': 'Louisiana'}, {'percentage': '0.006254', 'region': 'Maine'}, {'percentage': '0.014433', 'region': 'Maryland'}, {'percentage': '0.016116', 'region': 'Massachusetts'}, {'percentage': '0.029346', 'region': 'Michigan'}, {'percentage': '0.009141', 'region': 'Minnesota'}, {'percentage': '0.001924', 'region': 'Wyoming'}], 'demographic_distribution': [{'age': '55-64', 'gender': 'unknown', 'percentage': '0.002141'}, {'age': '55-64', 'gender': 'female', 'percentage': '0.174833'}, {'age': '55-64', 'gender': 'male', 'percentage': '0.314938'}, {'age': '65+', 'gender': 'unknown', 'percentage': '0.00333'}, {'age': '65+', 'gender': 'female', 'percentage': '0.193149'}, {'age': '65+', 'gender': 'male', 'percentage': '0.311608'}], 'impressions': {'lower_bound': '35000', 'upper_bound': '39999'}, 'page_id': '323384244941486', 'page_name': 'Secure Financial Advisory Group', 'publisher_platforms': ['facebook'], 'spend': {'lower_bound': '800', 'upper_bound': '899'}}\n",
            "247067742676257 {'_id': '247067742676257', 'ad_creation_time': '2018-08-29', 'ad_creative_bodies': [\"We're fighting for a robust public education system  in order to create stronger communities and a brighter future for our children.\"], 'ad_creative_link_titles': ['Great Public Schools'], 'ad_delivery_start_time': '2018-08-29', 'ad_delivery_stop_time': '2019-01-22', 'bylines': 'Great Public Schools for US', 'currency': 'USD', 'delivery_by_region': [{'percentage': '0.001053', 'region': 'Alabama'}, {'percentage': '0.057123', 'region': 'Pennsylvania'}, {'percentage': '0.012702', 'region': 'Nevada'}, {'percentage': '0.001825', 'region': 'New Hampshire'}, {'percentage': '0.016842', 'region': 'New Jersey'}, {'percentage': '0.009333', 'region': 'New Mexico'}, {'percentage': '0.202807', 'region': 'New York'}, {'percentage': '0.005895', 'region': 'North Carolina'}, {'percentage': '0.000211', 'region': 'North Dakota'}, {'percentage': '0.072702', 'region': 'Ohio'}, {'percentage': '0.001474', 'region': 'Oklahoma'}, {'percentage': '0.020702', 'region': 'Oregon'}, {'percentage': '0.006526', 'region': 'Rhode Island'}, {'percentage': '0.001474', 'region': 'Montana'}, {'percentage': '0.002667', 'region': 'South Carolina'}, {'percentage': '0.000421', 'region': 'South Dakota'}, {'percentage': '0.003579', 'region': 'Tennessee'}, {'percentage': '0.022105', 'region': 'Texas'}, {'percentage': '0.000842', 'region': 'Utah'}, {'percentage': '0.002526', 'region': 'Vermont'}, {'percentage': '0.003439', 'region': 'Virginia'}, {'percentage': '0.051018', 'region': 'Washington'}, {'percentage': '0.003368', 'region': 'West Virginia'}, {'percentage': '0.040702', 'region': 'Wisconsin'}, {'percentage': '0.010456', 'region': 'Nebraska'}, {'percentage': '0.003649', 'region': 'Missouri'}, {'percentage': '0.006316', 'region': 'Alaska'}, {'percentage': '0.000912', 'region': 'Idaho'}, {'percentage': '0.006526', 'region': 'Arizona'}, {'percentage': '0.001053', 'region': 'Arkansas'}, {'percentage': '0.103719', 'region': 'California'}, {'percentage': '0.003298', 'region': 'Colorado'}, {'percentage': '0.019158', 'region': 'Connecticut'}, {'percentage': '0.004421', 'region': 'Delaware'}, {'percentage': '0.004772', 'region': 'District of Columbia'}, {'percentage': '0.062456', 'region': 'Florida'}, {'percentage': '0.005965', 'region': 'Georgia'}, {'percentage': '0.015579', 'region': 'Hawaii'}, {'percentage': '0.071088', 'region': 'Illinois'}, {'percentage': '0.001053', 'region': 'Mississippi'}, {'percentage': '0.007018', 'region': 'Indiana'}, {'percentage': '0.022526', 'region': 'Iowa'}, {'percentage': '0.002947', 'region': 'Kansas'}, {'percentage': '0.003298', 'region': 'Kentucky'}, {'percentage': '0.001263', 'region': 'Louisiana'}, {'percentage': '0.003088', 'region': 'Maine'}, {'percentage': '0.025684', 'region': 'Maryland'}, {'percentage': '0.019649', 'region': 'Massachusetts'}, {'percentage': '0.022947', 'region': 'Michigan'}, {'percentage': '0.029684', 'region': 'Minnesota'}, {'percentage': '0.00014', 'region': 'Wyoming'}], 'demographic_distribution': [{'age': '18-24', 'gender': 'unknown', 'percentage': '0.00014'}, {'age': '45-54', 'gender': 'female', 'percentage': '0.12562'}, {'age': '65+', 'gender': 'female', 'percentage': '0.220934'}, {'age': '65+', 'gender': 'unknown', 'percentage': '0.001885'}, {'age': '55-64', 'gender': 'male', 'percentage': '0.090566'}, {'age': '55-64', 'gender': 'female', 'percentage': '0.216256'}, {'age': '55-64', 'gender': 'unknown', 'percentage': '0.002653'}, {'age': '45-54', 'gender': 'male', 'percentage': '0.061658'}, {'age': '45-54', 'gender': 'unknown', 'percentage': '0.001187'}, {'age': '18-24', 'gender': 'female', 'percentage': '0.006564'}, {'age': '35-44', 'gender': 'male', 'percentage': '0.043642'}, {'age': '35-44', 'gender': 'female', 'percentage': '0.096083'}, {'age': '35-44', 'gender': 'unknown', 'percentage': '0.001187'}, {'age': '25-34', 'gender': 'male', 'percentage': '0.021018'}, {'age': '25-34', 'gender': 'female', 'percentage': '0.03247'}, {'age': '25-34', 'gender': 'unknown', 'percentage': '0.000908'}, {'age': '18-24', 'gender': 'male', 'percentage': '0.006424'}, {'age': '65+', 'gender': 'male', 'percentage': '0.070805'}], 'impressions': {'lower_bound': '35000', 'upper_bound': '39999'}, 'page_id': '121226579517', 'page_name': 'Great Public Schools for US', 'publisher_platforms': ['facebook'], 'spend': {'lower_bound': '500', 'upper_bound': '599'}}\n",
            "280066612599813 {'_id': '280066612599813', 'ad_creation_time': '2018-09-08', 'ad_creative_bodies': [\"Human Rights Are Not Optional\\n\\nAvailable in Men & Women's t-Shirts, Long Sleeve, V-Neck, Hoodies, Sweatshirts, Stickers, and Coffee Mugs\\n\\nVarious colors are available for each item. Click on the color boxes you see near the shirt or item. Get Yours Here: https://teespring.com/tcl-rights\"], 'ad_delivery_start_time': '2018-09-08', 'ad_delivery_stop_time': '2018-09-15', 'bylines': 'The Christian Left', 'currency': 'USD', 'delivery_by_region': [{'percentage': '0.01458', 'region': 'Alabama'}, {'percentage': '0.039529', 'region': 'Pennsylvania'}, {'percentage': '0.010044', 'region': 'Nevada'}, {'percentage': '0.003888', 'region': 'New Hampshire'}, {'percentage': '0.016524', 'region': 'New Jersey'}, {'percentage': '0.008424', 'region': 'New Mexico'}, {'percentage': '0.036937', 'region': 'New York'}, {'percentage': '0.038557', 'region': 'North Carolina'}, {'percentage': '0.001296', 'region': 'North Dakota'}, {'percentage': '0.042769', 'region': 'Ohio'}, {'percentage': '0.023328', 'region': 'Oklahoma'}, {'percentage': '0.020736', 'region': 'Oregon'}, {'percentage': '0.00162', 'region': 'Rhode Island'}, {'percentage': '0.004536', 'region': 'Montana'}, {'percentage': '0.015228', 'region': 'South Carolina'}, {'percentage': '0.002268', 'region': 'South Dakota'}, {'percentage': '0.031428', 'region': 'Tennessee'}, {'percentage': '0.071929', 'region': 'Texas'}, {'percentage': '0.005508', 'region': 'Utah'}, {'percentage': '0.002268', 'region': 'Vermont'}, {'percentage': '0.027864', 'region': 'Virginia'}, {'percentage': '0.034669', 'region': 'Washington'}, {'percentage': '0.006804', 'region': 'West Virginia'}, {'percentage': '0.020736', 'region': 'Wisconsin'}, {'percentage': '0.010692', 'region': 'Nebraska'}, {'percentage': '0.028512', 'region': 'Missouri'}, {'percentage': '0.002916', 'region': 'Alaska'}, {'percentage': '0.005832', 'region': 'Idaho'}, {'percentage': '0.021384', 'region': 'Arizona'}, {'percentage': '0.014904', 'region': 'Arkansas'}, {'percentage': '0.097201', 'region': 'California'}, {'percentage': '0.02268', 'region': 'Colorado'}, {'percentage': '0.008424', 'region': 'Connecticut'}, {'percentage': '0.002592', 'region': 'Delaware'}, {'percentage': '0.003888', 'region': 'District of Columbia'}, {'percentage': '0.058321', 'region': 'Florida'}, {'percentage': '0.02754', 'region': 'Georgia'}, {'percentage': '0.00401', 'region': 'Hawaii'}, {'percentage': '0.037585', 'region': 'Illinois'}, {'percentage': '0.003564', 'region': 'Mississippi'}, {'percentage': '0.024948', 'region': 'Indiana'}, {'percentage': '0.00972', 'region': 'Iowa'}, {'percentage': '0.009072', 'region': 'Kansas'}, {'percentage': '0.027864', 'region': 'Kentucky'}, {'percentage': '0.009396', 'region': 'Louisiana'}, {'percentage': '0.004212', 'region': 'Maine'}, {'percentage': '0.011664', 'region': 'Maryland'}, {'percentage': '0.014904', 'region': 'Massachusetts'}, {'percentage': '0.038557', 'region': 'Michigan'}, {'percentage': '0.016848', 'region': 'Minnesota'}, {'percentage': '0.001296', 'region': 'Wyoming'}], 'demographic_distribution': [{'age': '18-24', 'gender': 'unknown', 'percentage': '0.000324'}, {'age': '45-54', 'gender': 'female', 'percentage': '0.129168'}, {'age': '65+', 'gender': 'female', 'percentage': '0.089673'}, {'age': '65+', 'gender': 'unknown', 'percentage': '0.001619'}, {'age': '55-64', 'gender': 'male', 'percentage': '0.107802'}, {'age': '55-64', 'gender': 'female', 'percentage': '0.11978'}, {'age': '55-64', 'gender': 'unknown', 'percentage': '0.002266'}, {'age': '45-54', 'gender': 'male', 'percentage': '0.104241'}, {'age': '45-54', 'gender': 'unknown', 'percentage': '0.000647'}, {'age': '18-24', 'gender': 'female', 'percentage': '0.015863'}, {'age': '35-44', 'gender': 'male', 'percentage': '0.089997'}, {'age': '35-44', 'gender': 'female', 'percentage': '0.118485'}, {'age': '35-44', 'gender': 'unknown', 'percentage': '0.001295'}, {'age': '25-34', 'gender': 'male', 'percentage': '0.0573'}, {'age': '25-34', 'gender': 'female', 'percentage': '0.069278'}, {'age': '25-34', 'gender': 'unknown', 'percentage': '0.001942'}, {'age': '18-24', 'gender': 'male', 'percentage': '0.016834'}, {'age': '65+', 'gender': 'male', 'percentage': '0.073487'}], 'impressions': {'lower_bound': '35000', 'upper_bound': '39999'}, 'page_id': '109200595768753', 'page_name': 'The Christian Left', 'publisher_platforms': ['facebook', 'instagram'], 'spend': {'lower_bound': '100', 'upper_bound': '199'}}\n",
            "1950295451935551 {'_id': '1950295451935551', 'ad_creation_time': '2018-09-13', 'ad_creative_bodies': ['NEW POLL: Our opponent just released a poll giving him a 1-POINT ADVANTAGE over us in #MN02. Cook Political Report is calling this race a TOSS-UP and Nate Silver says it could come down a handful of votes. Chip in right now to help us reach more voters so we can win this nail-biter election in #MN02 and take back the House.'], 'ad_creative_link_captions': ['secure.actblue.com'], 'ad_creative_link_descriptions': [\"Minnesota's 2nd Congressional District is pivotal to taking back the House.\"], 'ad_creative_link_titles': ['Help Take Back the House. Chip in to flip MN-02.'], 'ad_delivery_start_time': '2018-09-13', 'ad_delivery_stop_time': '2018-09-18', 'bylines': 'Angie Craig for Congress', 'currency': 'USD', 'delivery_by_region': [{'percentage': '1', 'region': 'Minnesota'}], 'demographic_distribution': [{'age': '18-24', 'gender': 'unknown', 'percentage': '0.002015'}, {'age': '45-54', 'gender': 'female', 'percentage': '0.074908'}, {'age': '65+', 'gender': 'female', 'percentage': '0.122943'}, {'age': '65+', 'gender': 'unknown', 'percentage': '0.002351'}, {'age': '55-64', 'gender': 'male', 'percentage': '0.106819'}, {'age': '55-64', 'gender': 'female', 'percentage': '0.120927'}, {'age': '55-64', 'gender': 'unknown', 'percentage': '0.003695'}, {'age': '45-54', 'gender': 'male', 'percentage': '0.097414'}, {'age': '45-54', 'gender': 'unknown', 'percentage': '0.002351'}, {'age': '18-24', 'gender': 'female', 'percentage': '0.027545'}, {'age': '35-44', 'gender': 'male', 'percentage': '0.099429'}, {'age': '35-44', 'gender': 'female', 'percentage': '0.071213'}, {'age': '35-44', 'gender': 'unknown', 'percentage': '0.00168'}, {'age': '25-34', 'gender': 'male', 'percentage': '0.090024'}, {'age': '25-34', 'gender': 'female', 'percentage': '0.046019'}, {'age': '25-34', 'gender': 'unknown', 'percentage': '0.002687'}, {'age': '18-24', 'gender': 'male', 'percentage': '0.03124'}, {'age': '65+', 'gender': 'male', 'percentage': '0.096742'}], 'impressions': {'lower_bound': '9000', 'upper_bound': '9999'}, 'page_id': '1642386799323957', 'page_name': 'Angie Craig', 'publisher_platforms': ['facebook', 'instagram'], 'spend': {'lower_bound': '200', 'upper_bound': '299'}}\n",
            "600399557050005 {'_id': '600399557050005', 'ad_creation_time': '2018-12-21', 'ad_creative_bodies': ['Receive Your Free Bumper Sticker'], 'ad_creative_link_captions': ['cbn.com'], 'ad_creative_link_descriptions': ['Together, we can change America. An individual who prays and humbles himself before God can change the course of a nation.  Your prayers are so important and together we can make an eternal difference.'], 'ad_creative_link_titles': ['Sign Up To Pray for America'], 'ad_delivery_start_time': '2018-12-21', 'ad_delivery_stop_time': '2019-11-07', 'bylines': 'The Christian Broadcasting Network, Inc.', 'currency': 'USD', 'delivery_by_region': [{'percentage': '0.033124', 'region': 'Alabama'}, {'percentage': '0.02795', 'region': 'South Carolina'}, {'percentage': '0.005267', 'region': 'Nevada'}, {'percentage': '0.002089', 'region': 'New Hampshire'}, {'percentage': '0.011252', 'region': 'New Jersey'}, {'percentage': '0.007051', 'region': 'New Mexico'}, {'percentage': '0.025609', 'region': 'New York'}, {'percentage': '0.05384', 'region': 'North Carolina'}, {'percentage': '0.055138', 'region': 'Ohio'}, {'percentage': '0.023673', 'region': 'Oklahoma'}, {'percentage': '0.009739', 'region': 'Oregon'}, {'percentage': '0.038854', 'region': 'Pennsylvania'}, {'percentage': '0.002579', 'region': 'South Dakota'}, {'percentage': '0.003277', 'region': 'Montana'}, {'percentage': '0.044296', 'region': 'Tennessee'}, {'percentage': '0.092247', 'region': 'Texas'}, {'percentage': '0.002923', 'region': 'Utah'}, {'percentage': '0.000781', 'region': 'Vermont'}, {'percentage': '0.02988', 'region': 'Virginia'}, {'percentage': '0.014351', 'region': 'Washington'}, {'percentage': '0.018071', 'region': 'West Virginia'}, {'percentage': '0.011663', 'region': 'Wisconsin'}, {'percentage': '0.001784', 'region': 'Wyoming'}, {'percentage': '0.00195', 'region': 'North Dakota'}, {'percentage': '0.005734', 'region': 'Nebraska'}, {'percentage': '0.031154', 'region': 'Missouri'}, {'percentage': '0.001837', 'region': 'Alaska'}, {'percentage': '0.004668', 'region': 'Idaho'}, {'percentage': '0.018859', 'region': 'Arizona'}, {'percentage': '0.021984', 'region': 'Arkansas'}, {'percentage': '0.055807', 'region': 'California'}, {'percentage': '0.00963', 'region': 'Colorado'}, {'percentage': '0.004548', 'region': 'Connecticut'}, {'percentage': '0.002354', 'region': 'Delaware'}, {'percentage': '0.000556', 'region': 'Washington, District of Columbia'}, {'percentage': '0.059667', 'region': 'Florida'}, {'percentage': '0.046319', 'region': 'Georgia'}, {'percentage': '0.001566', 'region': 'Hawaii'}, {'percentage': '0.026523', 'region': 'Illinois'}, {'percentage': '0.019204', 'region': 'Mississippi'}, {'percentage': '0.032352', 'region': 'Indiana'}, {'percentage': '0.00816', 'region': 'Iowa'}, {'percentage': '0.011275', 'region': 'Kansas'}, {'percentage': '0.036527', 'region': 'Kentucky'}, {'percentage': '0.021395', 'region': 'Louisiana'}, {'percentage': '0.003953', 'region': 'Maine'}, {'percentage': '0.010074', 'region': 'Maryland'}, {'percentage': '0.005456', 'region': 'Massachusetts'}, {'percentage': '0.031167', 'region': 'Michigan'}, {'percentage': '0.010338', 'region': 'Minnesota'}, {'percentage': '0.001506', 'region': 'Rhode Island'}], 'demographic_distribution': [{'age': '55-64', 'gender': 'female', 'percentage': '0.251605'}, {'age': '55-64', 'gender': 'unknown', 'percentage': '0.00135'}, {'age': '18-24', 'gender': 'unknown', 'percentage': '0.000116'}, {'age': '25-34', 'gender': 'unknown', 'percentage': '0.000338'}, {'age': '65+', 'gender': 'unknown', 'percentage': '0.001151'}, {'age': '18-24', 'gender': 'female', 'percentage': '0.026382'}, {'age': '45-54', 'gender': 'unknown', 'percentage': '0.000819'}, {'age': '35-44', 'gender': 'male', 'percentage': '0.024743'}, {'age': '25-34', 'gender': 'male', 'percentage': '0.017525'}, {'age': '65+', 'gender': 'female', 'percentage': '0.21074'}, {'age': '18-24', 'gender': 'male', 'percentage': '0.012214'}, {'age': '65+', 'gender': 'male', 'percentage': '0.043519'}, {'age': '45-54', 'gender': 'male', 'percentage': '0.043227'}, {'age': '35-44', 'gender': 'female', 'percentage': '0.083753'}, {'age': '55-64', 'gender': 'male', 'percentage': '0.059083'}, {'age': '25-34', 'gender': 'female', 'percentage': '0.050996'}, {'age': '45-54', 'gender': 'female', 'percentage': '0.171882'}, {'age': '35-44', 'gender': 'unknown', 'percentage': '0.000557'}], 'impressions': {'lower_bound': '600000', 'upper_bound': '699999'}, 'languages': ['en'], 'page_id': '113351505349955', 'page_name': 'The Christian Broadcasting Network', 'publisher_platforms': ['facebook'], 'spend': {'lower_bound': '9000', 'upper_bound': '9999'}}\n",
            "313585819459400 {'_id': '313585819459400', 'ad_creation_time': '2018-10-20', 'ad_creative_bodies': ['When, where, and how are you voting? Comment below to let us know.'], 'ad_creative_link_captions': ['justvotecolorado.org'], 'ad_creative_link_descriptions': ['Here at Just Vote Colorado, we do not support candidates or ballot measures, but we do want to make sure you, the voters, have everything you need to make the most informed decision at the ballot box.'], 'ad_creative_link_titles': ['Vote for Jena Griswold by Nov. 6'], 'ad_delivery_start_time': '2018-10-20', 'ad_delivery_stop_time': '2018-10-23', 'bylines': 'Jena Griswold for Colorado', 'currency': 'USD', 'delivery_by_region': [{'percentage': '0.001717', 'region': 'Alabama'}, {'percentage': '0.003777', 'region': 'Oregon'}, {'percentage': '0.00206', 'region': 'Nevada'}, {'percentage': '0.001717', 'region': 'New Hampshire'}, {'percentage': '0.004121', 'region': 'New Jersey'}, {'percentage': '0.005838', 'region': 'New Mexico'}, {'percentage': '0.007212', 'region': 'New York'}, {'percentage': '0.004464', 'region': 'North Carolina'}, {'percentage': '0.001717', 'region': 'North Dakota'}, {'percentage': '0.008929', 'region': 'Ohio'}, {'percentage': '0.003091', 'region': 'Oklahoma'}, {'percentage': '0.003777', 'region': 'Pennsylvania'}, {'percentage': '0.002404', 'region': 'Montana'}, {'percentage': '0.000687', 'region': 'Rhode Island'}, {'percentage': '0.001717', 'region': 'South Carolina'}, {'percentage': '0.002404', 'region': 'South Dakota'}, {'percentage': '0.003091', 'region': 'Tennessee'}, {'percentage': '0.01717', 'region': 'Texas'}, {'percentage': '0.003091', 'region': 'Utah'}, {'percentage': '0.002747', 'region': 'Virginia'}, {'percentage': '0.006181', 'region': 'Washington'}, {'percentage': '0.000343', 'region': 'West Virginia'}, {'percentage': '0.003434', 'region': 'Wisconsin'}, {'percentage': '0.005495', 'region': 'Nebraska'}, {'percentage': '0.006181', 'region': 'Missouri'}, {'percentage': '0.000687', 'region': 'Alaska'}, {'percentage': '0.000687', 'region': 'Idaho'}, {'percentage': '0.008585', 'region': 'Arizona'}, {'percentage': '0.021978', 'region': 'California'}, {'percentage': '0.792582', 'region': 'Colorado'}, {'percentage': '0.000687', 'region': 'Connecticut'}, {'percentage': '0.000687', 'region': 'Delaware'}, {'percentage': '0.00103', 'region': 'District of Columbia'}, {'percentage': '0.011676', 'region': 'Florida'}, {'percentage': '0.003777', 'region': 'Georgia'}, {'percentage': '0.002404', 'region': 'Hawaii'}, {'percentage': '0.012019', 'region': 'Illinois'}, {'percentage': '0.001717', 'region': 'Mississippi'}, {'percentage': '0.003091', 'region': 'Indiana'}, {'percentage': '0.004464', 'region': 'Iowa'}, {'percentage': '0.008242', 'region': 'Kansas'}, {'percentage': '0.001717', 'region': 'Kentucky'}, {'percentage': '0.004121', 'region': 'Louisiana'}, {'percentage': '0.000687', 'region': 'Maine'}, {'percentage': '0.003091', 'region': 'Maryland'}, {'percentage': '0.003777', 'region': 'Massachusetts'}, {'percentage': '0.002404', 'region': 'Michigan'}, {'percentage': '0.002404', 'region': 'Minnesota'}, {'percentage': '0.004121', 'region': 'Wyoming'}], 'demographic_distribution': [{'age': '18-24', 'gender': 'unknown', 'percentage': '0.001717'}, {'age': '45-54', 'gender': 'female', 'percentage': '0.075549'}, {'age': '65+', 'gender': 'female', 'percentage': '0.181662'}, {'age': '65+', 'gender': 'unknown', 'percentage': '0.00206'}, {'age': '55-64', 'gender': 'male', 'percentage': '0.080014'}, {'age': '55-64', 'gender': 'female', 'percentage': '0.135646'}, {'age': '55-64', 'gender': 'unknown', 'percentage': '0.001374'}, {'age': '45-54', 'gender': 'male', 'percentage': '0.067308'}, {'age': '45-54', 'gender': 'unknown', 'percentage': '0.00103'}, {'age': '18-24', 'gender': 'female', 'percentage': '0.083448'}, {'age': '35-44', 'gender': 'male', 'percentage': '0.045673'}, {'age': '35-44', 'gender': 'female', 'percentage': '0.051854'}, {'age': '35-44', 'gender': 'unknown', 'percentage': '0.000687'}, {'age': '25-34', 'gender': 'male', 'percentage': '0.059409'}, {'age': '25-34', 'gender': 'female', 'percentage': '0.074176'}, {'age': '18-24', 'gender': 'male', 'percentage': '0.049107'}, {'age': '65+', 'gender': 'male', 'percentage': '0.089286'}], 'impressions': {'lower_bound': '3000', 'upper_bound': '3999'}, 'page_id': '476570142705414', 'page_name': 'Jena Griswold', 'publisher_platforms': ['facebook', 'instagram'], 'spend': {'lower_bound': '0', 'upper_bound': '99'}}\n",
            "134229660794821 {'_id': '134229660794821', 'ad_creation_time': '2018-12-22', 'ad_creative_bodies': ['There is no reason a child should go without food.'], 'ad_creative_link_captions': ['secure.nokidhungry.org'], 'ad_creative_link_titles': ['Help End Child Hunger In The U.S.'], 'ad_delivery_start_time': '2018-12-22', 'ad_delivery_stop_time': '2019-02-08', 'bylines': 'No Kid Hungry', 'currency': 'USD', 'delivery_by_region': [{'percentage': '0.0059', 'region': 'Alabama'}, {'percentage': '0.051971', 'region': 'Pennsylvania'}, {'percentage': '0.007705', 'region': 'Nevada'}, {'percentage': '0.005935', 'region': 'New Hampshire'}, {'percentage': '0.061168', 'region': 'New Jersey'}, {'percentage': '0.004928', 'region': 'New Mexico'}, {'percentage': '0.11274', 'region': 'New York'}, {'percentage': '0.024988', 'region': 'North Carolina'}, {'percentage': '0.000885', 'region': 'North Dakota'}, {'percentage': '0.032102', 'region': 'Ohio'}, {'percentage': '0.004668', 'region': 'Oklahoma'}, {'percentage': '0.011661', 'region': 'Oregon'}, {'percentage': '0.005431', 'region': 'Rhode Island'}, {'percentage': '0.001978', 'region': 'Montana'}, {'percentage': '0.008659', 'region': 'South Carolina'}, {'percentage': '0.001354', 'region': 'South Dakota'}, {'percentage': '0.015201', 'region': 'Tennessee'}, {'percentage': '0.036111', 'region': 'Texas'}, {'percentage': '0.004373', 'region': 'Utah'}, {'percentage': '0.002915', 'region': 'Vermont'}, {'percentage': '0.027487', 'region': 'Virginia'}, {'percentage': '0.02183', 'region': 'Washington'}, {'percentage': '0.003193', 'region': 'West Virginia'}, {'percentage': '0.013084', 'region': 'Wisconsin'}, {'percentage': '0.004199', 'region': 'Nebraska'}, {'percentage': '0.016069', 'region': 'Missouri'}, {'percentage': '0.001267', 'region': 'Alaska'}, {'percentage': '0.00236', 'region': 'Idaho'}, {'percentage': '0.015722', 'region': 'Arizona'}, {'percentage': '0.0038', 'region': 'Arkansas'}, {'percentage': '0.156434', 'region': 'California'}, {'percentage': '0.01331', 'region': 'Colorado'}, {'percentage': '0.023079', 'region': 'Connecticut'}, {'percentage': '0.005102', 'region': 'Delaware'}, {'percentage': '0.01206', 'region': 'District of Columbia'}, {'percentage': '0.064222', 'region': 'Florida'}, {'percentage': '0.01999', 'region': 'Georgia'}, {'percentage': '0.003106', 'region': 'Hawaii'}, {'percentage': '0.040414', 'region': 'Illinois'}, {'percentage': '0.001961', 'region': 'Mississippi'}, {'percentage': '0.014576', 'region': 'Indiana'}, {'percentage': '0.006264', 'region': 'Iowa'}, {'percentage': '0.006715', 'region': 'Kansas'}, {'percentage': '0.007653', 'region': 'Kentucky'}, {'percentage': '0.003991', 'region': 'Louisiana'}, {'percentage': '0.005813', 'region': 'Maine'}, {'percentage': '0.027487', 'region': 'Maryland'}, {'percentage': '0.038835', 'region': 'Massachusetts'}, {'percentage': '0.02537', 'region': 'Michigan'}, {'percentage': '0.013136', 'region': 'Minnesota'}, {'percentage': '0.000798', 'region': 'Wyoming'}], 'demographic_distribution': [{'age': '18-24', 'gender': 'unknown', 'percentage': '5.2E-5'}, {'age': '45-54', 'gender': 'female', 'percentage': '0.10317'}, {'age': '65+', 'gender': 'female', 'percentage': '0.315543'}, {'age': '65+', 'gender': 'unknown', 'percentage': '0.005618'}, {'age': '55-64', 'gender': 'male', 'percentage': '0.046192'}, {'age': '55-64', 'gender': 'female', 'percentage': '0.218841'}, {'age': '55-64', 'gender': 'unknown', 'percentage': '0.004352'}, {'age': '45-54', 'gender': 'male', 'percentage': '0.02646'}, {'age': '45-54', 'gender': 'unknown', 'percentage': '0.002532'}, {'age': '18-24', 'gender': 'female', 'percentage': '0.002809'}, {'age': '35-44', 'gender': 'male', 'percentage': '0.026131'}, {'age': '35-44', 'gender': 'female', 'percentage': '0.101436'}, {'age': '35-44', 'gender': 'unknown', 'percentage': '0.003138'}, {'age': '25-34', 'gender': 'male', 'percentage': '0.015085'}, {'age': '25-34', 'gender': 'female', 'percentage': '0.058382'}, {'age': '25-34', 'gender': 'unknown', 'percentage': '0.002532'}, {'age': '18-24', 'gender': 'male', 'percentage': '0.000711'}, {'age': '65+', 'gender': 'male', 'percentage': '0.067017'}], 'impressions': {'lower_bound': '70000', 'upper_bound': '79999'}, 'languages': ['en'], 'page_id': '18479402361', 'page_name': 'No Kid Hungry', 'publisher_platforms': ['facebook', 'instagram'], 'spend': {'lower_bound': '1500', 'upper_bound': '1999'}}\n",
            "2073142569594246 {'_id': '2073142569594246', 'ad_creation_time': '2018-11-01', 'ad_creative_bodies': [\"This will be a historic election with far reaching consequences for your community. Turnout will be high so don't miss your chance to vote and make a mark on history.\"], 'ad_creative_link_captions': ['www.mivoteinfo.org'], 'ad_creative_link_titles': ['Whether You Vote is Public Info, So Make Sure to VOTE!'], 'ad_delivery_start_time': '2018-11-02', 'ad_delivery_stop_time': '2018-11-06', 'bylines': 'The Voting Project, 440 Burroughs St, Detroit, MI 48202', 'currency': 'USD', 'delivery_by_region': [{'percentage': '0.002694', 'region': 'Alabama'}, {'percentage': '0.005092', 'region': 'Pennsylvania'}, {'percentage': '0.001981', 'region': 'Nevada'}, {'percentage': '0.000376', 'region': 'New Hampshire'}, {'percentage': '0.002714', 'region': 'New Jersey'}, {'percentage': '0.000654', 'region': 'New Mexico'}, {'percentage': '0.013334', 'region': 'New York'}, {'percentage': '0.007231', 'region': 'North Carolina'}, {'percentage': '0.000297', 'region': 'North Dakota'}, {'percentage': '0.014285', 'region': 'Ohio'}, {'percentage': '0.001308', 'region': 'Oklahoma'}, {'percentage': '0.001922', 'region': 'Oregon'}, {'percentage': '0.000475', 'region': 'Rhode Island'}, {'percentage': '0.000357', 'region': 'Montana'}, {'percentage': '0.002833', 'region': 'South Carolina'}, {'percentage': '0.000277', 'region': 'South Dakota'}, {'percentage': '0.005587', 'region': 'Tennessee'}, {'percentage': '0.013571', 'region': 'Texas'}, {'percentage': '0.001446', 'region': 'Utah'}, {'percentage': '0.000337', 'region': 'Vermont'}, {'percentage': '0.009015', 'region': 'Virginia'}, {'percentage': '0.003863', 'region': 'Washington'}, {'percentage': '0.000753', 'region': 'West Virginia'}, {'percentage': '0.004577', 'region': 'Wisconsin'}, {'percentage': '0.000475', 'region': 'Nebraska'}, {'percentage': '0.002457', 'region': 'Missouri'}, {'percentage': '0.000456', 'region': 'Alaska'}, {'percentage': '0.000495', 'region': 'Idaho'}, {'percentage': '0.004953', 'region': 'Arizona'}, {'percentage': '0.000733', 'region': 'Arkansas'}, {'percentage': '0.02219', 'region': 'California'}, {'percentage': '0.004715', 'region': 'Colorado'}, {'percentage': '0.001248', 'region': 'Connecticut'}, {'percentage': '0.000357', 'region': 'Delaware'}, {'percentage': '0.003111', 'region': 'District of Columbia'}, {'percentage': '0.013393', 'region': 'Florida'}, {'percentage': '0.008321', 'region': 'Georgia'}, {'percentage': '0.000773', 'region': 'Hawaii'}, {'percentage': '0.016365', 'region': 'Illinois'}, {'percentage': '0.001823', 'region': 'Mississippi'}, {'percentage': '0.006221', 'region': 'Indiana'}, {'percentage': '0.001169', 'region': 'Iowa'}, {'percentage': '0.000872', 'region': 'Kansas'}, {'percentage': '0.002595', 'region': 'Kentucky'}, {'percentage': '0.001942', 'region': 'Louisiana'}, {'percentage': '0.000515', 'region': 'Maine'}, {'percentage': '0.002972', 'region': 'Maryland'}, {'percentage': '0.004101', 'region': 'Massachusetts'}, {'percentage': '0.800333', 'region': 'Michigan'}, {'percentage': '0.00212', 'region': 'Minnesota'}, {'percentage': '0.000317', 'region': 'Wyoming'}], 'demographic_distribution': [{'age': '18-24', 'gender': 'unknown', 'percentage': '0.001485'}, {'age': '45-54', 'gender': 'female', 'percentage': '0.077067'}, {'age': '65+', 'gender': 'female', 'percentage': '0.023596'}, {'age': '65+', 'gender': 'unknown', 'percentage': '0.000502'}, {'age': '55-64', 'gender': 'male', 'percentage': '0.022372'}, {'age': '55-64', 'gender': 'female', 'percentage': '0.043178'}, {'age': '55-64', 'gender': 'unknown', 'percentage': '0.000562'}, {'age': '45-54', 'gender': 'male', 'percentage': '0.048034'}, {'age': '45-54', 'gender': 'unknown', 'percentage': '0.001083'}, {'age': '18-24', 'gender': 'female', 'percentage': '0.12821'}, {'age': '35-44', 'gender': 'male', 'percentage': '0.077167'}, {'age': '35-44', 'gender': 'female', 'percentage': '0.114607'}, {'age': '35-44', 'gender': 'unknown', 'percentage': '0.001826'}, {'age': '25-34', 'gender': 'male', 'percentage': '0.148014'}, {'age': '25-34', 'gender': 'female', 'percentage': '0.202147'}, {'age': '25-34', 'gender': 'unknown', 'percentage': '0.003591'}, {'age': '18-24', 'gender': 'male', 'percentage': '0.093519'}, {'age': '65+', 'gender': 'male', 'percentage': '0.013042'}], 'impressions': {'lower_bound': '50000', 'upper_bound': '59999'}, 'page_id': '1167092243351075', 'page_name': 'The Voting Project', 'publisher_platforms': ['facebook', 'instagram'], 'spend': {'lower_bound': '200', 'upper_bound': '299'}}\n",
            "391012198079736 {'_id': '391012198079736', 'ad_creation_time': '2018-06-04', 'ad_creative_bodies': ['Skyrocketing drug prices are a threat to everyone, but you can join the fight to lower prescription drug prices by becoming an advocate today. Watch the video to learn more!'], 'ad_delivery_start_time': '2018-06-04', 'ad_delivery_stop_time': '2018-08-24', 'bylines': 'Association for Accessible Medicines', 'currency': 'USD', 'delivery_by_region': [{'percentage': '0.000198', 'region': 'Alaska'}, {'percentage': '0.056654', 'region': 'Pennsylvania'}, {'percentage': '0.000198', 'region': 'New Mexico'}, {'percentage': '0.128363', 'region': 'New York'}, {'percentage': '0.000198', 'region': 'North Dakota'}, {'percentage': '0.000594', 'region': 'Ohio'}, {'percentage': '0.000396', 'region': 'Oklahoma'}, {'percentage': '0.000198', 'region': 'Oregon'}, {'percentage': '0.000198', 'region': 'Rhode Island'}, {'percentage': '0.049127', 'region': 'Nebraska'}, {'percentage': '0.000792', 'region': 'South Carolina'}, {'percentage': '0.000198', 'region': 'Tennessee'}, {'percentage': '0.085971', 'region': 'Texas'}, {'percentage': '0.000161', 'region': 'Utah'}, {'percentage': '0.055465', 'region': 'Virginia'}, {'percentage': '0.068341', 'region': 'Washington'}, {'percentage': '0.000594', 'region': 'West Virginia'}, {'percentage': '0.067945', 'region': 'New Jersey'}, {'percentage': '0.002773', 'region': 'Missouri'}, {'percentage': '0.000594', 'region': 'Arizona'}, {'percentage': '0.000272', 'region': 'Idaho'}, {'percentage': '0.086368', 'region': 'California'}, {'percentage': '0.056456', 'region': 'Colorado'}, {'percentage': '0.000198', 'region': 'Delaware'}, {'percentage': '0.00099', 'region': 'District of Columbia'}, {'percentage': '0.036647', 'region': 'Florida'}, {'percentage': '0.000396', 'region': 'Georgia'}, {'percentage': '0.121034', 'region': 'Illinois'}, {'percentage': '0.000198', 'region': 'Mississippi'}, {'percentage': '0.000396', 'region': 'Indiana'}, {'percentage': '0.053286', 'region': 'Iowa'}, {'percentage': '0.000396', 'region': 'Kansas'}, {'percentage': '0.000396', 'region': 'Kentucky'}, {'percentage': '0.001189', 'region': 'Maryland'}, {'percentage': '0.059427', 'region': 'Michigan'}, {'percentage': '0.062597', 'region': 'Minnesota'}, {'percentage': '0.000792', 'region': 'Wisconsin'}], 'demographic_distribution': [{'age': '18-24', 'gender': 'unknown', 'percentage': '0.00099'}, {'age': '45-54', 'gender': 'female', 'percentage': '0.097228'}, {'age': '65+', 'gender': 'female', 'percentage': '0.087129'}, {'age': '65+', 'gender': 'unknown', 'percentage': '0.001188'}, {'age': '55-64', 'gender': 'male', 'percentage': '0.056634'}, {'age': '55-64', 'gender': 'female', 'percentage': '0.103366'}, {'age': '55-64', 'gender': 'unknown', 'percentage': '0.001188'}, {'age': '45-54', 'gender': 'male', 'percentage': '0.07901'}, {'age': '45-54', 'gender': 'unknown', 'percentage': '0.001188'}, {'age': '18-24', 'gender': 'female', 'percentage': '0.078218'}, {'age': '35-44', 'gender': 'male', 'percentage': '0.089901'}, {'age': '35-44', 'gender': 'female', 'percentage': '0.087525'}, {'age': '35-44', 'gender': 'unknown', 'percentage': '0.001386'}, {'age': '25-34', 'gender': 'male', 'percentage': '0.118218'}, {'age': '25-34', 'gender': 'female', 'percentage': '0.087327'}, {'age': '25-34', 'gender': 'unknown', 'percentage': '0.001386'}, {'age': '18-24', 'gender': 'male', 'percentage': '0.060594'}, {'age': '65+', 'gender': 'male', 'percentage': '0.047525'}], 'impressions': {'lower_bound': '700000', 'upper_bound': '799999'}, 'page_id': '383677738397139', 'page_name': 'Association for Accessible Medicines', 'publisher_platforms': ['facebook'], 'spend': {'lower_bound': '8000', 'upper_bound': '8999'}}\n",
            "Element found:\n",
            "{'_id': '716911622011048', 'ad_creation_time': '2018-11-06', 'ad_creative_bodies': ['Our democracy depends on YOU! As Secretary of State, Deidre DeJear will defend access to the ballot box for all eligible voters. Make a plan to VOTE on November 6th -- look up your polling place at iwillvote.com!'], 'ad_creative_link_captions': ['DeJearForIowa.com'], 'ad_creative_link_titles': ['Democracy Defender!'], 'ad_delivery_start_time': '2018-11-06', 'ad_delivery_stop_time': '2018-11-06', 'bylines': 'DeJear for Iowa', 'currency': 'USD', 'delivery_by_region': [{'percentage': '0.085005', 'region': 'Illinois'}, {'percentage': '0.914995', 'region': 'Iowa'}], 'demographic_distribution': [{'age': '18-24', 'gender': 'unknown', 'percentage': '0.000745'}, {'age': '45-54', 'gender': 'female', 'percentage': '0.055289'}, {'age': '65+', 'gender': 'female', 'percentage': '0.037869'}, {'age': '65+', 'gender': 'unknown', 'percentage': '0.000373'}, {'age': '55-64', 'gender': 'male', 'percentage': '0.032791'}, {'age': '55-64', 'gender': 'female', 'percentage': '0.051144'}, {'age': '55-64', 'gender': 'unknown', 'percentage': '0.000652'}, {'age': '45-54', 'gender': 'male', 'percentage': '0.050678'}, {'age': '45-54', 'gender': 'unknown', 'percentage': '0.000559'}, {'age': '18-24', 'gender': 'female', 'percentage': '0.157297'}, {'age': '35-44', 'gender': 'male', 'percentage': '0.09027'}, {'age': '35-44', 'gender': 'female', 'percentage': '0.098142'}, {'age': '35-44', 'gender': 'unknown', 'percentage': '0.001491'}, {'age': '25-34', 'gender': 'male', 'percentage': '0.133774'}, {'age': '25-34', 'gender': 'female', 'percentage': '0.182682'}, {'age': '25-34', 'gender': 'unknown', 'percentage': '0.002096'}, {'age': '18-24', 'gender': 'male', 'percentage': '0.083236'}, {'age': '65+', 'gender': 'male', 'percentage': '0.020914'}], 'impressions': {'lower_bound': '20000', 'upper_bound': '24999'}, 'page_id': '1490813904322906', 'page_name': 'Deidre DeJear', 'publisher_platforms': ['facebook', 'instagram'], 'spend': {'lower_bound': '200', 'upper_bound': '299'}}\n"
          ]
        }
      ]
    },
    {
      "cell_type": "code",
      "execution_count": null,
      "metadata": {
        "id": "6LTXfo58bRoF"
      },
      "outputs": [],
      "source": [
        "from tensorflow.keras.utils import Sequence\n",
        "from tensorflow.keras.preprocessing.image import img_to_array, load_img\n",
        "import numpy as np\n",
        "import os\n",
        "\n",
        "class DataGenerator(Sequence):\n",
        "    'Generates data for Keras'\n",
        "    def __init__(self, image_filenames, labels, batch_size, image_directory, dim=(512, 512), n_channels=3, shuffle=True):\n",
        "        'Initialization'\n",
        "        self.dim = dim\n",
        "        self.batch_size = batch_size\n",
        "        self.labels = labels\n",
        "        self.image_filenames = image_filenames\n",
        "        self.image_directory = image_directory\n",
        "        self.n_channels = n_channels\n",
        "        self.shuffle = shuffle\n",
        "        self.on_epoch_end()\n",
        "\n",
        "    def __len__(self):\n",
        "        'Denotes the number of batches per epoch'\n",
        "        return int(np.floor(len(self.image_filenames) / self.batch_size))\n",
        "\n",
        "    def __getitem__(self, index):\n",
        "        'Generate one batch of data'\n",
        "        # Generate indexes of the batch\n",
        "        indexes = self.indexes[index * self.batch_size:(index + 1) * self.batch_size]\n",
        "\n",
        "        # Find list of IDs\n",
        "        image_filenames_temp = [self.image_filenames[k] for k in indexes]\n",
        "\n",
        "        # Generate data\n",
        "        X, y = self.__data_generation(image_filenames_temp)\n",
        "\n",
        "        return X, y\n",
        "\n",
        "    def on_epoch_end(self):\n",
        "        'Updates indexes after each epoch'\n",
        "        self.indexes = np.arange(len(self.image_filenames))\n",
        "        if self.shuffle == True:\n",
        "            np.random.shuffle(self.indexes)\n",
        "\n",
        "    def __data_generation(self, image_filenames_temp):\n",
        "        'Generates data containing batch_size samples' # X : (n_samples, *dim, n_channels)\n",
        "        # Initialization\n",
        "        X = np.empty((self.batch_size, *self.dim, self.n_channels))\n",
        "        y = np.empty((self.batch_size), dtype=float)\n",
        "\n",
        "        # Generate data\n",
        "        for i, image_filename in enumerate(image_filenames_temp):\n",
        "            # Store sample\n",
        "            img = load_img(os.path.join(self.image_directory, image_filename + '.jpg'), target_size=self.dim)\n",
        "            X[i,] = img_to_array(img) / 255.0\n",
        "\n",
        "            # Store class\n",
        "            y[i] = self.labels[image_filename]\n",
        "\n",
        "        return X, y\n"
      ]
    },
    {
      "cell_type": "code",
      "execution_count": null,
      "metadata": {
        "colab": {
          "base_uri": "https://localhost:8080/"
        },
        "id": "Or7aFRU0YOCW",
        "outputId": "ace92bf1-3e4e-4e39-9269-9094e9fdd890"
      },
      "outputs": [
        {
          "output_type": "stream",
          "name": "stdout",
          "text": [
            "Maximum CPI value: 0.549999\n",
            "Minimum CPI value: 0.0022000488899753326\n",
            "Ad ID: 1811903708878053\n",
            "Cost Per Impression (CPI): 0.0324538278364005\n",
            "Sample Image Data (flattened): [149, 177, 224, 148, 177, 224, 146, 179, 224, 144]\n",
            "\n",
            "\n",
            "Ad ID: 1837746486345467\n",
            "Cost Per Impression (CPI): 0.016259007290586793\n",
            "Sample Image Data (flattened): [24, 21, 16, 24, 21, 16, 25, 22, 17, 25]\n",
            "\n",
            "\n",
            "Ad ID: 549937572124006\n",
            "Cost Per Impression (CPI): 0.03745596704307778\n",
            "Sample Image Data (flattened): [86, 102, 125, 87, 103, 126, 87, 103, 126, 89]\n",
            "\n",
            "\n"
          ]
        }
      ],
      "source": [
        "import pickle\n",
        "\n",
        "# Load the processed data from disk\n",
        "with open('/content/campaign_data.pkl', 'rb') as f:\n",
        "    campaign_data = pickle.load(f)\n",
        "# Initialize variables to hold max and min CPI values\n",
        "max_cpi = float('-inf')\n",
        "min_cpi = float('inf')\n",
        "\n",
        "\n",
        "# Perform Min-Max scaling on CPI values\n",
        "min_cpi = min(campaign[\"cpi\"] for campaign in campaign_data)\n",
        "max_cpi = max(campaign[\"cpi\"] for campaign in campaign_data)\n",
        "\n",
        "for campaign in campaign_data:\n",
        "    campaign[\"normalized_cpi\"] = (campaign[\"cpi\"] - min_cpi) / (max_cpi - min_cpi)\n",
        "\n",
        "# Print the maximum and minimum CPI values\n",
        "print(\"Maximum CPI value:\", max_cpi)\n",
        "print(\"Minimum CPI value:\", min_cpi)\n",
        "# Print the first few entries of the campaign data to verify\n",
        "for campaign in campaign_data[:3]:  # Adjust the range as needed for more samples\n",
        "    print(\"Ad ID:\", campaign[\"ad_id\"])\n",
        "    print(\"Cost Per Impression (CPI):\", campaign[\"normalized_cpi\"])\n",
        "    print(\"Sample Image Data (flattened):\", campaign[\"image_data\"][:10])  # Show only the first 10 pixels to keep output manageable\n",
        "    print(\"\\n\")\n"
      ]
    },
    {
      "cell_type": "code",
      "execution_count": null,
      "metadata": {
        "colab": {
          "base_uri": "https://localhost:8080/"
        },
        "id": "SkfJ4SWO1odf",
        "outputId": "d7630347-b751-439c-c10e-985e5fc1b3f1"
      },
      "outputs": [
        {
          "output_type": "stream",
          "name": "stdout",
          "text": [
            "Num GPUs Available:  1\n",
            "TensorFlow will run on GPU\n",
            "1 Physical GPUs, 1 Logical GPUs\n"
          ]
        }
      ],
      "source": [
        "import tensorflow as tf\n",
        "\n",
        "# Check TensorFlow GPU usage\n",
        "print(\"Num GPUs Available: \", len(tf.config.list_physical_devices('GPU')))\n",
        "if tf.config.list_physical_devices('GPU'):\n",
        "    print(\"TensorFlow will run on GPU\")\n",
        "else:\n",
        "    print(\"TensorFlow will run on CPU\")\n",
        "\n",
        "gpus = tf.config.experimental.list_physical_devices('GPU')\n",
        "if gpus:\n",
        "    try:\n",
        "        # Currently, memory growth needs to be the same across GPUs\n",
        "        for gpu in gpus:\n",
        "            tf.config.experimental.set_memory_growth(gpu, True)\n",
        "        logical_gpus = tf.config.experimental.list_logical_devices('GPU')\n",
        "        print(len(gpus), \"Physical GPUs,\", len(logical_gpus), \"Logical GPUs\")\n",
        "    except RuntimeError as e:\n",
        "        # Memory growth must be set before GPUs have been initialized\n",
        "        print(e)\n"
      ]
    },
    {
      "cell_type": "code",
      "execution_count": null,
      "metadata": {
        "colab": {
          "base_uri": "https://localhost:8080/",
          "height": 608
        },
        "id": "o1AMTbRr90VV",
        "outputId": "9fffae14-474a-4661-d1e7-5f098347c858"
      },
      "outputs": [
        {
          "output_type": "stream",
          "name": "stdout",
          "text": [
            "Collecting scikeras\n",
            "  Downloading scikeras-0.13.0-py3-none-any.whl (26 kB)\n",
            "Requirement already satisfied: keras>=3.2.0 in /usr/local/lib/python3.10/dist-packages (from scikeras) (3.2.1)\n",
            "Collecting scikit-learn>=1.4.2 (from scikeras)\n",
            "  Downloading scikit_learn-1.4.2-cp310-cp310-manylinux_2_17_x86_64.manylinux2014_x86_64.whl (12.1 MB)\n",
            "\u001b[2K     \u001b[90m━━━━━━━━━━━━━━━━━━━━━━━━━━━━━━━━━━━━━━━━\u001b[0m \u001b[32m12.1/12.1 MB\u001b[0m \u001b[31m38.9 MB/s\u001b[0m eta \u001b[36m0:00:00\u001b[0m\n",
            "\u001b[?25hRequirement already satisfied: absl-py in /usr/local/lib/python3.10/dist-packages (from keras>=3.2.0->scikeras) (1.4.0)\n",
            "Requirement already satisfied: numpy in /usr/local/lib/python3.10/dist-packages (from keras>=3.2.0->scikeras) (1.23.5)\n",
            "Requirement already satisfied: rich in /usr/local/lib/python3.10/dist-packages (from keras>=3.2.0->scikeras) (13.7.1)\n",
            "Requirement already satisfied: namex in /usr/local/lib/python3.10/dist-packages (from keras>=3.2.0->scikeras) (0.0.8)\n",
            "Requirement already satisfied: h5py in /usr/local/lib/python3.10/dist-packages (from keras>=3.2.0->scikeras) (3.11.0)\n",
            "Requirement already satisfied: optree in /usr/local/lib/python3.10/dist-packages (from keras>=3.2.0->scikeras) (0.11.0)\n",
            "Requirement already satisfied: ml-dtypes in /usr/local/lib/python3.10/dist-packages (from keras>=3.2.0->scikeras) (0.3.2)\n",
            "Requirement already satisfied: scipy>=1.6.0 in /usr/local/lib/python3.10/dist-packages (from scikit-learn>=1.4.2->scikeras) (1.11.4)\n",
            "Requirement already satisfied: joblib>=1.2.0 in /usr/local/lib/python3.10/dist-packages (from scikit-learn>=1.4.2->scikeras) (1.4.0)\n",
            "Requirement already satisfied: threadpoolctl>=2.0.0 in /usr/local/lib/python3.10/dist-packages (from scikit-learn>=1.4.2->scikeras) (3.4.0)\n",
            "Requirement already satisfied: typing-extensions>=4.0.0 in /usr/local/lib/python3.10/dist-packages (from optree->keras>=3.2.0->scikeras) (4.11.0)\n",
            "Requirement already satisfied: markdown-it-py>=2.2.0 in /usr/local/lib/python3.10/dist-packages (from rich->keras>=3.2.0->scikeras) (3.0.0)\n",
            "Requirement already satisfied: pygments<3.0.0,>=2.13.0 in /usr/local/lib/python3.10/dist-packages (from rich->keras>=3.2.0->scikeras) (2.16.1)\n",
            "Requirement already satisfied: mdurl~=0.1 in /usr/local/lib/python3.10/dist-packages (from markdown-it-py>=2.2.0->rich->keras>=3.2.0->scikeras) (0.1.2)\n",
            "Installing collected packages: scikit-learn, scikeras\n",
            "  Attempting uninstall: scikit-learn\n",
            "    Found existing installation: scikit-learn 1.2.2\n",
            "    Uninstalling scikit-learn-1.2.2:\n",
            "      Successfully uninstalled scikit-learn-1.2.2\n",
            "Successfully installed scikeras-0.13.0 scikit-learn-1.4.2\n"
          ]
        },
        {
          "output_type": "display_data",
          "data": {
            "application/vnd.colab-display-data+json": {
              "pip_warning": {
                "packages": [
                  "sklearn"
                ]
              },
              "id": "f8fcc8f76b1a42f98efa977549832c50"
            }
          },
          "metadata": {}
        }
      ],
      "source": [
        "!pip install scikeras"
      ]
    },
    {
      "cell_type": "code",
      "execution_count": 1,
      "metadata": {
        "colab": {
          "base_uri": "https://localhost:8080/",
          "height": 211
        },
        "id": "fedkgJPvcqG4",
        "outputId": "dd25112a-c5fb-4670-fd3f-1690289b3e3a"
      },
      "outputs": [
        {
          "output_type": "error",
          "ename": "NameError",
          "evalue": "name 'campaign_data' is not defined",
          "traceback": [
            "\u001b[0;31m---------------------------------------------------------------------------\u001b[0m",
            "\u001b[0;31mNameError\u001b[0m                                 Traceback (most recent call last)",
            "\u001b[0;32m<ipython-input-1-466e9084af85>\u001b[0m in \u001b[0;36m<cell line: 22>\u001b[0;34m()\u001b[0m\n\u001b[1;32m     20\u001b[0m \u001b[0;34m\u001b[0m\u001b[0m\n\u001b[1;32m     21\u001b[0m \u001b[0;31m# Assuming you have a dictionary mapping from image IDs to CPI and file names\u001b[0m\u001b[0;34m\u001b[0m\u001b[0;34m\u001b[0m\u001b[0m\n\u001b[0;32m---> 22\u001b[0;31m \u001b[0mimage_filenames\u001b[0m \u001b[0;34m=\u001b[0m \u001b[0;34m[\u001b[0m\u001b[0mcampaign\u001b[0m\u001b[0;34m[\u001b[0m\u001b[0;34m'ad_id'\u001b[0m\u001b[0;34m]\u001b[0m \u001b[0;32mfor\u001b[0m \u001b[0mcampaign\u001b[0m \u001b[0;32min\u001b[0m \u001b[0mcampaign_data\u001b[0m\u001b[0;34m]\u001b[0m  \u001b[0;31m# ID is used as filename\u001b[0m\u001b[0;34m\u001b[0m\u001b[0;34m\u001b[0m\u001b[0m\n\u001b[0m\u001b[1;32m     23\u001b[0m \u001b[0mlabels\u001b[0m \u001b[0;34m=\u001b[0m \u001b[0;34m{\u001b[0m\u001b[0mcampaign\u001b[0m\u001b[0;34m[\u001b[0m\u001b[0;34m'ad_id'\u001b[0m\u001b[0;34m]\u001b[0m\u001b[0;34m:\u001b[0m \u001b[0mcampaign\u001b[0m\u001b[0;34m[\u001b[0m\u001b[0;34m'normalized_cpi'\u001b[0m\u001b[0;34m]\u001b[0m \u001b[0;32mfor\u001b[0m \u001b[0mcampaign\u001b[0m \u001b[0;32min\u001b[0m \u001b[0mcampaign_data\u001b[0m\u001b[0;34m}\u001b[0m\u001b[0;34m\u001b[0m\u001b[0;34m\u001b[0m\u001b[0m\n\u001b[1;32m     24\u001b[0m \u001b[0mimage_directory\u001b[0m \u001b[0;34m=\u001b[0m \u001b[0;34m'/content/images'\u001b[0m\u001b[0;34m\u001b[0m\u001b[0;34m\u001b[0m\u001b[0m\n",
            "\u001b[0;31mNameError\u001b[0m: name 'campaign_data' is not defined"
          ]
        }
      ],
      "source": [
        "\n",
        "\n",
        "import tensorflow as tf\n",
        "from tensorflow.keras.models import Sequential\n",
        "from tensorflow.keras.layers import Conv2D, MaxPooling2D, Flatten, Dense\n",
        "from sklearn.model_selection import train_test_split\n",
        "\n",
        "\n",
        "def create_model(input_shape):\n",
        "    model = Sequential([\n",
        "        Conv2D(32, (3, 3), activation='relu', input_shape=input_shape),\n",
        "        MaxPooling2D(2, 2),\n",
        "        Conv2D(64, (3, 3), activation='relu'),\n",
        "        MaxPooling2D(2, 2),\n",
        "        Flatten(),\n",
        "        Dense(128, activation='relu'),\n",
        "        Dense(1)  # Assuming CPI prediction is a regression task\n",
        "    ])\n",
        "    return model\n",
        "\n",
        "\n",
        "\n",
        "# Assuming you have a dictionary mapping from image IDs to CPI and file names\n",
        "image_filenames = [campaign['ad_id'] for campaign in campaign_data]  # ID is used as filename\n",
        "labels = {campaign['ad_id']: campaign['normalized_cpi'] for campaign in campaign_data}\n",
        "image_directory = '/content/images'\n",
        "\n",
        "# Splitting the dataset\n",
        "image_filenames_train, image_filenames_test, labels_train, labels_test = train_test_split(\n",
        "    image_filenames, [labels[id] for id in image_filenames], test_size=0.2, random_state=42)\n",
        "\n",
        "# Create the generator\n",
        "batch_size = 10  # Depends on your available memory\n",
        "train_generator = DataGenerator(image_filenames=image_filenames_train, labels=dict(zip(image_filenames_train, labels_train)), batch_size=batch_size, image_directory=image_directory)\n",
        "test_generator = DataGenerator(image_filenames=image_filenames_test, labels=dict(zip(image_filenames_test, labels_test)), batch_size=batch_size, image_directory=image_directory)\n",
        "\n",
        "# Define your model's input shape based on the data dimensions you will train on\n",
        "input_shape = (512, 512, 3)  # Modify according to your resized image dimensions\n",
        "\n",
        "# Create the model\n",
        "model = create_model(input_shape)\n",
        "\n",
        "# Compile the model\n",
        "model.compile(optimizer='adam', loss='mean_absolute_error', metrics=['mean_squared_error'])\n",
        "\n",
        "# Show the model structure\n",
        "model.summary()\n",
        "# Now use this generator directly in model.fit\n",
        "model.fit(train_generator, epochs=10, validation_data=test_generator)\n",
        "\n"
      ]
    },
    {
      "cell_type": "code",
      "source": [
        "#abs - squared error\n",
        "# Evaluate the model on the test set\n",
        "test_loss, test_mae = model.evaluate(test_generator)\n",
        "print(f\"Test Loss: {test_loss}\")\n",
        "print(f\"Mean Absolute Error (MAE): {test_mae}\")"
      ],
      "metadata": {
        "colab": {
          "base_uri": "https://localhost:8080/"
        },
        "id": "87Eqs4-eCaap",
        "outputId": "f7dff4b3-809e-4e97-9ba1-2d17a3754dfc"
      },
      "execution_count": null,
      "outputs": [
        {
          "output_type": "stream",
          "name": "stdout",
          "text": [
            "12/12 [==============================] - 2s 165ms/step - loss: 0.0089 - mean_absolute_error: 0.0684\n",
            "Test Loss: 0.008921557106077671\n",
            "Mean Absolute Error (MAE): 0.06838735938072205\n"
          ]
        }
      ]
    },
    {
      "cell_type": "code",
      "execution_count": null,
      "metadata": {
        "colab": {
          "base_uri": "https://localhost:8080/"
        },
        "id": "xY-w5IVOC3Hc",
        "outputId": "158d88a4-886d-4068-b65d-6f2e2fef31c5"
      },
      "outputs": [
        {
          "output_type": "stream",
          "name": "stdout",
          "text": [
            "12/12 [==============================] - 2s 164ms/step - loss: 0.0280 - mean_squared_error: 0.0024\n",
            "Test Loss: 0.028036927804350853\n",
            "Mean Absolute Error (MAE): 0.0024414174258708954\n"
          ]
        }
      ],
      "source": [
        "#squared error - abs error\n",
        "# Evaluate the model on the test set\n",
        "test_loss, test_mae = model.evaluate(test_generator)\n",
        "print(f\"Test Loss: {test_loss}\")\n",
        "print(f\"Mean Absolute Error (MAE): {test_mae}\")\n",
        "\n"
      ]
    },
    {
      "cell_type": "code",
      "source": [
        "test_cpis = []\n",
        "for batch_images, batch_labels in test_generator:\n",
        "    test_cpis.extend(batch_labels)  # Assuming batch_images contains the image filenames, which are the IDs\n",
        "\n",
        "# Now test_ids contains all the IDs in the test generator\n",
        "print(\"CPIs in the test generator:\", test_cpis)\n"
      ],
      "metadata": {
        "colab": {
          "base_uri": "https://localhost:8080/"
        },
        "id": "Uf0_6ieRQFsT",
        "outputId": "2fced926-c8b8-4c2d-ad1e-7cc718377d23"
      },
      "execution_count": null,
      "outputs": [
        {
          "output_type": "stream",
          "name": "stdout",
          "text": [
            "CPIs in the test generator: [0.04702650398026845, 0.02201081491907308, 0.02960180459741304, 0.032485632729035256, 0.08236275540153719, 0.03244246867211022, 0.07064694602493639, 0.016259007290586793, 0.03246105632039105, 0.007793681381026724, 0.11212013005683279, 0.023900940758797166, 0.07880210746674683, 0.0032615450053988682, 0.056245005061584405, 0.024372320009811026, 0.03246105632039105, 0.17820391022109935, 0.024179575450334334, 0.017817539645491334, 0.02760169952096218, 0.07104799473855919, 0.05663732111498065, 0.015637375839347243, 0.004381209338719909, 0.07623546831504557, 0.017817539645491334, 0.049526739576691625, 0.044004266746942924, 0.0, 0.006615242864470131, 0.03248707837910396, 0.3001302908376023, 0.03242202181287989, 0.01622691391820025, 0.0661678821602712, 0.01606642993790024, 0.0152912781446841, 0.06322012426662979, 0.0324747522351308, 0.043929422099516384, 0.032485632729035256, 0.03797327547770541, 0.1768879805497505, 0.06373742993122161, 0.026396659117602986, 0.1263273524494444, 0.1768879805497505, 0.04287412242514734, 0.01606642993790024, 0.049653795322772934, 0.01999392640588186, 0.04060290295070254, 0.19678561065439754, 0.014237068350355524, 0.03676785138098962, 0.026396659117602986, 0.022755253495653757, 0.05663732111498065, 0.01622691391820025, 0.044004266746942924, 0.05330577617818449, 0.01921075920330526, 0.04059894544825949, 0.005496088797495586, 0.017817539645491334, 0.03242202181287989, 0.09638381198619723, 0.026407429571352493, 0.059874067015942584, 0.03797327547770541, 0.006924665320175184, 0.04702650398026845, 0.012546287886280616, 0.004381209338719909, 0.03797327547770541, 0.03242202181287989, 0.03745596704307778, 0.1768879805497505, 0.012414717758128479, 0.009768357115207408, 0.1768879805497505, 0.010995963497422996, 0.024712755448505982, 0.02751172044434378, 0.012414717758128479, 0.07305219632515642, 0.01755449916659928, 0.03213571670137678, 0.14531141078035018, 0.04560841261243765, 0.011803521847312143, 0.0872424355158657, 0.056245005061584405, 0.03247253673372852, 0.019841736444635997, 0.01257259961540591, 0.03237431065705604, 0.031075590542053565, 0.012546287886280616, 0.056245005061584405, 0.028092826822499813, 0.01423542540735111, 0.05663732111498065, 0.09260694179538398, 0.06323678139855042, 0.021232120108233898, 0.03248707837910396, 0.03745596704307778, 0.002405334202900789, 0.05406591725322325, 0.012997606811624195, 0.04576339755490265, 0.11463868447132458, 0.048817560980475405, 0.03246973042407484, 0.008032857913370018, 0.04161919453081525, 0.10516981346123808, 0.017817539645491334]\n"
          ]
        }
      ]
    },
    {
      "cell_type": "code",
      "source": [
        "#abs error - squared error\n",
        "\n",
        "import matplotlib.pyplot as plt\n",
        "\n",
        "test_predict = model.predict(test_generator)\n",
        "count = 0\n",
        "for i in range (0,12):\n",
        "  print(test_predict[i])\n",
        "  print(test_cpis[i])\n",
        "# Create the scatter plot\n",
        "plt.figure()\n",
        "plt.scatter(test_predict, test_cpis, marker=\"+\")\n",
        "plt.xlabel(\"Predicted Value\")\n",
        "plt.ylabel(\"True Value\")\n",
        "\n",
        "# Add a reference line\n",
        "plt.plot([-0.2, 0.2], [-0.2, 0.2], \"r--\")  # Assuming the range of values is -60 to 60, adjust as needed\n",
        "\n",
        "# Show the plot\n",
        "plt.show()"
      ],
      "metadata": {
        "colab": {
          "base_uri": "https://localhost:8080/",
          "height": 903
        },
        "id": "_a4KF_RAPs2H",
        "outputId": "16886847-49a1-4314-936a-040674fdceee"
      },
      "execution_count": null,
      "outputs": [
        {
          "output_type": "stream",
          "name": "stdout",
          "text": [
            "12/12 [==============================] - 2s 193ms/step\n",
            "[0.02647902]\n",
            "0.011803521847312143\n",
            "[0.04186739]\n",
            "0.03242202181287989\n",
            "[0.01740394]\n",
            "0.0789288493333154\n",
            "[0.01904759]\n",
            "0.0324538278364005\n",
            "[-0.02725334]\n",
            "0.01788487622416865\n",
            "[0.02066272]\n",
            "0.1768879805497505\n",
            "[0.19861428]\n",
            "0.10165183930600354\n",
            "[0.03655349]\n",
            "0.03244246867211022\n",
            "[0.05232014]\n",
            "0.03244246867211022\n",
            "[0.06896523]\n",
            "0.059262697531314086\n",
            "[-0.07398589]\n",
            "0.031087985597335135\n",
            "[0.03008849]\n",
            "0.01622691391820025\n"
          ]
        },
        {
          "output_type": "display_data",
          "data": {
            "text/plain": [
              "<Figure size 640x480 with 1 Axes>"
            ],
            "image/png": "[encoded data removed]"
          },
          "metadata": {}
        }
      ]
    },
    {
      "cell_type": "code",
      "source": [
        "#squared error - abs error\n",
        "import matplotlib.pyplot as plt\n",
        "\n",
        "test_predict = model.predict(test_generator)\n",
        "count = 0\n",
        "for i in range (0,12):\n",
        "  print(test_predict[i])\n",
        "  print(test_cpis[i])\n",
        "# Create the scatter plot\n",
        "plt.figure()\n",
        "plt.scatter(test_predict, test_cpis, marker=\"+\")\n",
        "plt.xlabel(\"Predicted Value\")\n",
        "plt.ylabel(\"True Value\")\n",
        "\n",
        "# Add a reference line\n",
        "plt.plot([-0.2, 0.2], [-0.2, 0.2], \"r--\")  # Assuming the range of values is -60 to 60, adjust as needed\n",
        "\n",
        "# Show the plot\n",
        "plt.show()"
      ],
      "metadata": {
        "colab": {
          "base_uri": "https://localhost:8080/",
          "height": 903
        },
        "id": "aorZdqkMAQAT",
        "outputId": "9beab350-d3b9-4308-9a80-e074ebf346a1"
      },
      "execution_count": null,
      "outputs": [
        {
          "output_type": "stream",
          "name": "stdout",
          "text": [
            "12/12 [==============================] - 2s 164ms/step\n",
            "[0.03041034]\n",
            "0.04702650398026845\n",
            "[0.02308865]\n",
            "0.02201081491907308\n",
            "[0.02797331]\n",
            "0.02960180459741304\n",
            "[0.03041034]\n",
            "0.032485632729035256\n",
            "[0.02209216]\n",
            "0.08236275540153719\n",
            "[0.03041034]\n",
            "0.03244246867211022\n",
            "[0.02999464]\n",
            "0.07064694602493639\n",
            "[0.02477111]\n",
            "0.016259007290586793\n",
            "[0.02766957]\n",
            "0.03246105632039105\n",
            "[0.03016441]\n",
            "0.007793681381026724\n",
            "[0.01523442]\n",
            "0.11212013005683279\n",
            "[0.04835834]\n",
            "0.023900940758797166\n"
          ]
        },
        {
          "output_type": "display_data",
          "data": {
            "text/plain": [
              "<Figure size 640x480 with 1 Axes>"
            ],
            "image/png": "[encoded data removed]"
          },
          "metadata": {}
        }
      ]
    },
    {
      "cell_type": "code",
      "execution_count": null,
      "metadata": {
        "colab": {
          "base_uri": "https://localhost:8080/"
        },
        "id": "HGKMtDSKELuu",
        "outputId": "893725bb-f88f-4adb-f715-bfdcc13ccd3a"
      },
      "outputs": [
        {
          "output_type": "stream",
          "name": "stdout",
          "text": [
            "1/1 [==============================] - 0s 19ms/step\n",
            "Predicted CPI value: [[0.05382203]]\n",
            "Actual CPI value: 0.1261335940571177\n",
            "Error Rate: [[0.5732935]]\n"
          ]
        }
      ],
      "source": [
        "import random\n",
        "import numpy as np\n",
        "import math\n",
        "\n",
        "image_path = os.path.join(images_dir, '2017251175005413.jpg')\n",
        "img = Image.open(image_path)\n",
        "img = img.convert('RGB')  # Convert image to RGB format\n",
        "img = img.resize((512, 512))  # Resize image to match input shape expected by the model\n",
        "\n",
        "# Convert the image to a numpy array\n",
        "img_array = np.array(img)  # Convert image to numpy array\n",
        "img_array = img_array / 255.0  # Normalize pixel values to range [0, 1]\n",
        "img_array = np.expand_dims(img_array, axis=0)  # Add batch dimension\n",
        "\n",
        "# Use the model to make predictions\n",
        "predicted_cpi = model.predict(img_array)\n",
        "# Assuming campaign_data is a dictionary where each key is an ad ID\n",
        "\n",
        "# Search for the element with _id = '716911622011048'\n",
        "desired_id = '2017251175005413'\n",
        "found_element = None\n",
        "print(\"Predicted CPI value:\", predicted_cpi)\n",
        "for campaign in campaign_data:\n",
        "    if campaign[\"ad_id\"] == desired_id:\n",
        "        desired_cpi = campaign[\"normalized_cpi\"]\n",
        "        print(\"Actual CPI value:\",desired_cpi)\n",
        "        print(\"Error Rate:\", (desired_cpi - predicted_cpi) / desired_cpi )\n",
        "        break\n",
        "\n",
        "# Print the predicted CPI value\n",
        "\n"
      ]
    },
    {
      "cell_type": "code",
      "execution_count": null,
      "metadata": {
        "id": "-fMSOyb16nvX"
      },
      "outputs": [],
      "source": [
        "import joblib\n",
        "# Save the model\n",
        "model.save('content/modelCPIComparison.keras')\n",
        "\n",
        "# Load the model\n",
        "#from tensorflow.keras.models import load_model\n",
        "#prod_model = load_model('modelCPIComparison.h5')\n",
        "\n",
        "joblib.dump(model, '/content/drive/MyDrive/CS491MLMODEL/us/us/gb_regressor_suggestion.joblib')\n",
        "\n"
      ]
    }
  ],
  "metadata": {
    "colab": {
      "provenance": [],
      "gpuType": "T4"
    },
    "kernelspec": {
      "display_name": "Python 3",
      "name": "python3"
    },
    "language_info": {
      "name": "python"
    },
    "accelerator": "GPU"
  },
  "nbformat": 4,
  "nbformat_minor": 0
}