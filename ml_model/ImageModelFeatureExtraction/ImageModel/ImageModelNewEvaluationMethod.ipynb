{
  "cells": [
    {
      "cell_type": "code",
      "execution_count": 1,
      "metadata": {
        "colab": {
          "base_uri": "https://localhost:8080/"
        },
        "id": "nqwjilu0iB5s",
        "outputId": "966b371d-e4a5-4ed7-cb95-2c64eb3660c5"
      },
      "outputs": [
        {
          "output_type": "stream",
          "name": "stdout",
          "text": [
            "Downloading...\n",
            "From (original): https://drive.google.com/uc?id=1ba77UQl24FgekMX58BrNtba_zcFAo1Dv\n",
            "From (redirected): https://drive.google.com/uc?id=1ba77UQl24FgekMX58BrNtba_zcFAo1Dv&confirm=t&uuid=1b959396-91c2-4180-a7a9-5f01230f8760\n",
            "To: /content/images.zip\n",
            "100% 273M/273M [00:03<00:00, 82.4MB/s]\n"
          ]
        }
      ],
      "source": [
        "from google.colab import drive\n",
        "import os\n",
        "import gdown # Library to download files from Google Drive\n",
        "!gdown 1ba77UQl24FgekMX58BrNtba_zcFAo1Dv # Google Drive ID of the zip file to be downloaded\n"
      ]
    },
    {
      "cell_type": "code",
      "execution_count": 2,
      "metadata": {
        "id": "Kc-whf_TnQwv"
      },
      "outputs": [],
      "source": [
        "!unzip -oq images # Unzip the file downloaded. Options -o and -q overwrites the files if exists already and disables printing out the extracted files, respectively."
      ]
    },
    {
      "cell_type": "code",
      "execution_count": 3,
      "metadata": {
        "id": "fEAUVfFblvle"
      },
      "outputs": [],
      "source": [
        "\n",
        "root_dir = '/content/images'\n"
      ]
    },
    {
      "cell_type": "code",
      "execution_count": 4,
      "metadata": {
        "colab": {
          "base_uri": "https://localhost:8080/",
          "height": 105
        },
        "id": "X3NGIIAB5Dl8",
        "outputId": "a0071654-8256-470e-d7ae-33037c502389"
      },
      "outputs": [
        {
          "output_type": "stream",
          "name": "stderr",
          "text": [
            "Downloading...\n",
            "From: https://drive.google.com/uc?id=1nktUlbNE4lZHrJ83d0B3msZy_R12Sa3o\n",
            "To: /content/ad_responses.json\n",
            "100%|██████████| 11.5M/11.5M [00:00<00:00, 83.0MB/s]\n"
          ]
        },
        {
          "output_type": "execute_result",
          "data": {
            "text/plain": [
              "'/content/ad_responses.json'"
            ],
            "application/vnd.google.colaboratory.intrinsic+json": {
              "type": "string"
            }
          },
          "metadata": {},
          "execution_count": 4
        }
      ],
      "source": [
        "import gdown\n",
        "\n",
        "# Define the Google Drive file ID for the responses.json file\n",
        "file_id = '1nktUlbNE4lZHrJ83d0B3msZy_R12Sa3o'\n",
        "\n",
        "# Define the output path for the downloaded file\n",
        "output_path = '/content/ad_responses.json'\n",
        "\n",
        "# Download the file using gdown\n",
        "gdown.download(f'https://drive.google.com/uc?id={file_id}', output_path, quiet=False)\n"
      ]
    },
    {
      "cell_type": "code",
      "execution_count": 5,
      "metadata": {
        "id": "LvGUsA3FczEx"
      },
      "outputs": [],
      "source": [
        "import json\n",
        "import os\n",
        "from PIL import Image\n",
        "import numpy as np\n",
        "import pickle\n",
        "\n",
        "# Load the JSON data\n",
        "responses_file = '/content/ad_responses.json'\n",
        "with open(responses_file, 'r') as f:\n",
        "    data = json.load(f)\n",
        "\n",
        "# Create a dictionary to map '_id' to ad_info for faster lookup\n",
        "ad_info_dict = {info['_id']: info for info in data.values() if '_id' in info}\n",
        "# Define the root directory for images\n",
        "images_dir = '/content/images'\n",
        "\n",
        "# Define the target dimensions for resizing images (lower resolution for efficiency)\n",
        "target_width = 512   # Lower resolution\n",
        "target_height = 512  # Lower resolution\n",
        "\n",
        "# Initialize lists to store calculated and extracted features\n",
        "campaign_data = []\n",
        "\n",
        "# Iterate through each image in the images directory\n",
        "for filename in os.listdir(images_dir):\n",
        "    if filename.endswith(\".jpg\"):  # Check if the file is a JPEG image\n",
        "        image_id = filename.split('.')[0]  # Extract ID from filename\n",
        "        for key, value in ad_info_dict.items():\n",
        "            if '_id' in value and value['_id'] == image_id:\n",
        "                ad_info = value\n",
        "                image_path = os.path.join(images_dir, filename)\n",
        "\n",
        "                # Load and preprocess the image\n",
        "                with Image.open(image_path) as img:\n",
        "                    img = img.convert('RGB')  # Convert image to RGB format\n",
        "                    img = img.resize((target_width, target_height))  # Resize image to lower resolution\n",
        "                    img_array = np.array(img)  # Convert image to numpy array\n",
        "\n",
        "                # Process only the necessary data to reduce memory load\n",
        "                avg_spend = np.mean([int(ad_info.get(\"spend\", {}).get(\"lower_bound\", 0)), int(ad_info.get(\"spend\", {}).get(\"upper_bound\", 0))])\n",
        "                avg_impressions = np.mean([int(ad_info.get(\"impressions\", {}).get(\"lower_bound\", 0)), int(ad_info.get(\"impressions\", {}).get(\"upper_bound\", 0))])\n",
        "                cost_per_impression = avg_spend / avg_impressions if avg_impressions > 0 else float('inf')\n",
        "\n",
        "                # Append only necessary info to reduce memory footprint\n",
        "                campaign_data.append({\n",
        "                    \"ad_id\": ad_info.get('_id', ''),\n",
        "                    \"cpi\": cost_per_impression,\n",
        "                    \"image_data\": img_array.flatten().tolist()  # Flatten and convert to list to minimize size\n",
        "                })\n",
        "                break\n",
        "\n",
        "# Normalize CPI values\n",
        "cpi_values = [entry[\"cpi\"] for entry in campaign_data]\n",
        "cpi_min = min(cpi_values)\n",
        "cpi_max = max(cpi_values)\n",
        "for entry in campaign_data:\n",
        "    entry[\"cpi\"] = (entry[\"cpi\"] - cpi_min) / (cpi_max - cpi_min) if cpi_max > cpi_min else 0\n",
        "\n",
        "# Save the normalized data\n",
        "with open('/content/campaign_data.pkl', 'wb') as f:\n",
        "    pickle.dump(campaign_data, f)\n",
        "\n",
        "# Clear the large variables from memory\n",
        "del campaign_data\n",
        "del data\n"
      ]
    },
    {
      "cell_type": "code",
      "execution_count": 6,
      "metadata": {
        "id": "6LTXfo58bRoF"
      },
      "outputs": [],
      "source": [
        "from tensorflow.keras.utils import Sequence\n",
        "from tensorflow.keras.preprocessing.image import img_to_array, load_img\n",
        "import numpy as np\n",
        "import os\n",
        "\n",
        "class DataGenerator(Sequence):\n",
        "    'Generates data for Keras'\n",
        "    def __init__(self, image_filenames, labels, batch_size, image_directory, dim=(512, 512), n_channels=3, shuffle=True):\n",
        "        'Initialization'\n",
        "        self.dim = dim\n",
        "        self.batch_size = batch_size\n",
        "        self.labels = labels\n",
        "        self.image_filenames = image_filenames\n",
        "        self.image_directory = image_directory\n",
        "        self.n_channels = n_channels\n",
        "        self.shuffle = shuffle\n",
        "        self.on_epoch_end()\n",
        "\n",
        "    def __len__(self):\n",
        "        'Denotes the number of batches per epoch'\n",
        "        return int(np.floor(len(self.image_filenames) / self.batch_size))\n",
        "\n",
        "    def __getitem__(self, index):\n",
        "        'Generate one batch of data'\n",
        "        # Generate indexes of the batch\n",
        "        indexes = self.indexes[index * self.batch_size:(index + 1) * self.batch_size]\n",
        "\n",
        "        # Find list of IDs\n",
        "        image_filenames_temp = [self.image_filenames[k] for k in indexes]\n",
        "\n",
        "        # Generate data\n",
        "        X, y = self.__data_generation(image_filenames_temp)\n",
        "\n",
        "        return X, y\n",
        "\n",
        "    def on_epoch_end(self):\n",
        "        'Updates indexes after each epoch'\n",
        "        self.indexes = np.arange(len(self.image_filenames))\n",
        "        if self.shuffle == True:\n",
        "            np.random.shuffle(self.indexes)\n",
        "\n",
        "    def __data_generation(self, image_filenames_temp):\n",
        "        'Generates data containing batch_size samples' # X : (n_samples, *dim, n_channels)\n",
        "        # Initialization\n",
        "        X = np.empty((self.batch_size, *self.dim, self.n_channels))\n",
        "        y = np.empty((self.batch_size), dtype=float)\n",
        "\n",
        "        # Generate data\n",
        "        for i, image_filename in enumerate(image_filenames_temp):\n",
        "            # Store sample\n",
        "            img = load_img(os.path.join(self.image_directory, image_filename + '.jpg'), target_size=self.dim)\n",
        "            X[i,] = img_to_array(img) / 255.0\n",
        "\n",
        "            # Store class\n",
        "            y[i] = self.labels[image_filename]\n",
        "\n",
        "        return X, y\n"
      ]
    },
    {
      "cell_type": "code",
      "execution_count": 7,
      "metadata": {
        "colab": {
          "base_uri": "https://localhost:8080/"
        },
        "id": "Or7aFRU0YOCW",
        "outputId": "9160034d-26a5-477c-f787-2b572af18545"
      },
      "outputs": [
        {
          "output_type": "stream",
          "name": "stdout",
          "text": [
            "Maximum CPI value: 1.0\n",
            "Minimum CPI value: 0.0\n",
            "Ad ID: 331418814108624\n",
            "Cost Per Impression (CPI): 0.1768879805497505\n",
            "Sample Image Data (flattened): [111, 111, 111, 105, 105, 105, 90, 90, 90, 65]\n",
            "\n",
            "\n",
            "Ad ID: 307653333296084\n",
            "Cost Per Impression (CPI): 0.05671576340074205\n",
            "Sample Image Data (flattened): [183, 173, 172, 183, 173, 172, 181, 171, 170, 178]\n",
            "\n",
            "\n",
            "Ad ID: 2262728950613044\n",
            "Cost Per Impression (CPI): 0.07416908368425874\n",
            "Sample Image Data (flattened): [112, 121, 118, 112, 121, 118, 113, 122, 119, 113]\n",
            "\n",
            "\n"
          ]
        }
      ],
      "source": [
        "import pickle\n",
        "\n",
        "# Load the processed data from disk\n",
        "with open('/content/campaign_data.pkl', 'rb') as f:\n",
        "    campaign_data = pickle.load(f)\n",
        "\n",
        "# Print the maximum and minimum CPI values\n",
        "print(\"Maximum CPI value:\", max_cpi)\n",
        "print(\"Minimum CPI value:\", min_cpi)\n",
        "# Print the first few entries of the campaign data to verify\n",
        "for campaign in campaign_data[:3]:  # Adjust the range as needed for more samples\n",
        "    print(\"Ad ID:\", campaign[\"ad_id\"])\n",
        "    print(\"Cost Per Impression (CPI):\", campaign[\"cpi\"])\n",
        "    print(\"Sample Image Data (flattened):\", campaign[\"image_data\"][:10])  # Show only the first 10 pixels to keep output manageable\n",
        "    print(\"\\n\")\n",
        "\n",
        "\n"
      ]
    },
    {
      "cell_type": "code",
      "execution_count": 10,
      "metadata": {
        "colab": {
          "base_uri": "https://localhost:8080/"
        },
        "id": "SkfJ4SWO1odf",
        "outputId": "abebbb17-f745-4412-8425-9c2caea061f2"
      },
      "outputs": [
        {
          "output_type": "stream",
          "name": "stdout",
          "text": [
            "Num GPUs Available:  1\n",
            "TensorFlow will run on GPU\n",
            "1 Physical GPUs, 1 Logical GPUs\n"
          ]
        }
      ],
      "source": [
        "import tensorflow as tf\n",
        "\n",
        "# Check TensorFlow GPU usage\n",
        "print(\"Num GPUs Available: \", len(tf.config.list_physical_devices('GPU')))\n",
        "if tf.config.list_physical_devices('GPU'):\n",
        "    print(\"TensorFlow will run on GPU\")\n",
        "else:\n",
        "    print(\"TensorFlow will run on CPU\")\n",
        "\n",
        "gpus = tf.config.experimental.list_physical_devices('GPU')\n",
        "if gpus:\n",
        "    try:\n",
        "        # Currently, memory growth needs to be the same across GPUs\n",
        "        for gpu in gpus:\n",
        "            tf.config.experimental.set_memory_growth(gpu, True)\n",
        "        logical_gpus = tf.config.experimental.list_logical_devices('GPU')\n",
        "        print(len(gpus), \"Physical GPUs,\", len(logical_gpus), \"Logical GPUs\")\n",
        "    except RuntimeError as e:\n",
        "        # Memory growth must be set before GPUs have been initialized\n",
        "        print(e)\n"
      ]
    },
    {
      "cell_type": "code",
      "execution_count": 20,
      "metadata": {
        "colab": {
          "base_uri": "https://localhost:8080/"
        },
        "id": "fedkgJPvcqG4",
        "outputId": "217e05f4-dccd-4482-b68c-56b7f6e9c352"
      },
      "outputs": [
        {
          "output_type": "stream",
          "name": "stdout",
          "text": [
            "Model: \"sequential_1\"\n",
            "_________________________________________________________________\n",
            " Layer (type)                Output Shape              Param #   \n",
            "=================================================================\n",
            " conv2d_2 (Conv2D)           (None, 510, 510, 32)      896       \n",
            "                                                                 \n",
            " max_pooling2d_2 (MaxPoolin  (None, 255, 255, 32)      0         \n",
            " g2D)                                                            \n",
            "                                                                 \n",
            " conv2d_3 (Conv2D)           (None, 253, 253, 64)      18496     \n",
            "                                                                 \n",
            " max_pooling2d_3 (MaxPoolin  (None, 126, 126, 64)      0         \n",
            " g2D)                                                            \n",
            "                                                                 \n",
            " flatten_1 (Flatten)         (None, 1016064)           0         \n",
            "                                                                 \n",
            " dense_2 (Dense)             (None, 128)               130056320 \n",
            "                                                                 \n",
            " dense_3 (Dense)             (None, 1)                 129       \n",
            "                                                                 \n",
            "=================================================================\n",
            "Total params: 130075841 (496.20 MB)\n",
            "Trainable params: 130075841 (496.20 MB)\n",
            "Non-trainable params: 0 (0.00 Byte)\n",
            "_________________________________________________________________\n",
            "Epoch 1/10\n",
            "50/50 [==============================] - 14s 246ms/step - loss: 6.7441 - mean_squared_error: 568.3615 - val_loss: 0.0366 - val_mean_squared_error: 0.0029\n",
            "Epoch 2/10\n",
            "50/50 [==============================] - 13s 255ms/step - loss: 0.0365 - mean_squared_error: 0.0055 - val_loss: 0.0354 - val_mean_squared_error: 0.0026\n",
            "Epoch 3/10\n",
            "50/50 [==============================] - 12s 236ms/step - loss: 0.0342 - mean_squared_error: 0.0051 - val_loss: 0.0336 - val_mean_squared_error: 0.0023\n",
            "Epoch 4/10\n",
            "50/50 [==============================] - 14s 282ms/step - loss: 0.0322 - mean_squared_error: 0.0050 - val_loss: 0.0363 - val_mean_squared_error: 0.0027\n",
            "Epoch 5/10\n",
            "50/50 [==============================] - 12s 239ms/step - loss: 0.0317 - mean_squared_error: 0.0050 - val_loss: 0.0355 - val_mean_squared_error: 0.0028\n",
            "Epoch 6/10\n",
            "50/50 [==============================] - 12s 243ms/step - loss: 0.0296 - mean_squared_error: 0.0047 - val_loss: 0.0357 - val_mean_squared_error: 0.0027\n",
            "Epoch 7/10\n",
            "50/50 [==============================] - 12s 239ms/step - loss: 0.0291 - mean_squared_error: 0.0047 - val_loss: 0.0357 - val_mean_squared_error: 0.0026\n",
            "Epoch 8/10\n",
            "50/50 [==============================] - 12s 244ms/step - loss: 0.0277 - mean_squared_error: 0.0045 - val_loss: 0.0348 - val_mean_squared_error: 0.0027\n",
            "Epoch 9/10\n",
            "50/50 [==============================] - 12s 243ms/step - loss: 0.0273 - mean_squared_error: 0.0046 - val_loss: 0.0348 - val_mean_squared_error: 0.0026\n",
            "Epoch 10/10\n",
            "50/50 [==============================] - 13s 250ms/step - loss: 0.0254 - mean_squared_error: 0.0043 - val_loss: 0.0348 - val_mean_squared_error: 0.0024\n"
          ]
        },
        {
          "output_type": "execute_result",
          "data": {
            "text/plain": [
              "<keras.src.callbacks.History at 0x7997b4e42710>"
            ]
          },
          "metadata": {},
          "execution_count": 20
        }
      ],
      "source": [
        "import tensorflow as tf\n",
        "from tensorflow.keras.models import Sequential\n",
        "from tensorflow.keras.layers import Conv2D, MaxPooling2D, Flatten, Dense\n",
        "from sklearn.model_selection import train_test_split\n",
        "\n",
        "\n",
        "def create_model(input_shape):\n",
        "    model = Sequential([\n",
        "        Conv2D(32, (3, 3), activation='relu', input_shape=input_shape),\n",
        "        MaxPooling2D(2, 2),\n",
        "        Conv2D(64, (3, 3), activation='relu'),\n",
        "        MaxPooling2D(2, 2),\n",
        "        Flatten(),\n",
        "        Dense(128, activation='relu'),\n",
        "        Dense(1)  # Assuming CPI prediction is a regression task\n",
        "    ])\n",
        "    return model\n",
        "\n",
        "\n",
        "\n",
        "# Assuming you have a dictionary mapping from image IDs to CPI and file names\n",
        "image_filenames = [campaign['ad_id'] for campaign in campaign_data]  # ID is used as filename\n",
        "labels = {campaign['ad_id']: campaign['cpi'] for campaign in campaign_data}\n",
        "image_directory = '/content/images'\n",
        "\n",
        "# Splitting the dataset\n",
        "image_filenames_train, image_filenames_test, labels_train, labels_test = train_test_split(\n",
        "    image_filenames, [labels[id] for id in image_filenames], test_size=0.2, random_state=42)\n",
        "\n",
        "# Create the generator\n",
        "batch_size = 10  # Depends on your available memory\n",
        "train_generator = DataGenerator(image_filenames=image_filenames_train, labels=dict(zip(image_filenames_train, labels_train)), batch_size=batch_size, image_directory=image_directory)\n",
        "test_generator = DataGenerator(image_filenames=image_filenames_test, labels=dict(zip(image_filenames_test, labels_test)), batch_size=batch_size, image_directory=image_directory)\n",
        "\n",
        "# Define your model's input shape based on the data dimensions you will train on\n",
        "input_shape = (512, 512, 3)  # Modify according to your resized image dimensions\n",
        "\n",
        "# Create the model\n",
        "model = create_model(input_shape)\n",
        "\n",
        "# Compile the model\n",
        "model.compile(optimizer='adam', loss='mean_absolute_error', metrics=['mean_squared_error'])\n",
        "\n",
        "# Show the model structure\n",
        "model.summary()\n",
        "# Now use this generator directly in model.fit\n",
        "model.fit(train_generator, epochs=10, validation_data=test_generator)\n"
      ]
    },
    {
      "cell_type": "code",
      "source": [
        "#abs - squared error\n",
        "# Evaluate the model on the test set\n",
        "test_loss, test_mae = model.evaluate(test_generator)\n",
        "print(f\"Test Loss: {test_loss}\")\n",
        "print(f\"Mean Absolute Error (MAE): {test_mae}\")"
      ],
      "metadata": {
        "colab": {
          "base_uri": "https://localhost:8080/"
        },
        "id": "87Eqs4-eCaap",
        "outputId": "3c42f985-3053-41a8-cfd3-48e8d32d65df"
      },
      "execution_count": 21,
      "outputs": [
        {
          "output_type": "stream",
          "name": "stdout",
          "text": [
            "12/12 [==============================] - 2s 162ms/step - loss: 0.0359 - mean_squared_error: 0.0027\n",
            "Test Loss: 0.03587152808904648\n",
            "Mean Absolute Error (MAE): 0.0027326862327754498\n"
          ]
        }
      ]
    },
    {
      "cell_type": "code",
      "execution_count": null,
      "metadata": {
        "colab": {
          "base_uri": "https://localhost:8080/"
        },
        "id": "xY-w5IVOC3Hc",
        "outputId": "158d88a4-886d-4068-b65d-6f2e2fef31c5"
      },
      "outputs": [
        {
          "output_type": "stream",
          "name": "stdout",
          "text": [
            "12/12 [==============================] - 2s 164ms/step - loss: 0.0280 - mean_squared_error: 0.0024\n",
            "Test Loss: 0.028036927804350853\n",
            "Mean Absolute Error (MAE): 0.0024414174258708954\n"
          ]
        }
      ],
      "source": [
        "#squared error - abs error\n",
        "# Evaluate the model on the test set\n",
        "test_loss, test_mae = model.evaluate(test_generator)\n",
        "print(f\"Test Loss: {test_loss}\")\n",
        "print(f\"Mean Absolute Error (MAE): {test_mae}\")\n",
        "\n"
      ]
    },
    {
      "cell_type": "code",
      "source": [
        "test_cpis = []\n",
        "for batch_images, batch_labels in test_generator:\n",
        "    test_cpis.extend(batch_labels)  # Assuming batch_images contains the image filenames, which are the IDs\n",
        "\n",
        "# Now test_ids contains all the IDs in the test generator\n",
        "print(\"CPIs in the test generator:\", test_cpis)\n"
      ],
      "metadata": {
        "colab": {
          "base_uri": "https://localhost:8080/"
        },
        "id": "Uf0_6ieRQFsT",
        "outputId": "3c42f9ca-90e2-4e5d-9267-db65a59502cc"
      },
      "execution_count": 29,
      "outputs": [
        {
          "output_type": "stream",
          "name": "stdout",
          "text": [
            "CPIs in the test generator: [0.0032777069398280227, 0.1768879805497505, 0.045737568609798, 0.056245005061584405, 0.008032857913370018, 0.006934342913995963, 0.03797327547770541, 0.1768879805497505, 0.024194280576072452, 0.07396936349524504, 0.01622691391820025, 0.01999392640588186, 0.045130206002987235, 0.016259007290586793, 0.005496088797495586, 0.1263273524494444, 0.02201081491907308, 0.021805132933372395, 0.024179575450334334, 0.02273366861784952, 0.039125237967003304, 0.07880210746674683, 0.017865637714736857, 0.06163098614765702, 0.007793681381026724, 0.04576339755490265, 0.021805132933372395, 0.06605985519172546, 0.09638381198619723, 0.01423542540735111, 0.06163098614765702, 0.03247253673372852, 0.017817539645491334, 0.032490331083216036, 0.02434037087730038, 0.23329535562465223, 0.04287412242514734, 0.011792663769532136, 0.08105721614442807, 0.042224771110724785, 0.07396936349524504, 0.03244246867211022, 0.11212013005683279, 0.017865637714736857, 0.13548074661264825, 0.03213571670137678, 0.049653795322772934, 0.010178047864701242, 0.03213571670137678, 0.05330577617818449, 0.008113456959100126, 0.01423542540735111, 0.1768879805497505, 0.01622691391820025, 0.010903183857590884, 0.010178047864701242, 0.008145694571362562, 0.014226662994210609, 0.03213571670137678, 0.1768879805497505, 0.002066370427332027, 0.01622691391820025, 0.03242202181287989, 0.05330577617818449, 0.0872424355158657, 0.10165183930600354, 0.012997606811624195, 0.01788487622416865, 0.06163098614765702, 0.03237431065705604, 0.07650977646721395, 0.052404773638705035, 0.01985420927281345, 0.008032857913370018, 0.014222281755776748, 0.01606642993790024, 0.005908031741577137, 0.1768879805497505, 0.059014080899204964, 0.08725686721994355, 0.03248707837910396, 0.07416908368425874, 0.014237068350355524, 0.04429510611304599, 0.08724799991860326, 0.1768879805497505, 0.009358664544853658, 0.0026997456611257335, 0.01999392640588186, 0.008145694571362562, 0.04560841261243765, 0.03213571670137678, 0.1768879805497505, 0.04931697139075721, 0.1768879805497505, 0.01755449916659928, 0.017033272920281603, 0.017817539645491334, 0.03745596704307778, 0.04370000113425255, 0.04161919453081525, 0.1768879805497505, 0.049653795322772934, 0.07623546831504557, 0.11408351503168948, 0.1768879805497505, 0.014237321110552608, 0.01999392640588186, 0.07302111263190114, 0.04287412242514734, 0.03242202181287989, 0.04287412242514734, 0.02201081491907308, 0.1768879805497505, 0.07305219632515642, 0.03242202181287989, 0.008113456959100126, 0.03246105632039105, 0.1153294962726853, 0.015615149851729236]\n"
          ]
        }
      ]
    },
    {
      "cell_type": "code",
      "source": [
        "import numpy as np\n",
        "import matplotlib.pyplot as plt\n",
        "from sklearn.utils import shuffle\n",
        "from tensorflow.keras.models import load_model\n",
        "\n",
        "# Assuming 'model' and 'test_generator' are defined and loaded appropriately\n",
        "# Load your model if it is not already loaded\n",
        "# model = load_model('path_to_your_model.h5')\n",
        "\n",
        "# Extract labels and predictions without assuming reset functionality\n",
        "test_cpis = []\n",
        "predictions = []\n",
        "for batch_images, batch_labels in test_generator:\n",
        "    test_cpis.extend(batch_labels)\n",
        "    predictions.extend(model.predict_on_batch(batch_images))\n",
        "\n",
        "# Convert data to numpy arrays for easier manipulation\n",
        "test_cpis = np.array(test_cpis)\n",
        "predictions = np.array(predictions)\n",
        "\n",
        "# Initialize accuracy counts for each order position\n",
        "num_trials = 500\n",
        "accuracy_counts = np.zeros(4)\n",
        "\n",
        "# Print lengths to verify data sizes\n",
        "print(\"Predicted data length:\", len(predictions))\n",
        "print(\"Actual data length:\", len(test_cpis))\n",
        "\n",
        "# Validate if we have enough elements to randomly pick 4\n",
        "if len(predictions) >= 4 and len(test_cpis) >= 4:\n",
        "    for _ in range(num_trials):\n",
        "        # Randomly pick 4 indices ensuring no out of bound error\n",
        "        indices = np.arange(min(len(predictions), len(test_cpis)))\n",
        "        selected_indices = shuffle(indices)[:4]  # No fixed seed for true randomness each trial\n",
        "\n",
        "        # Extract selected predictions and actual values\n",
        "        selected_predictions = predictions[selected_indices]\n",
        "        selected_actuals = test_cpis[selected_indices]\n",
        "\n",
        "        # Order by predictions\n",
        "        order_pred_indices = np.argsort(selected_predictions[:, 0])  # Assuming predictions are in the first column\n",
        "        order_actual_indices = np.argsort(selected_actuals)\n",
        "\n",
        "        # Compare orders\n",
        "        accuracy_positions = [1 if pred_i == act_i else 0 for pred_i, act_i in zip(order_pred_indices, order_actual_indices)]\n",
        "        accuracy_counts += accuracy_positions\n",
        "\n",
        "    # Calculate average accuracies for each order\n",
        "    average_accuracies = accuracy_counts / num_trials\n",
        "    print(\"Average Accuracy at first position:\", average_accuracies[0])\n",
        "    print(\"Average Accuracy at second position:\", average_accuracies[1])\n",
        "    print(\"Average Accuracy at third position:\", average_accuracies[2])\n",
        "    print(\"Average Accuracy at fourth position:\", average_accuracies[3])\n",
        "else:\n",
        "    print(\"Not enough data points to select 4 unique values. Please ensure at least 4 data points are available.\")\n"
      ],
      "metadata": {
        "colab": {
          "base_uri": "https://localhost:8080/"
        },
        "id": "7-ESFC4rZJhD",
        "outputId": "f441b636-d22f-4400-9857-b75a8eb5b4fa"
      },
      "execution_count": 23,
      "outputs": [
        {
          "output_type": "stream",
          "name": "stdout",
          "text": [
            "Predicted data length: 120\n",
            "Actual data length: 120\n",
            "Average Accuracy at first position: 0.308\n",
            "Average Accuracy at second position: 0.306\n",
            "Average Accuracy at third position: 0.266\n",
            "Average Accuracy at fourth position: 0.324\n"
          ]
        }
      ]
    },
    {
      "cell_type": "code",
      "source": [
        "import numpy as np\n",
        "from sklearn.metrics import roc_auc_score\n",
        "\n",
        "# First, gather all predictions and actuals\n",
        "y_true = []\n",
        "y_pred = []\n",
        "for batch_images, batch_labels in test_generator:\n",
        "    preds = model.predict_on_batch(batch_images)\n",
        "    y_pred.extend(preds)\n",
        "    y_true.extend(batch_labels)\n",
        "\n",
        "# Convert lists to numpy arrays for easier manipulation\n",
        "y_true = np.array(y_true)\n",
        "y_pred = np.array(y_pred)\n",
        "\n",
        "# Calculate the concordance index, treating it similar to AUC calculation\n",
        "def calculate_concordance_index(y_true, y_pred):\n",
        "    n = 0\n",
        "    h_sum = 0\n",
        "    for i in range(len(y_true)):\n",
        "        for j in range(i + 1, len(y_true)):\n",
        "            if y_true[i] != y_true[j]:\n",
        "                n += 1\n",
        "                if (y_pred[i] > y_pred[j] and y_true[i] > y_true[j]) or (y_pred[i] < y_pred[j] and y_true[i] < y_true[j]):\n",
        "                    h_sum += 1\n",
        "                elif y_pred[i] == y_pred[j]:\n",
        "                    h_sum += 0.5\n",
        "    return h_sum / n if n > 0 else 0\n",
        "\n",
        "# Calculate the C-index\n",
        "c_index = calculate_concordance_index(y_true, y_pred)\n",
        "print(\"Concordance Index:\", c_index)\n"
      ],
      "metadata": {
        "colab": {
          "base_uri": "https://localhost:8080/"
        },
        "id": "DAFyuYpqgd0h",
        "outputId": "884da2ee-2f0b-4c39-eff8-249fe59acc2f"
      },
      "execution_count": 24,
      "outputs": [
        {
          "output_type": "stream",
          "name": "stdout",
          "text": [
            "Concordance Index: 0.5298055242390078\n"
          ]
        }
      ]
    },
    {
      "cell_type": "code",
      "source": [
        "#abs error - squared error\n",
        "\n",
        "import matplotlib.pyplot as plt\n",
        "\n",
        "test_predict = model.predict(test_generator)\n",
        "count = 0\n",
        "for i in range (0,12):\n",
        "  print(test_predict[i])\n",
        "  print(test_cpis[i])\n",
        "# Create the scatter plot\n",
        "plt.figure()\n",
        "plt.scatter(test_predict, test_cpis, marker=\"+\")\n",
        "plt.xlabel(\"Predicted Value\")\n",
        "plt.ylabel(\"True Value\")\n",
        "\n",
        "# Add a reference line\n",
        "plt.plot([0, 0.1], [0, 0.1], \"r--\")  # Assuming the range of values is -60 to 60, adjust as needed\n",
        "\n",
        "# Show the plot\n",
        "plt.show()"
      ],
      "metadata": {
        "colab": {
          "base_uri": "https://localhost:8080/",
          "height": 883
        },
        "id": "_a4KF_RAPs2H",
        "outputId": "dbf1251a-af51-4701-9453-4b5d1dc9c805"
      },
      "execution_count": 22,
      "outputs": [
        {
          "output_type": "stream",
          "name": "stdout",
          "text": [
            "12/12 [==============================] - 3s 253ms/step\n",
            "[0.04939401]\n",
            "0.050736651364387736\n",
            "[0.0360022]\n",
            "0.01622691391820025\n",
            "[0.03646702]\n",
            "0.05663732111498065\n",
            "[0.04157696]\n",
            "0.01999392640588186\n",
            "[0.03682003]\n",
            "0.04871225816748372\n",
            "[0.03723488]\n",
            "0.04576339755490265\n",
            "[0.0608006]\n",
            "0.021232120108233898\n",
            "[0.03549018]\n",
            "0.13289355695645189\n",
            "[0.04038426]\n",
            "0.1768879805497505\n",
            "[0.03534421]\n",
            "0.09798622336999258\n",
            "[0.04053415]\n",
            "0.1263273524494444\n",
            "[0.03643629]\n",
            "0.07104799473855919\n"
          ]
        },
        {
          "output_type": "display_data",
          "data": {
            "text/plain": [
              "<Figure size 640x480 with 1 Axes>"
            ],
            "image/png": "[encoded data removed]"
          },
          "metadata": {}
        }
      ]
    }
  ],
  "metadata": {
    "colab": {
      "provenance": [],
      "gpuType": "T4"
    },
    "kernelspec": {
      "display_name": "Python 3",
      "name": "python3"
    },
    "language_info": {
      "name": "python"
    },
    "accelerator": "GPU"
  },
  "nbformat": 4,
  "nbformat_minor": 0
}