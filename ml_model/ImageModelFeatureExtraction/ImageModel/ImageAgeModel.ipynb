{
  "cells": [
    {
      "cell_type": "code",
      "execution_count": null,
      "metadata": {
        "colab": {
          "base_uri": "https://localhost:8080/"
        },
        "id": "nqwjilu0iB5s",
        "outputId": "91d9d2a5-f91c-4eec-fad7-57a41a434652"
      },
      "outputs": [
        {
          "output_type": "stream",
          "name": "stdout",
          "text": [
            "Downloading...\n",
            "From (original): https://drive.google.com/uc?id=1ba77UQl24FgekMX58BrNtba_zcFAo1Dv\n",
            "From (redirected): https://drive.google.com/uc?id=1ba77UQl24FgekMX58BrNtba_zcFAo1Dv&confirm=t&uuid=51627ecd-4e50-44eb-9e0b-f1a267f89fa9\n",
            "To: /content/images.zip\n",
            "100% 273M/273M [00:03<00:00, 86.0MB/s]\n"
          ]
        }
      ],
      "source": [
        "from google.colab import drive\n",
        "import os\n",
        "import gdown # Library to download files from Google Drive\n",
        "!gdown 1ba77UQl24FgekMX58BrNtba_zcFAo1Dv # Google Drive ID of the zip file to be downloaded\n"
      ]
    },
    {
      "cell_type": "code",
      "execution_count": null,
      "metadata": {
        "id": "Kc-whf_TnQwv"
      },
      "outputs": [],
      "source": [
        "!unzip -oq images # Unzip the file downloaded. Options -o and -q overwrites the files if exists already and disables printing out the extracted files, respectively."
      ]
    },
    {
      "cell_type": "code",
      "execution_count": null,
      "metadata": {
        "id": "fEAUVfFblvle"
      },
      "outputs": [],
      "source": [
        "\n",
        "root_dir = '/content/images'\n"
      ]
    },
    {
      "cell_type": "code",
      "execution_count": null,
      "metadata": {
        "colab": {
          "base_uri": "https://localhost:8080/",
          "height": 105
        },
        "id": "X3NGIIAB5Dl8",
        "outputId": "be531dea-b421-4032-d025-bf71b699cd84"
      },
      "outputs": [
        {
          "output_type": "stream",
          "name": "stderr",
          "text": [
            "Downloading...\n",
            "From: https://drive.google.com/uc?id=17yEXHnf1Q7KAJyqvIOFzFWNg1nh0oJhc\n",
            "To: /content/ad_responses.json\n",
            "100%|██████████| 23.1M/23.1M [00:00<00:00, 112MB/s] \n"
          ]
        },
        {
          "output_type": "execute_result",
          "data": {
            "text/plain": [
              "'/content/ad_responses.json'"
            ],
            "application/vnd.google.colaboratory.intrinsic+json": {
              "type": "string"
            }
          },
          "metadata": {},
          "execution_count": 2
        }
      ],
      "source": [
        "import gdown\n",
        "\n",
        "# Define the Google Drive file ID for the responses.json file\n",
        "file_id = '17yEXHnf1Q7KAJyqvIOFzFWNg1nh0oJhc'\n",
        "\n",
        "# Define the output path for the downloaded file\n",
        "output_path = '/content/ad_responses.json'\n",
        "\n",
        "# Download the file using gdown\n",
        "gdown.download(f'https://drive.google.com/uc?id={file_id}', output_path, quiet=False)\n"
      ]
    },
    {
      "cell_type": "code",
      "execution_count": 16,
      "metadata": {
        "id": "LvGUsA3FczEx"
      },
      "outputs": [],
      "source": [
        "import json\n",
        "import os\n",
        "from PIL import Image\n",
        "import numpy as np\n",
        "import pickle\n",
        "\n",
        "# Load the JSON data\n",
        "responses_file = '/content/ad_responses.json'\n",
        "with open(responses_file, 'r') as f:\n",
        "    data = json.load(f)\n",
        "\n",
        "# Create a dictionary to map '_id' to ad_info for faster lookup\n",
        "ad_info_dict = {info['_id']: info for info in data.values() if '_id' in info}\n",
        "# Define the root directory for images\n",
        "images_dir = '/content/images'\n",
        "\n",
        "# Define the target dimensions for resizing images (lower resolution for efficiency)\n",
        "target_width = 512   # Lower resolution\n",
        "target_height = 512  # Lower resolution\n",
        "\n",
        "# Initialize lists to store calculated and extracted features\n",
        "campaign_data = []\n",
        "\n",
        "# Define the function to calculate age group percentages\n",
        "def calculate_age_group(demographics):\n",
        "    age_groups = {\n",
        "        'age-13-17': 0,\n",
        "        'age-18-24': 0,\n",
        "        'age-25-34': 0,\n",
        "        'age-35-44': 0,\n",
        "        'age-45-54': 0,\n",
        "        'age-55-64': 0,\n",
        "        'age-65+': 0\n",
        "    }\n",
        "    for demo in demographics:\n",
        "        age = demo['age']\n",
        "        percentage = float(demo['percentage'])\n",
        "        if age == '18-24':\n",
        "            age_groups['age-18-24'] += percentage\n",
        "        elif age == '25-34':\n",
        "            age_groups['age-25-34'] += percentage\n",
        "        elif age == '35-44':\n",
        "            age_groups['age-35-44'] += percentage\n",
        "        elif age == '45-54':\n",
        "            age_groups['age-45-54'] += percentage\n",
        "        elif age == '55-64':\n",
        "            age_groups['age-55-64'] += percentage\n",
        "        elif age == '65+':\n",
        "            age_groups['age-65+'] += percentage\n",
        "        else:\n",
        "            age_groups['age-13-17'] += percentage  # Assuming all other ages fall into this category\n",
        "    return age_groups\n",
        "\n",
        "# Iterate through each image in the images directory\n",
        "for filename in os.listdir(images_dir):\n",
        "    if filename.endswith(\".jpg\"):  # Check if the file is a JPEG image\n",
        "        image_id = filename.split('.')[0]  # Extract ID from filename\n",
        "        for key, value in ad_info_dict.items():\n",
        "            if '_id' in value and value['_id'] == image_id:\n",
        "                ad_info = value\n",
        "                image_path = os.path.join(images_dir, filename)\n",
        "\n",
        "                # Load and preprocess the image\n",
        "                with Image.open(image_path) as img:\n",
        "                    img = img.convert('RGB')  # Convert image to RGB format\n",
        "                    img = img.resize((target_width, target_height))  # Resize image to lower resolution\n",
        "                    img_array = np.array(img)  # Convert image to numpy array\n",
        "\n",
        "                # Process only the necessary data to reduce memory load\n",
        "                avg_spend = np.mean([int(ad_info.get(\"spend\", {}).get(\"lower_bound\", 0)), int(ad_info.get(\"spend\", {}).get(\"upper_bound\", 0))])\n",
        "                avg_impressions = np.mean([int(ad_info.get(\"impressions\", {}).get(\"lower_bound\", 0)), int(ad_info.get(\"impressions\", {}).get(\"upper_bound\", 0))])\n",
        "                cost_per_impression = avg_spend / avg_impressions if avg_impressions > 0 else float('inf')\n",
        "\n",
        "                # Calculate age group percentages\n",
        "                age_groups = calculate_age_group(ad_info.get('demographic_distribution', []))\n",
        "\n",
        "                # Append only necessary info to reduce memory footprint\n",
        "                campaign_data.append({\n",
        "                    \"ad_id\": ad_info.get('_id', ''),\n",
        "                    \"cpi\": cost_per_impression,\n",
        "                    \"image_data\": img_array.flatten().tolist(),  # Flatten and convert to list to minimize size\n",
        "                    \"age_groups\": age_groups\n",
        "                })\n",
        "                break\n",
        "\n",
        "# Save the normalized data\n",
        "with open('/content/campaign_data.pkl', 'wb') as f:\n",
        "    pickle.dump(campaign_data, f)\n",
        "\n",
        "# Clear the large variables from memory\n",
        "del campaign_data\n",
        "del data\n"
      ]
    },
    {
      "cell_type": "code",
      "execution_count": 5,
      "metadata": {
        "id": "6LTXfo58bRoF"
      },
      "outputs": [],
      "source": [
        "import tensorflow as tf\n",
        "from tensorflow.keras.utils import Sequence\n",
        "from tensorflow.keras.preprocessing.image import img_to_array, load_img\n",
        "import numpy as np\n",
        "import os\n",
        "\n",
        "class DataGenerator(tf.keras.utils.Sequence):\n",
        "    def __init__(self, image_filenames, labels_cpi, labels_age_groups, image_directory, batch_size):\n",
        "        self.image_filenames = image_filenames  # This should be a list of IDs\n",
        "        self.labels_cpi = labels_cpi  # This should be a dictionary {id: cpi}\n",
        "        self.labels_age_groups = labels_age_groups  # This should be a dictionary {id: age_group_index}\n",
        "        self.image_directory = image_directory\n",
        "        self.batch_size = batch_size\n",
        "\n",
        "    def __len__(self):\n",
        "        return int(np.ceil(len(self.image_filenames) / self.batch_size))\n",
        "\n",
        "    def __getitem__(self, idx):\n",
        "      batch_x = self.image_filenames[idx * self.batch_size:(idx + 1) * self.batch_size]\n",
        "      batch_y_cpi = [self.labels_cpi[x] for x in batch_x if x in self.labels_cpi]\n",
        "      batch_y_age_groups = [to_categorical(self.labels_age_groups[x], num_classes=7) for x in batch_x if x in self.labels_age_groups]\n",
        "\n",
        "      images = []\n",
        "      for file_id in batch_x:\n",
        "          file_path = os.path.join(self.image_directory, f'{file_id}.jpg')\n",
        "          if os.path.exists(file_path):\n",
        "              img = Image.open(file_path)\n",
        "              img = img.resize((512, 512), Image.ANTIALIAS)  # Using ANTIALIAS for better resizing quality\n",
        "              img_array = np.array(img) / 255.0  # Normalize the images\n",
        "              if img_array.shape != (512, 512, 3):  # Ensure each image has the correct shape\n",
        "                  print(f\"Debug: Incorrect image shape {img_array.shape} for file: {file_path}\")\n",
        "                  img_array = np.zeros((512, 512, 3))  # Correct the shape with a zero array\n",
        "              images.append(img_array)\n",
        "          else:\n",
        "              print(f\"Debug: File not found, using zero array for: {file_path}\")\n",
        "              images.append(np.zeros((512, 512, 3)))  # Ensure the shape matches expected input dimensions\n",
        "\n",
        "      images = np.stack(images)  # Ensures all images are the same shape\n",
        "      batch_y_cpi = np.array(batch_y_cpi, dtype=np.float32)\n",
        "\n",
        "      if batch_y_age_groups:  # Check if list is not empty before stacking\n",
        "          batch_y_age_groups = np.stack(batch_y_age_groups)\n",
        "      else:\n",
        "          print(\"Debug: No age group data available for this batch.\")\n",
        "          batch_y_age_groups = np.zeros((len(batch_x), 7))  # Create a placeholder with zeros\n",
        "\n",
        "      print(\"Images array shape after conversion:\", images.shape)\n",
        "      print(\"CPI labels shape after conversion:\", batch_y_cpi.shape)\n",
        "      print(\"Age groups shape after conversion:\", batch_y_age_groups.shape)\n",
        "\n",
        "      return images, [batch_y_cpi, batch_y_age_groups]\n",
        "\n",
        "\n",
        "\n",
        "    def on_epoch_end(self):\n",
        "        'Updates indexes after each epoch'\n",
        "        self.indexes = np.arange(len(self.image_filenames))\n",
        "        if self.shuffle == True:\n",
        "            np.random.shuffle(self.indexes)\n",
        "\n",
        "    def __data_generation(self, image_filenames_temp):\n",
        "        'Generates data containing batch_size samples' # X : (n_samples, *dim, n_channels)\n",
        "        # Initialization\n",
        "        X = np.empty((self.batch_size, *self.dim, self.n_channels))\n",
        "        y = np.empty((self.batch_size), dtype=float)\n",
        "\n",
        "        # Generate data\n",
        "        for i, image_filename in enumerate(image_filenames_temp):\n",
        "            # Store sample\n",
        "            img = load_img(os.path.join(self.image_directory, image_filename + '.jpg'), target_size=self.dim)\n",
        "            X[i,] = img_to_array(img) / 255.0\n",
        "\n",
        "            # Store class\n",
        "            y[i] = self.labels[image_filename]\n",
        "\n",
        "        return X, y\n"
      ]
    },
    {
      "cell_type": "code",
      "execution_count": 2,
      "metadata": {
        "id": "Or7aFRU0YOCW",
        "colab": {
          "base_uri": "https://localhost:8080/"
        },
        "outputId": "f2b495a6-6e6f-4469-85a7-32c444da898e"
      },
      "outputs": [
        {
          "output_type": "stream",
          "name": "stdout",
          "text": [
            "Ad ID: 401171250412601\n",
            "Cost Per Impression (CPI): 0.003089096525630047\n",
            "Sample Image Data (flattened): [105, 90, 83, 106, 91, 84, 107, 92, 85, 107]\n",
            "Age Group Percentages:\n",
            "age-13-17: 0.00%\n",
            "age-18-24: 15.72%\n",
            "age-25-34: 24.87%\n",
            "age-35-44: 19.55%\n",
            "age-45-54: 16.11%\n",
            "age-55-64: 13.81%\n",
            "age-65+: 9.95%\n",
            "\n",
            "\n",
            "Ad ID: 1446433942154722\n",
            "Cost Per Impression (CPI): 0.01315270080368844\n",
            "Sample Image Data (flattened): [175, 184, 199, 175, 184, 199, 175, 184, 199, 177]\n",
            "Age Group Percentages:\n",
            "age-13-17: 0.00%\n",
            "age-18-24: 6.28%\n",
            "age-25-34: 13.53%\n",
            "age-35-44: 20.36%\n",
            "age-45-54: 23.23%\n",
            "age-55-64: 22.72%\n",
            "age-65+: 13.88%\n",
            "\n",
            "\n",
            "Ad ID: 2115518362093406\n",
            "Cost Per Impression (CPI): 0.017320230936412485\n",
            "Sample Image Data (flattened): [238, 238, 238, 238, 238, 238, 238, 238, 238, 238]\n",
            "Age Group Percentages:\n",
            "age-13-17: 0.00%\n",
            "age-18-24: 3.99%\n",
            "age-25-34: 29.99%\n",
            "age-35-44: 28.30%\n",
            "age-45-54: 16.98%\n",
            "age-55-64: 11.25%\n",
            "age-65+: 9.48%\n",
            "\n",
            "\n"
          ]
        }
      ],
      "source": [
        "import pickle\n",
        "\n",
        "# Load the processed data from disk\n",
        "with open('/content/campaign_data.pkl', 'rb') as f:\n",
        "    campaign_data = pickle.load(f)\n",
        "\n",
        "# Print the first few entries of the campaign data to verify\n",
        "for campaign in campaign_data[:3]:  # Adjust the range as needed for more samples\n",
        "    print(\"Ad ID:\", campaign[\"ad_id\"])\n",
        "    print(\"Cost Per Impression (CPI):\", campaign[\"cpi\"])\n",
        "    print(\"Sample Image Data (flattened):\", campaign[\"image_data\"][:10])  # Show only the first 10 pixels to keep output manageable\n",
        "    print(\"Age Group Percentages:\")\n",
        "    for age_group, percentage in campaign[\"age_groups\"].items():\n",
        "        print(f\"{age_group}: {percentage:.2%}\")\n",
        "    print(\"\\n\")\n"
      ]
    },
    {
      "cell_type": "code",
      "execution_count": 1,
      "metadata": {
        "colab": {
          "base_uri": "https://localhost:8080/"
        },
        "id": "SkfJ4SWO1odf",
        "outputId": "22ba7655-6fc1-40e1-e0d3-4b1f59bfbacc"
      },
      "outputs": [
        {
          "output_type": "stream",
          "name": "stdout",
          "text": [
            "Num GPUs Available:  0\n",
            "TensorFlow will run on CPU\n"
          ]
        }
      ],
      "source": [
        "import tensorflow as tf\n",
        "\n",
        "# Check TensorFlow GPU usage\n",
        "print(\"Num GPUs Available: \", len(tf.config.list_physical_devices('GPU')))\n",
        "if tf.config.list_physical_devices('GPU'):\n",
        "    print(\"TensorFlow will run on GPU\")\n",
        "else:\n",
        "    print(\"TensorFlow will run on CPU\")\n",
        "\n",
        "gpus = tf.config.experimental.list_physical_devices('GPU')\n",
        "if gpus:\n",
        "    try:\n",
        "        # Currently, memory growth needs to be the same across GPUs\n",
        "        for gpu in gpus:\n",
        "            tf.config.experimental.set_memory_growth(gpu, True)\n",
        "        logical_gpus = tf.config.experimental.list_logical_devices('GPU')\n",
        "        print(len(gpus), \"Physical GPUs,\", len(logical_gpus), \"Logical GPUs\")\n",
        "    except RuntimeError as e:\n",
        "        # Memory growth must be set before GPUs have been initialized\n",
        "        print(e)\n"
      ]
    },
    {
      "cell_type": "code",
      "execution_count": null,
      "metadata": {
        "colab": {
          "base_uri": "https://localhost:8080/"
        },
        "id": "fedkgJPvcqG4",
        "outputId": "162c9638-1411-4d02-e9ab-ab4785b58963"
      },
      "outputs": [
        {
          "output_type": "stream",
          "name": "stdout",
          "text": [
            "Model: \"model_1\"\n",
            "__________________________________________________________________________________________________\n",
            " Layer (type)                Output Shape                 Param #   Connected to                  \n",
            "==================================================================================================\n",
            " input_2 (InputLayer)        [(None, 512, 512, 3)]        0         []                            \n",
            "                                                                                                  \n",
            " sequential_2 (Sequential)   (None, 1)                    1300758   ['input_2[0][0]']             \n",
            "                                                          41                                      \n",
            "                                                                                                  \n",
            " sequential_3 (Sequential)   (None, 7)                    1300766   ['input_2[0][0]']             \n",
            "                                                          15                                      \n",
            "                                                                                                  \n",
            "==================================================================================================\n",
            "Total params: 260152456 (992.40 MB)\n",
            "Trainable params: 260152456 (992.40 MB)\n",
            "Non-trainable params: 0 (0.00 Byte)\n",
            "__________________________________________________________________________________________________\n"
          ]
        },
        {
          "output_type": "stream",
          "name": "stderr",
          "text": [
            "<ipython-input-5-091371c96b51>:28: DeprecationWarning: ANTIALIAS is deprecated and will be removed in Pillow 10 (2023-07-01). Use LANCZOS or Resampling.LANCZOS instead.\n",
            "  img = img.resize((512, 512), Image.ANTIALIAS)  # Using ANTIALIAS for better resizing quality\n"
          ]
        },
        {
          "output_type": "stream",
          "name": "stdout",
          "text": [
            "Debug: Incorrect image shape (512, 512, 4) for file: /content/images/1907063079596864.jpg\n",
            "Debug: No age group data available for this batch.\n",
            "Images array shape after conversion: (10, 512, 512, 3)\n",
            "CPI labels shape after conversion: (0,)\n",
            "Age groups shape after conversion: (10, 7)\n",
            "Epoch 1/10\n"
          ]
        }
      ],
      "source": [
        "import tensorflow as tf\n",
        "from tensorflow.keras.models import Sequential, Model\n",
        "from tensorflow.keras.layers import Conv2D, MaxPooling2D, Flatten, Dense\n",
        "from sklearn.model_selection import train_test_split\n",
        "from PIL import Image\n",
        "\n",
        "labels_cpi = {item['ad_id']: item['cpi'] for item in campaign_data}\n",
        "labels_age_groups = {item['ad_id']: list(item['age_groups'].values()) for item in campaign_data}  # Ensure this mapping is correct\n",
        "\n",
        "image_filenames = [item['ad_id'] for item in campaign_data]  # IDs should match exactly in labels\n",
        "\n",
        "# Splitting the dataset\n",
        "image_filenames_train, image_filenames_test, labels_cpi_train, labels_cpi_test, labels_age_groups_train, labels_age_groups_test = train_test_split(\n",
        "    image_filenames, [labels_cpi[id] for id in image_filenames], [labels_age_groups[id] for id in image_filenames], test_size=0.2, random_state=42)\n",
        "\n",
        "# Create the generator for CPI\n",
        "batch_size = 10  # Depends on your available memory\n",
        "# Example instantiation and model fitting\n",
        "train_generator = DataGenerator(image_filenames_train, labels_cpi_train, labels_age_groups_train, '/content/images', batch_size)\n",
        "test_generator = DataGenerator(image_filenames_test, labels_cpi_test, labels_age_groups_test, '/content/images', batch_size)\n",
        "\n",
        "# Define your model's input shape based on the data dimensions you will train on\n",
        "input_shape = (512, 512, 3)  # Modify according to your resized image dimensions\n",
        "\n",
        "# Define the model for CPI prediction\n",
        "model_cpi = Sequential([\n",
        "    Conv2D(32, (3, 3), activation='relu', input_shape=input_shape),\n",
        "    MaxPooling2D(2, 2),\n",
        "    Conv2D(64, (3, 3), activation='relu'),\n",
        "    MaxPooling2D(2, 2),\n",
        "    Flatten(),\n",
        "    Dense(128, activation='relu'),\n",
        "    Dense(1, activation='linear', name='cpi_output')  # Linear activation for regression\n",
        "])\n",
        "\n",
        "# Compile the model for CPI prediction\n",
        "model_cpi.compile(optimizer='adam', loss='mean_absolute_error', metrics=['mean_squared_error'])\n",
        "\n",
        "# Define the model for age distribution prediction\n",
        "model_age_groups = Sequential([\n",
        "    Conv2D(32, (3, 3), activation='relu', input_shape=input_shape),\n",
        "    MaxPooling2D(2, 2),\n",
        "    Conv2D(64, (3, 3), activation='relu'),\n",
        "    MaxPooling2D(2, 2),\n",
        "    Flatten(),\n",
        "    Dense(128, activation='relu'),\n",
        "    Dense(7, activation='softmax', name='age_output')  # Softmax activation for classification\n",
        "])\n",
        "\n",
        "# Compile the model for age distribution prediction\n",
        "model_age_groups.compile(optimizer='adam', loss='categorical_crossentropy', metrics=['accuracy'])\n",
        "\n",
        "# Combine both models into a single model\n",
        "combined_model_input = tf.keras.Input(shape=input_shape)\n",
        "cpi_output = model_cpi(combined_model_input)\n",
        "age_output = model_age_groups(combined_model_input)\n",
        "\n",
        "combined_model = Model(inputs=combined_model_input, outputs=[cpi_output, age_output])\n",
        "\n",
        "# Compile the combined model with appropriate loss functions and metrics\n",
        "combined_model.compile(optimizer='adam', loss=['mean_absolute_error', 'categorical_crossentropy'], metrics=['mean_squared_error', 'accuracy'])\n",
        "\n",
        "# Show the model structure\n",
        "combined_model.summary()\n",
        "\n",
        "# Now use this combined model with both generators directly in model.fit\n",
        "\n",
        "combined_model.fit(train_generator, epochs=10, validation_data=test_generator)"
      ]
    },
    {
      "cell_type": "code",
      "source": [],
      "metadata": {
        "id": "RbjOBRPp6Lal"
      },
      "execution_count": null,
      "outputs": []
    },
    {
      "cell_type": "code",
      "source": [
        "#abs - squared error\n",
        "# Evaluate the model on the test set\n",
        "test_loss, test_mae = model.evaluate(test_generator)\n",
        "print(f\"Test Loss: {test_loss}\")\n",
        "print(f\"Mean Absolute Error (MAE): {test_mae}\")"
      ],
      "metadata": {
        "colab": {
          "base_uri": "https://localhost:8080/"
        },
        "id": "87Eqs4-eCaap",
        "outputId": "c2ed2efc-da99-4673-a752-5422d8045af2"
      },
      "execution_count": null,
      "outputs": [
        {
          "output_type": "stream",
          "name": "stdout",
          "text": [
            "24/24 [==============================] - 5s 193ms/step - loss: 0.0160 - mean_squared_error: 6.6541e-04\n",
            "Test Loss: 0.016047503799200058\n",
            "Mean Absolute Error (MAE): 0.0006654096068814397\n"
          ]
        }
      ]
    },
    {
      "cell_type": "code",
      "execution_count": null,
      "metadata": {
        "colab": {
          "base_uri": "https://localhost:8080/"
        },
        "id": "xY-w5IVOC3Hc",
        "outputId": "158d88a4-886d-4068-b65d-6f2e2fef31c5"
      },
      "outputs": [
        {
          "output_type": "stream",
          "name": "stdout",
          "text": [
            "12/12 [==============================] - 2s 164ms/step - loss: 0.0280 - mean_squared_error: 0.0024\n",
            "Test Loss: 0.028036927804350853\n",
            "Mean Absolute Error (MAE): 0.0024414174258708954\n"
          ]
        }
      ],
      "source": [
        "#squared error - abs error\n",
        "# Evaluate the model on the test set\n",
        "test_loss, test_mae = model.evaluate(test_generator)\n",
        "print(f\"Test Loss: {test_loss}\")\n",
        "print(f\"Mean Absolute Error (MAE): {test_mae}\")\n",
        "\n"
      ]
    },
    {
      "cell_type": "code",
      "source": [
        "test_cpis = []\n",
        "for batch_images, batch_labels in test_generator:\n",
        "    test_cpis.extend(batch_labels)  # Assuming batch_images contains the image filenames, which are the IDs\n",
        "\n",
        "# Now test_ids contains all the IDs in the test generator\n",
        "print(\"CPIs in the test generator:\", test_cpis)\n"
      ],
      "metadata": {
        "colab": {
          "base_uri": "https://localhost:8080/"
        },
        "id": "Uf0_6ieRQFsT",
        "outputId": "8fa42e01-835c-433f-ffca-ad2ea07afd55"
      },
      "execution_count": null,
      "outputs": [
        {
          "output_type": "stream",
          "name": "stdout",
          "text": [
            "CPIs in the test generator: [0.0024422276493947766, 0.023332682221788147, 0.014705302767825158, 0.007775572834606299, 0.01425755021572045, 0.019934662310820722, 0.009998957893639889, 0.05545060562284698, 0.011997365326307536, 0.013843119517290822, 0.0033320044426725904, 0.007615970459266097, 0.06355123193017546, 0.09969989996665556, 0.01425755021572045, 0.019971999199977143, 0.01980396079215843, 0.0990990990990991, 0.017589269957056296, 0.009997799995111101, 0.008440037511277828, 0.011809198265438777, 0.03322591399044338, 0.009998199996727266, 0.09969989996665556, 0.00908730577202099, 0.149999, 0.04396175847033881, 0.0057842409696893145, 0.033011003667889297, 0.06469487876327956, 0.009072892234404262, 0.0598119623924785, 0.006921549110075554, 0.016345751740940745, 0.005210800568450971, 0.01999849230537278, 0.03683196665228055, 0.015551180227467678, 0.011960478419136765, 0.06537742598019984, 0.0598119623924785, 0.019934662310820722, 0.00900081825620511, 0.0646508618154009, 0.011001222358039782, 0.01461386863672098, 0.008635462395874906, 0.035961438457538304, 0.04396175847033881, 0.033011003667889297, 0.027184289480861896, 0.011960478419136765, 0.004884466153182903, 0.011960478419136765, 0.019986933159108787, 0.01636005949112542, 0.009072892234404262, 0.01425755021572045, 0.0066622518322303655, 0.026152347926689117, 0.0542586931055173, 0.05545060562284698, 0.09969989996665556, 0.011089135314118091, 0.007615970459266097, 0.009463257507973768, 0.011960478419136765, 0.047269262797319266, 0.019934662310820722, 0.033011003667889297, 0.009997799995111101, 0.019982181494208984, 0.07140204005828737, 0.01425755021572045, 0.008817698927640751, 0.019984922844966845, 0.004600070770319544, 0.019971999199977143, 0.011106716029849022, 0.005993373289155261, 0.017589269957056296, 0.033011003667889297, 0.016664481476625505, 0.014144877839691384, 0.011960478419136765, 0.026264540238959945, 0.028884572820323647, 0.01980396079215843, 0.01980396079215843, 0.017589269957056296, 0.13153323859150481, 0.017270940492619076, 0.03331185137447499, 0.04332695551303675, 0.033011003667889297, 0.03679141007421443, 0.0990990990990991, 0.0598119623924785, 0.011809198265438777, 0.04282979513700391, 0.02444010862270499, 0.011089135314118091, 0.007775572834606299, 0.008666005777337185, 0.04665395538607182, 0.04999269225147886, 0.03420544318654309, 0.026464861558009166, 0.009072892234404262, 0.0076770411852490035, 0.013830982015107924, 0.09995262908574136, 0.03140089716849053, 0.01997822173826085, 0.007551144671754097, 0.03140089716849053, 0.027255041000745467, 0.0053769644381879865, 0.003517688443393452, 0.01980396079215843, 0.009990999918181075, 0.005773358992706634, 0.02935466792164245, 0.00587065730185061, 0.02271838834898499, 0.03322591399044338, 0.013627396612696479, 0.011960478419136765, 0.02726919006978207, 0.01980396079215843, 0.04396175847033881, 0.03322591399044338, 0.0990990990990991, 0.017320230936412485, 0.0022000488899753326, 0.01425755021572045, 0.0990990990990991, 0.015551180227467678, 0.019960798431937276, 0.01999643635067764, 0.019971999199977143, 0.0184158863994021, 0.027184289480861896, 0.00900081825620511, 0.019934662310820722, 0.011332015109353478, 0.01999738665969776, 0.038387568274482656, 0.03090732892241622, 0.028884572820323647, 0.026305540058316403, 0.0990990990990991, 0.009990999918181075, 0.008543101231463755, 0.011960478419136765, 0.014144877839691384, 0.011960478419136765, 0.005227708392948901, 0.0990990990990991, 0.008543101231463755, 0.014653528713716182, 0.019982181494208984, 0.008543101231463755, 0.015737670403705457, 0.01425755021572045, 0.016666011110674075, 0.04221796541317961, 0.0990990990990991, 0.013627396612696479, 0.016345751740940745, 0.019982181494208984, 0.011089135314118091, 0.020582474014553025, 0.0990990990990991, 0.026138863674825766, 0.011960478419136765, 0.022726384296712997, 0.011960478419136765, 0.023001769366874376, 0.009072892234404262, 0.011089135314118091, 0.05545060562284698, 0.064999, 0.011960478419136765, 0.055534567434831886, 0.0990990990990991, 0.019995644425086334, 0.019982181494208984, 0.011106716029849022, 0.00543646248113602, 0.00543646248113602, 0.04999269225147886, 0.027184289480861896, 0.019960798431937276, 0.033011003667889297, 0.009998476920733725, 0.01997822173826085, 0.05293003447099378, 0.0013288947950879783, 0.033011003667889297, 0.022341439311050718, 0.014442254316120702, 0.019960798431937276, 0.019995644425086334, 0.054999, 0.01315270080368844, 0.01198682649101988, 0.064999, 0.026305540058316403, 0.0598119623924785, 0.033011003667889297, 0.0333290370179423, 0.04411202418837758, 0.024999, 0.003517688443393452, 0.02796111844473779, 0.011089135314118091, 0.0058238719924701456, 0.04999269225147886, 0.013069331302548481, 0.016345751740940745, 0.0411200658862286, 0.02796111844473779, 0.0473583932462447, 0.034999, 0.019960798431937276, 0.019960798431937276, 0.02271838834898499, 0.009992384556804283, 0.02796111844473779, 0.01198682649101988, 0.0990990990990991, 0.011960478419136765, 0.024999, 0.019960798431937276, 0.02796111844473779, 0.028884572820323647, 0.014144877839691384, 0.029993533290221936]\n"
          ]
        }
      ]
    },
    {
      "cell_type": "code",
      "source": [
        "import numpy as np\n",
        "import matplotlib.pyplot as plt\n",
        "from sklearn.utils import shuffle\n",
        "from tensorflow.keras.models import load_model\n",
        "\n",
        "# Assuming 'model' and 'test_generator' are defined and loaded appropriately\n",
        "# Load your model if it is not already loaded\n",
        "# model = load_model('path_to_your_model.h5')\n",
        "\n",
        "# Extract labels and predictions without assuming reset functionality\n",
        "test_cpis = []\n",
        "predictions = []\n",
        "for batch_images, batch_labels in test_generator:\n",
        "    test_cpis.extend(batch_labels)\n",
        "    predictions.extend(model.predict_on_batch(batch_images))\n",
        "\n",
        "# Convert data to numpy arrays for easier manipulation\n",
        "test_cpis = np.array(test_cpis)\n",
        "predictions = np.array(predictions)\n",
        "\n",
        "# Initialize accuracy counts for each order position\n",
        "num_trials = 500\n",
        "accuracy_counts = np.zeros(4)\n",
        "\n",
        "# Print lengths to verify data sizes\n",
        "print(\"Predicted data length:\", len(predictions))\n",
        "print(\"Actual data length:\", len(test_cpis))\n",
        "\n",
        "# Validate if we have enough elements to randomly pick 4\n",
        "if len(predictions) >= 4 and len(test_cpis) >= 4:\n",
        "    for _ in range(num_trials):\n",
        "        # Randomly pick 4 indices ensuring no out of bound error\n",
        "        indices = np.arange(min(len(predictions), len(test_cpis)))\n",
        "        selected_indices = shuffle(indices)[:4]  # No fixed seed for true randomness each trial\n",
        "\n",
        "        # Extract selected predictions and actual values\n",
        "        selected_predictions = predictions[selected_indices]\n",
        "        selected_actuals = test_cpis[selected_indices]\n",
        "\n",
        "        # Order by predictions\n",
        "        order_pred_indices = np.argsort(selected_predictions[:, 0])  # Assuming predictions are in the first column\n",
        "        order_actual_indices = np.argsort(selected_actuals)\n",
        "\n",
        "        # Compare orders\n",
        "        accuracy_positions = [1 if pred_i == act_i else 0 for pred_i, act_i in zip(order_pred_indices, order_actual_indices)]\n",
        "        accuracy_counts += accuracy_positions\n",
        "\n",
        "    # Calculate average accuracies for each order\n",
        "    average_accuracies = accuracy_counts / num_trials\n",
        "    print(\"Average Accuracy at first position:\", average_accuracies[0])\n",
        "    print(\"Average Accuracy at second position:\", average_accuracies[1])\n",
        "    print(\"Average Accuracy at third position:\", average_accuracies[2])\n",
        "    print(\"Average Accuracy at fourth position:\", average_accuracies[3])\n",
        "else:\n",
        "    print(\"Not enough data points to select 4 unique values. Please ensure at least 4 data points are available.\")\n"
      ],
      "metadata": {
        "colab": {
          "base_uri": "https://localhost:8080/"
        },
        "id": "7-ESFC4rZJhD",
        "outputId": "2db588e2-bc43-49d9-ff48-d84247157385"
      },
      "execution_count": null,
      "outputs": [
        {
          "output_type": "stream",
          "name": "stdout",
          "text": [
            "Predicted data length: 240\n",
            "Actual data length: 240\n",
            "Average Accuracy at first position: 0.354\n",
            "Average Accuracy at second position: 0.278\n",
            "Average Accuracy at third position: 0.274\n",
            "Average Accuracy at fourth position: 0.318\n"
          ]
        }
      ]
    },
    {
      "cell_type": "code",
      "source": [
        "import numpy as np\n",
        "from sklearn.metrics import roc_auc_score\n",
        "\n",
        "# First, gather all predictions and actuals\n",
        "y_true = []\n",
        "y_pred = []\n",
        "for batch_images, batch_labels in test_generator:\n",
        "    preds = model.predict_on_batch(batch_images)\n",
        "    y_pred.extend(preds)\n",
        "    y_true.extend(batch_labels)\n",
        "\n",
        "# Convert lists to numpy arrays for easier manipulation\n",
        "y_true = np.array(y_true)\n",
        "y_pred = np.array(y_pred)\n",
        "\n",
        "# Calculate the concordance index, treating it similar to AUC calculation\n",
        "def calculate_concordance_index(y_true, y_pred):\n",
        "    n = 0\n",
        "    h_sum = 0\n",
        "    for i in range(len(y_true)):\n",
        "        for j in range(i + 1, len(y_true)):\n",
        "            if y_true[i] != y_true[j]:\n",
        "                n += 1\n",
        "                if (y_pred[i] > y_pred[j] and y_true[i] > y_true[j]) or (y_pred[i] < y_pred[j] and y_true[i] < y_true[j]):\n",
        "                    h_sum += 1\n",
        "                elif y_pred[i] == y_pred[j]:\n",
        "                    h_sum += 0.5\n",
        "    return h_sum / n if n > 0 else 0\n",
        "\n",
        "# Calculate the C-index\n",
        "c_index = calculate_concordance_index(y_true, y_pred)\n",
        "print(\"Concordance Index:\", c_index)\n"
      ],
      "metadata": {
        "colab": {
          "base_uri": "https://localhost:8080/"
        },
        "id": "DAFyuYpqgd0h",
        "outputId": "af73d1bd-a241-46a9-cfa1-4e702f7acd70"
      },
      "execution_count": null,
      "outputs": [
        {
          "output_type": "stream",
          "name": "stdout",
          "text": [
            "Concordance Index: 0.5634373019784552\n"
          ]
        }
      ]
    },
    {
      "cell_type": "code",
      "source": [
        "#abs error - squared error\n",
        "\n",
        "import matplotlib.pyplot as plt\n",
        "\n",
        "test_predict = model.predict(test_generator)\n",
        "count = 0\n",
        "for i in range (0,12):\n",
        "  print(test_predict[i])\n",
        "  print(test_cpis[i])\n",
        "# Create the scatter plot\n",
        "plt.figure()\n",
        "plt.scatter(test_predict, test_cpis, marker=\"+\")\n",
        "plt.xlabel(\"Predicted Value\")\n",
        "plt.ylabel(\"True Value\")\n",
        "\n",
        "# Add a reference line\n",
        "plt.plot([0, 0.1], [0, 0.1], \"r--\")  # Assuming the range of values is -60 to 60, adjust as needed\n",
        "\n",
        "# Show the plot\n",
        "plt.show()"
      ],
      "metadata": {
        "colab": {
          "base_uri": "https://localhost:8080/",
          "height": 883
        },
        "id": "_a4KF_RAPs2H",
        "outputId": "860acc36-5a34-4b51-cc6f-20885dfa526a"
      },
      "execution_count": null,
      "outputs": [
        {
          "output_type": "stream",
          "name": "stdout",
          "text": [
            "24/24 [==============================] - 4s 159ms/step\n",
            "[0.01753137]\n",
            "0.04581253201964348\n",
            "[0.03685854]\n",
            "0.035091358243902145\n",
            "[0.03686155]\n",
            "0.019425027160813655\n",
            "[0.03512993]\n",
            "0.023563622836356286\n",
            "[0.03504461]\n",
            "0.034026999709255636\n",
            "[0.0525687]\n",
            "0.08869409321693661\n",
            "[0.02866]\n",
            "0.07770218072903522\n",
            "[0.04326495]\n",
            "0.1154099091960989\n",
            "[0.033433]\n",
            "0.014140393112971727\n",
            "[0.03369978]\n",
            "0.08869409321693661\n",
            "[0.03082199]\n",
            "0.03898425183181553\n",
            "[0.03534913]\n",
            "0.011570060642888829\n"
          ]
        },
        {
          "output_type": "display_data",
          "data": {
            "text/plain": [
              "<Figure size 640x480 with 1 Axes>"
            ],
            "image/png": "[encoded data removed]"
          },
          "metadata": {}
        }
      ]
    },
    {
      "cell_type": "code",
      "source": [
        "from google.colab import drive\n",
        "import shutil\n",
        "# Mount Google Drive\n",
        "shutil.rmtree('/content/drive', ignore_errors=True)\n",
        "drive.mount('/content/drive')\n",
        "# Save the model to Google Drive\n",
        "model.save('/content/drive/MyDrive/path/to/save/model.h5')"
      ],
      "metadata": {
        "colab": {
          "base_uri": "https://localhost:8080/"
        },
        "id": "YxgkZ5KF6R05",
        "outputId": "b661fa12-47bc-423d-83a4-7d090dfe4bea"
      },
      "execution_count": null,
      "outputs": [
        {
          "output_type": "stream",
          "name": "stdout",
          "text": [
            "Mounted at /content/drive\n"
          ]
        }
      ]
    }
  ],
  "metadata": {
    "colab": {
      "provenance": [],
      "gpuType": "T4"
    },
    "kernelspec": {
      "display_name": "Python 3",
      "name": "python3"
    },
    "language_info": {
      "name": "python"
    },
    "accelerator": "GPU"
  },
  "nbformat": 4,
  "nbformat_minor": 0
}