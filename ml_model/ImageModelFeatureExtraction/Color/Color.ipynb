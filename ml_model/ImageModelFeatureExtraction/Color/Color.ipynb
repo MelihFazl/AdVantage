{
  "nbformat": 4,
  "nbformat_minor": 0,
  "metadata": {
    "colab": {
      "provenance": []
    },
    "kernelspec": {
      "name": "python3",
      "display_name": "Python 3"
    },
    "language_info": {
      "name": "python"
    }
  },
  "cells": [
    {
      "cell_type": "markdown",
      "source": [],
      "metadata": {
        "id": "mJthDAFy8muf"
      }
    },
    {
      "cell_type": "code",
      "source": [
        "from PIL import Image, ImageColor\n",
        "import numpy as np\n",
        "from matplotlib import pyplot as plt\n",
        "import seaborn as sns\n",
        "import pandas as pd\n",
        "from scipy.spatial import KDTree\n",
        "import os\n",
        "import warnings\n",
        "\n",
        "# Filter out the specific FutureWarning from seaborn\n",
        "warnings.filterwarnings('ignore', category=FutureWarning, message='Passing `palette` without assigning `hue`.*')\n",
        "\n",
        "# Your color and KDTree initialization remains the same.\n",
        "colors = ['#000000', '#000033', '#000066', '#000099', '#0000CC', '#0000FF',\n",
        "          '#003300', '#003333', '#003366', '#003399', '#0033CC', '#0033FF',\n",
        "          '#006600', '#006633', '#006666', '#006699', '#0066CC', '#0066FF',\n",
        "          '#009900', '#009933', '#009966', '#009999', '#0099CC', '#0099FF',\n",
        "          '#00CC00', '#00CC33', '#00CC66', '#00CC99', '#00CCCC', '#00CCFF',\n",
        "          '#00FF00', '#00FF33', '#00FF66', '#00FF99', '#00FFCC', '#00FFFF',\n",
        "          '#330000', '#330033', '#330066', '#330099', '#3300CC', '#3300FF',\n",
        "          '#333300', '#333333', '#333366', '#333399', '#3333CC', '#3333FF',\n",
        "          '#336600', '#336633', '#336666', '#336699', '#3366CC', '#3366FF',\n",
        "          '#339900', '#339933', '#339966', '#339999', '#3399CC', '#3399FF',\n",
        "          '#33CC00', '#33CC33', '#33CC66', '#33CC99', '#33CCCC', '#33CCFF',\n",
        "          '#33FF00', '#33FF33', '#33FF66', '#33FF99', '#33FFCC', '#33FFFF',\n",
        "          '#660000', '#660033', '#660066', '#660099', '#6600CC', '#6600FF',\n",
        "          '#663300', '#663333', '#663366', '#663399', '#6633CC', '#6633FF',\n",
        "          '#666600', '#666633', '#666666', '#666699', '#6666CC', '#6666FF',\n",
        "          '#669900', '#669933', '#669966', '#669999', '#6699CC', '#6699FF',\n",
        "          '#66CC00', '#66CC33', '#66CC66', '#66CC99', '#66CCCC', '#66CCFF',\n",
        "          '#66FF00', '#66FF33', '#66FF66', '#66FF99', '#66FFCC', '#66FFFF',\n",
        "          '#990000', '#990033', '#990066', '#990099', '#9900CC', '#9900FF',\n",
        "          '#993300', '#993333', '#993366', '#993399', '#9933CC', '#9933FF',\n",
        "          '#996600', '#996633', '#996666', '#996699', '#9966CC', '#9966FF',\n",
        "          '#999900', '#999933', '#999966', '#999999', '#9999CC', '#9999FF',\n",
        "          '#99CC00', '#99CC33', '#99CC66', '#99CC99', '#99CCCC', '#99CCFF',\n",
        "          '#99FF00', '#99FF33', '#99FF66', '#99FF99', '#99FFCC', '#99FFFF',\n",
        "          '#CC0000', '#CC0033', '#CC0066', '#CC0099', '#CC00CC', '#CC00FF',\n",
        "          '#CC3300', '#CC3333', '#CC3366', '#CC3399', '#CC33CC', '#CC33FF',\n",
        "          '#CC6600', '#CC6633', '#CC6666', '#CC6699', '#CC66CC', '#CC66FF',\n",
        "          '#CC9900', '#CC9933', '#CC9966', '#CC9999', '#CC99CC', '#CC99FF',\n",
        "          '#CCCC00', '#CCCC33', '#CCCC66', '#CCCC99', '#CCCCCC', '#CCCCFF',\n",
        "          '#CCFF00', '#CCFF33', '#CCFF66', '#CCFF99', '#CCFFCC', '#CCFFFF',\n",
        "          '#FF0000', '#FF0033', '#FF0066', '#FF0099', '#FF00CC', '#FF00FF',\n",
        "          '#FF3300', '#FF3333', '#FF3366', '#FF3399', '#FF33CC', '#FF33FF',\n",
        "          '#FF6600', '#FF6633', '#FF6666', '#FF6699', '#FF66CC', '#FF66FF',\n",
        "          '#FF9900', '#FF9933', '#FF9966', '#FF9999', '#FF99CC', '#FF99FF',\n",
        "          '#FFCC00', '#FFCC33', '#FFCC66', '#FFCC99', '#FFCCCC', '#FFCCFF',\n",
        "          '#FFFF00', '#FFFF33', '#FFFF66', '#FFFF99', '#FFFFCC', '#FFFFFF']\n",
        "\n",
        "colors_rgb = list(map(ImageColor.getrgb, colors))\n",
        "approximate_color = KDTree(colors_rgb)\n",
        "\n",
        "def to_hex(rgb):\n",
        "    rgb = tuple(int(c) for c in rgb)\n",
        "    return '#%02x%02x%02x' % rgb\n",
        "\n",
        "def nearest_color(rgbcolor):\n",
        "    _, ind = approximate_color.query(rgbcolor)\n",
        "    nearest_rgb = tuple(int(c) for c in approximate_color.data[ind])\n",
        "    return to_hex(nearest_rgb)\n",
        "\n",
        "def freqs_to_frame(freqs):\n",
        "    tbl = [(c, freqs[c]) for c in freqs]\n",
        "    tbl = pd.DataFrame(tbl, columns=('color', 'frequency'))\n",
        "    return tbl.sort_values(by='frequency', ascending=False)[0:10]\n",
        "\n",
        "def generate_color_histogram(image_path):\n",
        "    img = Image.open(image_path).convert(\"RGBA\")\n",
        "    m, n = img.size\n",
        "    color_freqs = {}\n",
        "    npix = 0\n",
        "\n",
        "    for i in range(m):\n",
        "        for j in range(n):\n",
        "            p = img.getpixel((i, j))\n",
        "            if len(p) == 4 and p[3] == 0:\n",
        "                continue\n",
        "            p_rgb = p[0:3]\n",
        "            p = nearest_color(p_rgb)\n",
        "            if p in color_freqs:\n",
        "                color_freqs[p] += 1\n",
        "            else:\n",
        "                color_freqs[p] = 1\n",
        "            npix += 1\n",
        "\n",
        "    for key in color_freqs:\n",
        "        color_freqs[key] /= npix\n",
        "\n",
        "    return freqs_to_frame(color_freqs)\n",
        "\n",
        "def save_barplot(color_frame, filename):\n",
        "    plt.figure(figsize=(10, 6))\n",
        "    sns.barplot(data=color_frame, x='color', y='frequency', hue='color', dodge=False, palette=color_frame['color'].tolist(), legend=False)\n",
        "    plt.xticks(rotation=45)\n",
        "    plt.xlabel(\"\")\n",
        "    plt.ylabel(\"\")\n",
        "    plt.savefig(filename)\n",
        "    plt.close()  # Make sure this is commented out if you want to display the plot in a Jupyter Notebook\n",
        "    # plt.show()  # Uncomment this line for debugging to display the plot\n",
        "\n",
        "\n",
        "def create_barplots_for_ads(directory):\n",
        "    try:\n",
        "        os.makedirs('barplots/')\n",
        "    except FileExistsError:\n",
        "        pass\n",
        "\n",
        "    for filename in os.listdir(directory):\n",
        "        if filename.endswith(('.png', '.jpg', '.jpeg')):\n",
        "            image_path = os.path.join(directory, filename)\n",
        "            color_frame = generate_color_histogram(image_path)\n",
        "            plot_filename = os.path.join('barplots/', filename.split('.')[0] + '_barplot.png')\n",
        "            save_barplot(color_frame, plot_filename)\n",
        "\n",
        "\n"
      ],
      "metadata": {
        "id": "PC5nJ3k25IIF"
      },
      "execution_count": 24,
      "outputs": []
    },
    {
      "cell_type": "code",
      "source": [
        "# Google Colab drive mounting and directory settings remain unchanged\n",
        "from google.colab import drive\n",
        "drive.mount('/content/drive')\n",
        "directory = \"/content/drive/My Drive/Ads\"  # Make sure this path is correct\n",
        "\n"
      ],
      "metadata": {
        "colab": {
          "base_uri": "https://localhost:8080/"
        },
        "id": "GAt8NtBi8qDO",
        "outputId": "758e5089-b1b6-482c-ded4-f0c14088b57e"
      },
      "execution_count": 28,
      "outputs": [
        {
          "output_type": "stream",
          "name": "stdout",
          "text": [
            "Drive already mounted at /content/drive; to attempt to forcibly remount, call drive.mount(\"/content/drive\", force_remount=True).\n"
          ]
        }
      ]
    },
    {
      "cell_type": "code",
      "source": [
        "create_barplots_for_ads(directory)"
      ],
      "metadata": {
        "id": "kaZ-urch8vXs"
      },
      "execution_count": null,
      "outputs": []
    }
  ]
}